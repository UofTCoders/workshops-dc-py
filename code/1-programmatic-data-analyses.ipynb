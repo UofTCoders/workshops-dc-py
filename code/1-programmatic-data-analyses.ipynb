{
 "cells": [
  {
   "cell_type": "markdown",
   "metadata": {},
   "source": [
    "## Lesson preamble\n",
    "\n",
    "### Lesson objectives\n",
    "\n",
    "- To give students an overview of the capabilities of Python and how to use the\n",
    "  JupyterLab for exploratory data analyses.\n",
    "- Learn about some differences between Python and Excel.\n",
    "- Learn some basic Python commands.\n",
    "- Learn about the Markdown syntax and how to use it within the Jupyter Notebook.\n",
    "\n",
    "### Lesson outline\n",
    "\n",
    "- Communicating with computers (5 min)\n",
    "    - Advantages of text-based communication (10 min)\n",
    "    - Speaking Python (5 min)\n",
    "    - Natural and formal languages (10 min)\n",
    "- The Jupyter Notebook (20 min)\n",
    "- Data analysis in Python (5 min)\n",
    "    - Packages (5 min)\n",
    "    - How to get help (5 min)\n",
    "    - Exploring data with `pandas` (10 min)\n",
    "    - Visualizing data with `seaborn` (10 min)"
   ]
  },
  {
   "cell_type": "markdown",
   "metadata": {},
   "source": [
    "The aim of this workshop is to teach you basic concepts, skills, and tools for working with data so that you can get more done in less time, and while having more fun. We will show you how to use the programming language Python to replace many of the tasks you would normally do in spreadsheet software such as Excel, and also do more advanced analysis. This first section will be a brief introduction to communicating with your computer via text rather than by pointing and clicking in a graphical user interface, which might be what you are used to.\n",
    "\n",
    "## Communicating with computers\n",
    "\n",
    "Before we get into practically doing things, I want to give some background to the idea of computing. Essentially, computing is about humans communicating with the computer to modulate flows of current in the hardware, in order to get the computer to carry out advanced calculations that we are unable to efficiently compute ourselves. Early examples of human-computer communication was quite primitive and included actually disconnecting a wire and connecting it again in a different spot. Luckily, we are not doing this anymore, instead we have graphical user interfaces with menus and buttons, which is what you are commonly using on your laptop. These graphical interfaces can be thought of as a layer or shell around the internal components of your operating system and they exist as a middle man making it easier for us to express our thoughts, and for computers to interpret them.\n",
    "\n",
    "An example of such a program that I think many of you are familiar with is spreadsheet software such as Microsoft Excel and LibreOffice Calc. Here, all the functionality of the program is accessible via hierarchical menus, and clicking buttons sends instructions to the computer, which then responds and sends the results back to your screen.\n",
    "\n",
    "Spreadsheet software is great for viewing and entering small data sets and creating simple visualizations fast. However, it can be tricky to design publication-ready figures, create automatic reproducible analysis workflows, perform advanced calculations, and reliably clean data sets. Even when using a spreadsheet program to record data, it is often beneficial to have some some basic programming skills to facilitate the analyses of those data."
   ]
  },
  {
   "cell_type": "markdown",
   "metadata": {},
   "source": [
    "### Advantages of text-based communication\n",
    "\n",
    "Today, we will learn about communicating to your computer via text, rather than graphical point and click. Typing instruction to the computer might at first seems counterintuitive, why do we need it when it is so easy to point and click with the mouse?  Well, graphical user interfaces can be nice when you are new to something, but text based interfaces are more powerful, faster and actually also easier to use once you get comfortable with them.\n",
    "\n",
    "We can compare it to learning a language, in the beginning it's nice to look things up in a dictionary (or a menu in a graphical program), and slowly string together sentences one word at a time. But once we become more proficient in the language and know what we want to say, it is easier to say or type it directly, instead of having to look up every word in the dictionary first. By extension, it would be even faster to speak or just think of what you want to do and have it executed by the computer, this is what speech- and brain-computer interfaces are concerned with.\n",
    "\n",
    "Text interfaces are also less resource intensive than their graphical counterparts and easier to develop programs for since you don't have to code the graphical components. Very important, is that it is easy to automate and repeat any task once you have all the instructions written down. This facilitates reproducibility of analysis, not only between studies from different labs, but also between researchers in the same lab: compare being shown how to perform a certain analysis in spreadsheet software, where the instruction will essentially be \"first you click here, then here, then here...\", with being handed the same workflow written down in several lines of codes which you can analyze and understand at your own pace. \n",
    "\n",
    "Since text is the easiest way for people who are fluent in computer languages to interact with computer, many powerful programs are written without a graphical user interface (which makes it faster to create these programs) and to use these programs you often need to know how to use a text interface. For example, many the best data analysis and machine learning packages are written in Python or R, and you need to know these languages to use them. Even if the program or package you want to use is not written in Python, much of the knowledge you gain from understanding one programming language can be transferred to others. In addition, most powerful computers that you can log into remotely might only give you a text interface to work with and there is no way to launch a graphical user interface."
   ]
  },
  {
   "cell_type": "markdown",
   "metadata": {},
   "source": [
    "### Speaking Python\n",
    "\n",
    "To communicate with the computer via Python, we first need to open the Python interpreter. This will *interpret* our typed commands into machine language so that the computer can understand it. On Windows open the `Anaconda Prompt`, on MacOS open `terminal.app`, and on Linux open whichever terminal you prefer (e.g. `gnome-terminal` or `konsole`). Then type in `python` and hit <kbd>Enter</kbd>. You should see something like this:\n",
    "\n",
    "```\n",
    "Python 3.6.5 | packaged by conda-forge | (default, Apr  6 2018, 13:39:56)\n",
    "[GCC 4.8.2 20140120 (Red Hat 4.8.2-15)] on linux\n",
    "Type \"help\", \"copyright\", \"credits\" or \"license\" for more information.\n",
    ">>> \n",
    "```\n",
    "\n",
    "There should be a blinking cursor after the `>>>`, which is *prompting* you to enter a command (for this reason, the interpreter can also be referred to as a \"prompt\"). Now let's speak Python!\n",
    "\n",
    "### Natural and formal languages\n",
    "\n",
    "While English and other spoken language are referred to as \"natural\" languages, computer languages are said to be \"formal\" languages. You might think it is quite tricky to learn formal languages, but it is actually not! You already know one: mathematics, which in fact written largely the same way in Python as you would write it by hand. "
   ]
  },
  {
   "cell_type": "code",
   "execution_count": 1,
   "metadata": {},
   "outputs": [
    {
     "data": {
      "text/plain": [
       "9"
      ]
     },
     "execution_count": 1,
     "metadata": {},
     "output_type": "execute_result"
    }
   ],
   "source": [
    "4 + 5"
   ]
  },
  {
   "cell_type": "markdown",
   "metadata": {},
   "source": [
    "The Python interpreter returns the result directly under our input and prompts us to enter new instructions. This is another strength of using Python for data analysis, some programming languages requires an additional step where the typed instructions are *compiled* into machine language and saved as a separate file that they computer can run. Although compiling code often results in faster execution time, Python allows us to very quickly experiment and test new code, which is where most of the time is spent when doing exploratory data analysis.\n",
    "\n",
    "The sparseness in the input `4 + 5` is much more efficient than typing \"Hello computer, could you please add 4 and 5 for me?\". Formal computer languages also avoid the ambiguity present in natural languages such as English. You can think of Python as a combination of math and a formal, succinct version of English. Since it is designed to reduce ambiguity, Python lacks the edge cases and special rules that can make English so difficult to learn, and there is almost always a logical reason for how the Python language is designed, not only a historical one.\n",
    "\n",
    "The syntax for assigning a value to a variable is also similar to how this is written in math."
   ]
  },
  {
   "cell_type": "code",
   "execution_count": 2,
   "metadata": {},
   "outputs": [],
   "source": [
    "a = 4"
   ]
  },
  {
   "cell_type": "code",
   "execution_count": 3,
   "metadata": {},
   "outputs": [
    {
     "data": {
      "text/plain": [
       "8"
      ]
     },
     "execution_count": 3,
     "metadata": {},
     "output_type": "execute_result"
    }
   ],
   "source": [
    "a * 2"
   ]
  },
  {
   "cell_type": "markdown",
   "metadata": {},
   "source": [
    "In my experience, learning programming really is similar to learning a foreign language - you will often learn the most from just trying to do something and receiving feedback (from the computer or another person)! When there is something you can't wrap you head around, or if you are actively trying to find a new way of expressing a thought, then look it up, just as you would with a natural language."
   ]
  },
  {
   "cell_type": "markdown",
   "metadata": {},
   "source": [
    "## The Jupyter Notebook\n",
    "\n",
    "Although the Python interpreter is very powerful, it is commonly bundled with other useful tools in interfaces specifically designed for exploratory data analysis. One such interface is the Jupyter Notebook, which is what we will be using today. Open it by running `juptyerlab` from the terminal, or by finding it in the `Anaconda navigator` from your operating system menu. This should output some text in the terminal and open new tab in your default browser.\n",
    "\n",
    "Jupyter originates from a project called IPython, an effort to make Python development more interactive. Since its inception, the scope of the project expanded to include additional programming languages, such as Julia, Python, and R, so the name was changed to \"Jupyter\" as a reference to these core languages. Today, Jupyter supports many more languages, but we will be using it only for Python code. Specifically, we will be using the notebook from Jupyter, which allows us to easily take notes about our analysis and view plots within the same document where we code. This facilitates sharing and reproducibility of analyses, and the notebook interface is easily accessible through any web browser as well as exportable as a PDF or HTML page.\n",
    "\n",
    "In the new browser tab, click the plus sign to the left and select to create a new notebook in the Python language (also `File --> New --> Notebook`). A new notebook has no name other than \"Untitled\". If you click on \"Untitled\" you will be given the option of changing the name to whatever you want. The notebook is divided into cells. Initially there will be a single input cell. You can type Python code directly into the cell, just as we did before. To run the output, press <kbd>Shift</kbd> + <kbd>Enter</kbd> or click the play button in the toolbar."
   ]
  },
  {
   "cell_type": "code",
   "execution_count": 4,
   "metadata": {},
   "outputs": [
    {
     "data": {
      "text/plain": [
       "9"
      ]
     },
     "execution_count": 4,
     "metadata": {},
     "output_type": "execute_result"
    }
   ],
   "source": [
    "4 + 5"
   ]
  },
  {
   "cell_type": "markdown",
   "metadata": {},
   "source": [
    "By default, the code in the current cell is interpreted and the next existing cell is selected or a new empty one is created (you can press <kbd>Ctrl</kbd> + <kbd>Enter</kbd> to stay on the current cell). You can split the code across several lines as needed. "
   ]
  },
  {
   "cell_type": "code",
   "execution_count": 5,
   "metadata": {},
   "outputs": [
    {
     "data": {
      "text/plain": [
       "8"
      ]
     },
     "execution_count": 5,
     "metadata": {},
     "output_type": "execute_result"
    }
   ],
   "source": [
    "a = 4\n",
    "a * 2"
   ]
  },
  {
   "cell_type": "markdown",
   "metadata": {},
   "source": [
    "The little counter on the left of each cell keeps track of in which order the cells were executed, and changing to an `*` when the computer is processing the computation (only noticeable for computation that takes longer time). If the `*` is shown for a really long time, the Python kernel might have frozen and needs to be restarted, which can be done via the circular arrow button in the toolbar. Cells can be reordered by click and drag with the mouse, and copy and paste is available via right mouse click. The shortcut keys in the right click menu are referring to the Jupyter Command mode, which is not that important to know about when just starting out, but can be interesting to look into if you like keyboard shortcuts.\n",
    "\n",
    "The notebook is saved automatically, but it can also be done manually from the toolbar or by hitting <kbd>Ctrl</kbd> + <kbd>s</kbd>. Both the input and the output cells are saved so any plots that you make will be present in the notebook next time you open it up without the need to rerun any code. This allows you to create complete documents with both your code and the output of the code in a single place instead of spread across text files for your codes and separate image files for each of your graphs.\n",
    "\n",
    "You can also change the cell type from Python code to Markdown using the Cell | Cell Type option. Markdown is a simple formatting system which allows you to create documentation for your code, again all within the same notebook structure. You might already be familiar with markdown if you have typed comments in online forums or use use a chat app like slack or whatsapp. A short example of the syntax:\n",
    "\n",
    "```markdown\n",
    "# Heading level one\n",
    "\n",
    "- A bullet point\n",
    "- *Emphasis in italics*\n",
    "- **Strong emphasis in bold**\n",
    "\n",
    "This is a [link to learn more about markdown](https://guides.github.com/features/mastering-markdown/)\n",
    "```\n",
    "\n",
    "\n",
    "The Notebook itself is stored as a JSON file with an .ipynb extension. These are specially formatted text files, which can be exported and imported into another Jupyter system. This allows you to share your code, results, and documentation with others. You can also export the notebook to HTML, PDF, and many other formats to make sharing even easier! This is done via `File --> Export Notebook As...` (The first time trying to export to PDF, there might\n",
    " be an error message with instructions on how to install TeX. Follow those instructions and the n try exporting again. If it is still not working, click `Help --> Launch Classic Notebook` and try exporting the same way as before)\n",
    "\n",
    "\n",
    "The data analysis environment provided by the Jupyter Notebook is very powerful and facilitates reproducible analysis. It is possible to write an entire paper in this environment, and it is very handy for reports, such as progress updates since you can share your comments on the analysis together with the analysis itself.\n",
    "\n",
    "It is also possible to open up other document types in the JupyterLab interface, e.g. text documents and terminals. These can be placed side by side with the notebook through drag and drop, and all running programs can be viewed in the \"Running\" tab to the left. To search among all available commands for the notebook, the \"Commands\" tab can be used. Existing documents can be opened from the \"Files\" tab.\n",
    "\n",
    "Although the notebook is running in a web browser, there is no need to have an active Internet connection to use it. After downloading and installing JupyterLab (e.g. via Anaconda), all the files necessary to run JupyterLab are stored locally and the browser is simply used to view these files."
   ]
  },
  {
   "cell_type": "markdown",
   "metadata": {},
   "source": [
    "## Data analysis in Python\n",
    "\n",
    "To access additional functionality in a spreadsheet program, you need to click the menu and select the tool you want to use. All charts are in one menu, text layout tools in another, data analyses tools in a third, and so on. Programming languages such as Python have so many tools and functions so that they would not fit in a menu. Instead of clicking `File -> Open` and chose the file, you would type something similar to `file.open('<filename>')` in a programming language. Don't worry if you forget the exact expression, it is often enough to just type the few first letters and then hit <kbd>Tab</kbd>, to show the available options, more on that later.\n",
    "\n",
    "\n",
    "### Packages\n",
    "\n",
    "Since there are so many functions available in Python, it is unnecessary to include all of them with the default installation of the programming language (it would be as if your new phone came with every single app preinstalled). Instead, more advanced functionality is grouped into separate packages, which can be accessed by typing `import <package_name>` in Python. The Anaconda Python distribution essentially bundles the core Python language with many of the most effective Python packages for data analysis, but other packages need to be downloaded before they can be used, just like downloading an addon to a browser or mobile phone.\n",
    "\n",
    "Just like in spreadsheet software menus, there are lots of different tools within each Python package. For example, if I want to use numerical Python functions, I can import the **num**erical **py**thon module, `numpy`. I can then access any function by writing `numpy.<function_name>`."
   ]
  },
  {
   "cell_type": "code",
   "execution_count": 6,
   "metadata": {},
   "outputs": [
    {
     "data": {
      "text/plain": [
       "3.0"
      ]
     },
     "execution_count": 6,
     "metadata": {},
     "output_type": "execute_result"
    }
   ],
   "source": [
    "import numpy\n",
    "\n",
    "numpy.mean([1, 2, 3, 4, 5])"
   ]
  },
  {
   "cell_type": "markdown",
   "metadata": {},
   "source": [
    "### How to get help\n",
    "\n",
    "Once you start out using Python, you don't know what functions are availble within each package. Luckily, in the Jupyter Notebook, you can type `numpy.`<kbd>Tab</kbd> (that is numpy + period + tab-key) and a small menu will pop up that shows you all the available functions in that module. This is analogous to clicking a 'numpy-menu' and then going through the list of functions. As I mentioned earlier, there are plenty of available functions and it can be helpful to filter the menu by typing the initial letters of the function name.\n",
    "\n",
    "To get more info on the function you want to use, you can type out the full name and then press <kbd>Shift + Tab</kbd> once to bring up a help dialogue and again to expand that dialogue. We can see that to use this function, we need to supply it with the argument `a`, which should be 'array-like'. An array is essentially just a sequence of numbers. We just saw that one way of doing this was to enclose numbers in brackets `[]`, which in Python means that these numbers are in a list, something you will hear more about later. Instead of manually activating the menu every time, the JupyterLab  offers a tool called the \"Inspector\" which displays help information automatically. I find this very useful and always have it open next to my Notebook. More help is available via the \"Help\" menu, which links to useful online resources (for example `Help --> Numpy Reference`).\n",
    "\n",
    "When you start getting familiar with typing function names, you will notice that this is often faster than looking for functions in menus. However, sometimes you forget and it is useful to get hints via the help system described above.\n",
    "\n",
    "It is common to give packages nicknames, so that it is faster to type. This is not necessary, but can save some work in long files and make code less verbose so that it is easier to read:"
   ]
  },
  {
   "cell_type": "code",
   "execution_count": 7,
   "metadata": {},
   "outputs": [
    {
     "data": {
      "text/plain": [
       "3.0"
      ]
     },
     "execution_count": 7,
     "metadata": {},
     "output_type": "execute_result"
    }
   ],
   "source": [
    "import numpy as np\n",
    "\n",
    "np.mean([1, 2, 3, 4, 5])"
   ]
  },
  {
   "cell_type": "markdown",
   "metadata": {},
   "source": [
    "### Exploring data with the `pandas` package \n",
    "\n",
    "The Python package that is most commonly used to perform exploratory data analysis with spreadsheet-like data is called `pandas`. The name is derived from \"panel data\", an econometrics term for multidimensional structured data sets. Data are easily loaded into `pandas` from `.csv` or other spreadsheet formats. The format `pandas` uses to represent this data is called a data frame.\n",
    "\n",
    "For this section of the tutorial, the goal is to understand the concepts of data analysis in Python and how they are different from analyzing data frame,in graphical programs. There fore, it is recommend to not code along, but rather try to get a feel for the overall workflow. All these steps will be covered in detail during later sections in the tutorial.\n",
    "\n",
    "I do not have any good data set lying around, so I will load a public dataset from the web (you can view the data by pasting the url into your browser). This sample data set describes the length and width of sepals and petals for three species of iris flowers. When you open a file in a graphical spreadsheet program, it will immediately display the content in the window. Likewise, Python will display the information of the data set when you read it in. "
   ]
  },
  {
   "cell_type": "code",
   "execution_count": 8,
   "metadata": {},
   "outputs": [
    {
     "data": {
      "text/html": [
       "<div>\n",
       "<style scoped>\n",
       "    .dataframe tbody tr th:only-of-type {\n",
       "        vertical-align: middle;\n",
       "    }\n",
       "\n",
       "    .dataframe tbody tr th {\n",
       "        vertical-align: top;\n",
       "    }\n",
       "\n",
       "    .dataframe thead th {\n",
       "        text-align: right;\n",
       "    }\n",
       "</style>\n",
       "<table border=\"1\" class=\"dataframe\">\n",
       "  <thead>\n",
       "    <tr style=\"text-align: right;\">\n",
       "      <th></th>\n",
       "      <th>sepal_length</th>\n",
       "      <th>sepal_width</th>\n",
       "      <th>petal_length</th>\n",
       "      <th>petal_width</th>\n",
       "      <th>species</th>\n",
       "    </tr>\n",
       "  </thead>\n",
       "  <tbody>\n",
       "    <tr>\n",
       "      <th>0</th>\n",
       "      <td>5.1</td>\n",
       "      <td>3.5</td>\n",
       "      <td>1.4</td>\n",
       "      <td>0.2</td>\n",
       "      <td>setosa</td>\n",
       "    </tr>\n",
       "    <tr>\n",
       "      <th>1</th>\n",
       "      <td>4.9</td>\n",
       "      <td>3.0</td>\n",
       "      <td>1.4</td>\n",
       "      <td>0.2</td>\n",
       "      <td>setosa</td>\n",
       "    </tr>\n",
       "    <tr>\n",
       "      <th>2</th>\n",
       "      <td>4.7</td>\n",
       "      <td>3.2</td>\n",
       "      <td>1.3</td>\n",
       "      <td>0.2</td>\n",
       "      <td>setosa</td>\n",
       "    </tr>\n",
       "    <tr>\n",
       "      <th>3</th>\n",
       "      <td>4.6</td>\n",
       "      <td>3.1</td>\n",
       "      <td>1.5</td>\n",
       "      <td>0.2</td>\n",
       "      <td>setosa</td>\n",
       "    </tr>\n",
       "    <tr>\n",
       "      <th>4</th>\n",
       "      <td>5.0</td>\n",
       "      <td>3.6</td>\n",
       "      <td>1.4</td>\n",
       "      <td>0.2</td>\n",
       "      <td>setosa</td>\n",
       "    </tr>\n",
       "    <tr>\n",
       "      <th>5</th>\n",
       "      <td>5.4</td>\n",
       "      <td>3.9</td>\n",
       "      <td>1.7</td>\n",
       "      <td>0.4</td>\n",
       "      <td>setosa</td>\n",
       "    </tr>\n",
       "    <tr>\n",
       "      <th>6</th>\n",
       "      <td>4.6</td>\n",
       "      <td>3.4</td>\n",
       "      <td>1.4</td>\n",
       "      <td>0.3</td>\n",
       "      <td>setosa</td>\n",
       "    </tr>\n",
       "    <tr>\n",
       "      <th>7</th>\n",
       "      <td>5.0</td>\n",
       "      <td>3.4</td>\n",
       "      <td>1.5</td>\n",
       "      <td>0.2</td>\n",
       "      <td>setosa</td>\n",
       "    </tr>\n",
       "    <tr>\n",
       "      <th>8</th>\n",
       "      <td>4.4</td>\n",
       "      <td>2.9</td>\n",
       "      <td>1.4</td>\n",
       "      <td>0.2</td>\n",
       "      <td>setosa</td>\n",
       "    </tr>\n",
       "    <tr>\n",
       "      <th>9</th>\n",
       "      <td>4.9</td>\n",
       "      <td>3.1</td>\n",
       "      <td>1.5</td>\n",
       "      <td>0.1</td>\n",
       "      <td>setosa</td>\n",
       "    </tr>\n",
       "    <tr>\n",
       "      <th>10</th>\n",
       "      <td>5.4</td>\n",
       "      <td>3.7</td>\n",
       "      <td>1.5</td>\n",
       "      <td>0.2</td>\n",
       "      <td>setosa</td>\n",
       "    </tr>\n",
       "    <tr>\n",
       "      <th>11</th>\n",
       "      <td>4.8</td>\n",
       "      <td>3.4</td>\n",
       "      <td>1.6</td>\n",
       "      <td>0.2</td>\n",
       "      <td>setosa</td>\n",
       "    </tr>\n",
       "    <tr>\n",
       "      <th>12</th>\n",
       "      <td>4.8</td>\n",
       "      <td>3.0</td>\n",
       "      <td>1.4</td>\n",
       "      <td>0.1</td>\n",
       "      <td>setosa</td>\n",
       "    </tr>\n",
       "    <tr>\n",
       "      <th>13</th>\n",
       "      <td>4.3</td>\n",
       "      <td>3.0</td>\n",
       "      <td>1.1</td>\n",
       "      <td>0.1</td>\n",
       "      <td>setosa</td>\n",
       "    </tr>\n",
       "    <tr>\n",
       "      <th>14</th>\n",
       "      <td>5.8</td>\n",
       "      <td>4.0</td>\n",
       "      <td>1.2</td>\n",
       "      <td>0.2</td>\n",
       "      <td>setosa</td>\n",
       "    </tr>\n",
       "    <tr>\n",
       "      <th>15</th>\n",
       "      <td>5.7</td>\n",
       "      <td>4.4</td>\n",
       "      <td>1.5</td>\n",
       "      <td>0.4</td>\n",
       "      <td>setosa</td>\n",
       "    </tr>\n",
       "    <tr>\n",
       "      <th>16</th>\n",
       "      <td>5.4</td>\n",
       "      <td>3.9</td>\n",
       "      <td>1.3</td>\n",
       "      <td>0.4</td>\n",
       "      <td>setosa</td>\n",
       "    </tr>\n",
       "    <tr>\n",
       "      <th>17</th>\n",
       "      <td>5.1</td>\n",
       "      <td>3.5</td>\n",
       "      <td>1.4</td>\n",
       "      <td>0.3</td>\n",
       "      <td>setosa</td>\n",
       "    </tr>\n",
       "    <tr>\n",
       "      <th>18</th>\n",
       "      <td>5.7</td>\n",
       "      <td>3.8</td>\n",
       "      <td>1.7</td>\n",
       "      <td>0.3</td>\n",
       "      <td>setosa</td>\n",
       "    </tr>\n",
       "    <tr>\n",
       "      <th>19</th>\n",
       "      <td>5.1</td>\n",
       "      <td>3.8</td>\n",
       "      <td>1.5</td>\n",
       "      <td>0.3</td>\n",
       "      <td>setosa</td>\n",
       "    </tr>\n",
       "    <tr>\n",
       "      <th>20</th>\n",
       "      <td>5.4</td>\n",
       "      <td>3.4</td>\n",
       "      <td>1.7</td>\n",
       "      <td>0.2</td>\n",
       "      <td>setosa</td>\n",
       "    </tr>\n",
       "    <tr>\n",
       "      <th>21</th>\n",
       "      <td>5.1</td>\n",
       "      <td>3.7</td>\n",
       "      <td>1.5</td>\n",
       "      <td>0.4</td>\n",
       "      <td>setosa</td>\n",
       "    </tr>\n",
       "    <tr>\n",
       "      <th>22</th>\n",
       "      <td>4.6</td>\n",
       "      <td>3.6</td>\n",
       "      <td>1.0</td>\n",
       "      <td>0.2</td>\n",
       "      <td>setosa</td>\n",
       "    </tr>\n",
       "    <tr>\n",
       "      <th>23</th>\n",
       "      <td>5.1</td>\n",
       "      <td>3.3</td>\n",
       "      <td>1.7</td>\n",
       "      <td>0.5</td>\n",
       "      <td>setosa</td>\n",
       "    </tr>\n",
       "    <tr>\n",
       "      <th>24</th>\n",
       "      <td>4.8</td>\n",
       "      <td>3.4</td>\n",
       "      <td>1.9</td>\n",
       "      <td>0.2</td>\n",
       "      <td>setosa</td>\n",
       "    </tr>\n",
       "    <tr>\n",
       "      <th>25</th>\n",
       "      <td>5.0</td>\n",
       "      <td>3.0</td>\n",
       "      <td>1.6</td>\n",
       "      <td>0.2</td>\n",
       "      <td>setosa</td>\n",
       "    </tr>\n",
       "    <tr>\n",
       "      <th>26</th>\n",
       "      <td>5.0</td>\n",
       "      <td>3.4</td>\n",
       "      <td>1.6</td>\n",
       "      <td>0.4</td>\n",
       "      <td>setosa</td>\n",
       "    </tr>\n",
       "    <tr>\n",
       "      <th>27</th>\n",
       "      <td>5.2</td>\n",
       "      <td>3.5</td>\n",
       "      <td>1.5</td>\n",
       "      <td>0.2</td>\n",
       "      <td>setosa</td>\n",
       "    </tr>\n",
       "    <tr>\n",
       "      <th>28</th>\n",
       "      <td>5.2</td>\n",
       "      <td>3.4</td>\n",
       "      <td>1.4</td>\n",
       "      <td>0.2</td>\n",
       "      <td>setosa</td>\n",
       "    </tr>\n",
       "    <tr>\n",
       "      <th>29</th>\n",
       "      <td>4.7</td>\n",
       "      <td>3.2</td>\n",
       "      <td>1.6</td>\n",
       "      <td>0.2</td>\n",
       "      <td>setosa</td>\n",
       "    </tr>\n",
       "    <tr>\n",
       "      <th>...</th>\n",
       "      <td>...</td>\n",
       "      <td>...</td>\n",
       "      <td>...</td>\n",
       "      <td>...</td>\n",
       "      <td>...</td>\n",
       "    </tr>\n",
       "    <tr>\n",
       "      <th>120</th>\n",
       "      <td>6.9</td>\n",
       "      <td>3.2</td>\n",
       "      <td>5.7</td>\n",
       "      <td>2.3</td>\n",
       "      <td>virginica</td>\n",
       "    </tr>\n",
       "    <tr>\n",
       "      <th>121</th>\n",
       "      <td>5.6</td>\n",
       "      <td>2.8</td>\n",
       "      <td>4.9</td>\n",
       "      <td>2.0</td>\n",
       "      <td>virginica</td>\n",
       "    </tr>\n",
       "    <tr>\n",
       "      <th>122</th>\n",
       "      <td>7.7</td>\n",
       "      <td>2.8</td>\n",
       "      <td>6.7</td>\n",
       "      <td>2.0</td>\n",
       "      <td>virginica</td>\n",
       "    </tr>\n",
       "    <tr>\n",
       "      <th>123</th>\n",
       "      <td>6.3</td>\n",
       "      <td>2.7</td>\n",
       "      <td>4.9</td>\n",
       "      <td>1.8</td>\n",
       "      <td>virginica</td>\n",
       "    </tr>\n",
       "    <tr>\n",
       "      <th>124</th>\n",
       "      <td>6.7</td>\n",
       "      <td>3.3</td>\n",
       "      <td>5.7</td>\n",
       "      <td>2.1</td>\n",
       "      <td>virginica</td>\n",
       "    </tr>\n",
       "    <tr>\n",
       "      <th>125</th>\n",
       "      <td>7.2</td>\n",
       "      <td>3.2</td>\n",
       "      <td>6.0</td>\n",
       "      <td>1.8</td>\n",
       "      <td>virginica</td>\n",
       "    </tr>\n",
       "    <tr>\n",
       "      <th>126</th>\n",
       "      <td>6.2</td>\n",
       "      <td>2.8</td>\n",
       "      <td>4.8</td>\n",
       "      <td>1.8</td>\n",
       "      <td>virginica</td>\n",
       "    </tr>\n",
       "    <tr>\n",
       "      <th>127</th>\n",
       "      <td>6.1</td>\n",
       "      <td>3.0</td>\n",
       "      <td>4.9</td>\n",
       "      <td>1.8</td>\n",
       "      <td>virginica</td>\n",
       "    </tr>\n",
       "    <tr>\n",
       "      <th>128</th>\n",
       "      <td>6.4</td>\n",
       "      <td>2.8</td>\n",
       "      <td>5.6</td>\n",
       "      <td>2.1</td>\n",
       "      <td>virginica</td>\n",
       "    </tr>\n",
       "    <tr>\n",
       "      <th>129</th>\n",
       "      <td>7.2</td>\n",
       "      <td>3.0</td>\n",
       "      <td>5.8</td>\n",
       "      <td>1.6</td>\n",
       "      <td>virginica</td>\n",
       "    </tr>\n",
       "    <tr>\n",
       "      <th>130</th>\n",
       "      <td>7.4</td>\n",
       "      <td>2.8</td>\n",
       "      <td>6.1</td>\n",
       "      <td>1.9</td>\n",
       "      <td>virginica</td>\n",
       "    </tr>\n",
       "    <tr>\n",
       "      <th>131</th>\n",
       "      <td>7.9</td>\n",
       "      <td>3.8</td>\n",
       "      <td>6.4</td>\n",
       "      <td>2.0</td>\n",
       "      <td>virginica</td>\n",
       "    </tr>\n",
       "    <tr>\n",
       "      <th>132</th>\n",
       "      <td>6.4</td>\n",
       "      <td>2.8</td>\n",
       "      <td>5.6</td>\n",
       "      <td>2.2</td>\n",
       "      <td>virginica</td>\n",
       "    </tr>\n",
       "    <tr>\n",
       "      <th>133</th>\n",
       "      <td>6.3</td>\n",
       "      <td>2.8</td>\n",
       "      <td>5.1</td>\n",
       "      <td>1.5</td>\n",
       "      <td>virginica</td>\n",
       "    </tr>\n",
       "    <tr>\n",
       "      <th>134</th>\n",
       "      <td>6.1</td>\n",
       "      <td>2.6</td>\n",
       "      <td>5.6</td>\n",
       "      <td>1.4</td>\n",
       "      <td>virginica</td>\n",
       "    </tr>\n",
       "    <tr>\n",
       "      <th>135</th>\n",
       "      <td>7.7</td>\n",
       "      <td>3.0</td>\n",
       "      <td>6.1</td>\n",
       "      <td>2.3</td>\n",
       "      <td>virginica</td>\n",
       "    </tr>\n",
       "    <tr>\n",
       "      <th>136</th>\n",
       "      <td>6.3</td>\n",
       "      <td>3.4</td>\n",
       "      <td>5.6</td>\n",
       "      <td>2.4</td>\n",
       "      <td>virginica</td>\n",
       "    </tr>\n",
       "    <tr>\n",
       "      <th>137</th>\n",
       "      <td>6.4</td>\n",
       "      <td>3.1</td>\n",
       "      <td>5.5</td>\n",
       "      <td>1.8</td>\n",
       "      <td>virginica</td>\n",
       "    </tr>\n",
       "    <tr>\n",
       "      <th>138</th>\n",
       "      <td>6.0</td>\n",
       "      <td>3.0</td>\n",
       "      <td>4.8</td>\n",
       "      <td>1.8</td>\n",
       "      <td>virginica</td>\n",
       "    </tr>\n",
       "    <tr>\n",
       "      <th>139</th>\n",
       "      <td>6.9</td>\n",
       "      <td>3.1</td>\n",
       "      <td>5.4</td>\n",
       "      <td>2.1</td>\n",
       "      <td>virginica</td>\n",
       "    </tr>\n",
       "    <tr>\n",
       "      <th>140</th>\n",
       "      <td>6.7</td>\n",
       "      <td>3.1</td>\n",
       "      <td>5.6</td>\n",
       "      <td>2.4</td>\n",
       "      <td>virginica</td>\n",
       "    </tr>\n",
       "    <tr>\n",
       "      <th>141</th>\n",
       "      <td>6.9</td>\n",
       "      <td>3.1</td>\n",
       "      <td>5.1</td>\n",
       "      <td>2.3</td>\n",
       "      <td>virginica</td>\n",
       "    </tr>\n",
       "    <tr>\n",
       "      <th>142</th>\n",
       "      <td>5.8</td>\n",
       "      <td>2.7</td>\n",
       "      <td>5.1</td>\n",
       "      <td>1.9</td>\n",
       "      <td>virginica</td>\n",
       "    </tr>\n",
       "    <tr>\n",
       "      <th>143</th>\n",
       "      <td>6.8</td>\n",
       "      <td>3.2</td>\n",
       "      <td>5.9</td>\n",
       "      <td>2.3</td>\n",
       "      <td>virginica</td>\n",
       "    </tr>\n",
       "    <tr>\n",
       "      <th>144</th>\n",
       "      <td>6.7</td>\n",
       "      <td>3.3</td>\n",
       "      <td>5.7</td>\n",
       "      <td>2.5</td>\n",
       "      <td>virginica</td>\n",
       "    </tr>\n",
       "    <tr>\n",
       "      <th>145</th>\n",
       "      <td>6.7</td>\n",
       "      <td>3.0</td>\n",
       "      <td>5.2</td>\n",
       "      <td>2.3</td>\n",
       "      <td>virginica</td>\n",
       "    </tr>\n",
       "    <tr>\n",
       "      <th>146</th>\n",
       "      <td>6.3</td>\n",
       "      <td>2.5</td>\n",
       "      <td>5.0</td>\n",
       "      <td>1.9</td>\n",
       "      <td>virginica</td>\n",
       "    </tr>\n",
       "    <tr>\n",
       "      <th>147</th>\n",
       "      <td>6.5</td>\n",
       "      <td>3.0</td>\n",
       "      <td>5.2</td>\n",
       "      <td>2.0</td>\n",
       "      <td>virginica</td>\n",
       "    </tr>\n",
       "    <tr>\n",
       "      <th>148</th>\n",
       "      <td>6.2</td>\n",
       "      <td>3.4</td>\n",
       "      <td>5.4</td>\n",
       "      <td>2.3</td>\n",
       "      <td>virginica</td>\n",
       "    </tr>\n",
       "    <tr>\n",
       "      <th>149</th>\n",
       "      <td>5.9</td>\n",
       "      <td>3.0</td>\n",
       "      <td>5.1</td>\n",
       "      <td>1.8</td>\n",
       "      <td>virginica</td>\n",
       "    </tr>\n",
       "  </tbody>\n",
       "</table>\n",
       "<p>150 rows × 5 columns</p>\n",
       "</div>"
      ],
      "text/plain": [
       "     sepal_length  sepal_width  petal_length  petal_width    species\n",
       "0             5.1          3.5           1.4          0.2     setosa\n",
       "1             4.9          3.0           1.4          0.2     setosa\n",
       "2             4.7          3.2           1.3          0.2     setosa\n",
       "3             4.6          3.1           1.5          0.2     setosa\n",
       "4             5.0          3.6           1.4          0.2     setosa\n",
       "5             5.4          3.9           1.7          0.4     setosa\n",
       "6             4.6          3.4           1.4          0.3     setosa\n",
       "7             5.0          3.4           1.5          0.2     setosa\n",
       "8             4.4          2.9           1.4          0.2     setosa\n",
       "9             4.9          3.1           1.5          0.1     setosa\n",
       "10            5.4          3.7           1.5          0.2     setosa\n",
       "11            4.8          3.4           1.6          0.2     setosa\n",
       "12            4.8          3.0           1.4          0.1     setosa\n",
       "13            4.3          3.0           1.1          0.1     setosa\n",
       "14            5.8          4.0           1.2          0.2     setosa\n",
       "15            5.7          4.4           1.5          0.4     setosa\n",
       "16            5.4          3.9           1.3          0.4     setosa\n",
       "17            5.1          3.5           1.4          0.3     setosa\n",
       "18            5.7          3.8           1.7          0.3     setosa\n",
       "19            5.1          3.8           1.5          0.3     setosa\n",
       "20            5.4          3.4           1.7          0.2     setosa\n",
       "21            5.1          3.7           1.5          0.4     setosa\n",
       "22            4.6          3.6           1.0          0.2     setosa\n",
       "23            5.1          3.3           1.7          0.5     setosa\n",
       "24            4.8          3.4           1.9          0.2     setosa\n",
       "25            5.0          3.0           1.6          0.2     setosa\n",
       "26            5.0          3.4           1.6          0.4     setosa\n",
       "27            5.2          3.5           1.5          0.2     setosa\n",
       "28            5.2          3.4           1.4          0.2     setosa\n",
       "29            4.7          3.2           1.6          0.2     setosa\n",
       "..            ...          ...           ...          ...        ...\n",
       "120           6.9          3.2           5.7          2.3  virginica\n",
       "121           5.6          2.8           4.9          2.0  virginica\n",
       "122           7.7          2.8           6.7          2.0  virginica\n",
       "123           6.3          2.7           4.9          1.8  virginica\n",
       "124           6.7          3.3           5.7          2.1  virginica\n",
       "125           7.2          3.2           6.0          1.8  virginica\n",
       "126           6.2          2.8           4.8          1.8  virginica\n",
       "127           6.1          3.0           4.9          1.8  virginica\n",
       "128           6.4          2.8           5.6          2.1  virginica\n",
       "129           7.2          3.0           5.8          1.6  virginica\n",
       "130           7.4          2.8           6.1          1.9  virginica\n",
       "131           7.9          3.8           6.4          2.0  virginica\n",
       "132           6.4          2.8           5.6          2.2  virginica\n",
       "133           6.3          2.8           5.1          1.5  virginica\n",
       "134           6.1          2.6           5.6          1.4  virginica\n",
       "135           7.7          3.0           6.1          2.3  virginica\n",
       "136           6.3          3.4           5.6          2.4  virginica\n",
       "137           6.4          3.1           5.5          1.8  virginica\n",
       "138           6.0          3.0           4.8          1.8  virginica\n",
       "139           6.9          3.1           5.4          2.1  virginica\n",
       "140           6.7          3.1           5.6          2.4  virginica\n",
       "141           6.9          3.1           5.1          2.3  virginica\n",
       "142           5.8          2.7           5.1          1.9  virginica\n",
       "143           6.8          3.2           5.9          2.3  virginica\n",
       "144           6.7          3.3           5.7          2.5  virginica\n",
       "145           6.7          3.0           5.2          2.3  virginica\n",
       "146           6.3          2.5           5.0          1.9  virginica\n",
       "147           6.5          3.0           5.2          2.0  virginica\n",
       "148           6.2          3.4           5.4          2.3  virginica\n",
       "149           5.9          3.0           5.1          1.8  virginica\n",
       "\n",
       "[150 rows x 5 columns]"
      ]
     },
     "execution_count": 8,
     "metadata": {},
     "output_type": "execute_result"
    }
   ],
   "source": [
    "import pandas as pd\n",
    "\n",
    "pd.read_csv('https://raw.githubusercontent.com/mwaskom/seaborn-data/master/iris.csv')"
   ]
  },
  {
   "cell_type": "markdown",
   "metadata": {},
   "source": [
    "However, to do useful and interesting things to data, we need to assign this value to a variable name so that it is easy to access later. Let's save our data into an object called `iris`"
   ]
  },
  {
   "cell_type": "code",
   "execution_count": 9,
   "metadata": {},
   "outputs": [],
   "source": [
    "iris = pd.read_csv('https://raw.githubusercontent.com/mwaskom/seaborn-data/master/iris.csv')"
   ]
  },
  {
   "cell_type": "code",
   "execution_count": 10,
   "metadata": {},
   "outputs": [
    {
     "data": {
      "text/html": [
       "<div>\n",
       "<style scoped>\n",
       "    .dataframe tbody tr th:only-of-type {\n",
       "        vertical-align: middle;\n",
       "    }\n",
       "\n",
       "    .dataframe tbody tr th {\n",
       "        vertical-align: top;\n",
       "    }\n",
       "\n",
       "    .dataframe thead th {\n",
       "        text-align: right;\n",
       "    }\n",
       "</style>\n",
       "<table border=\"1\" class=\"dataframe\">\n",
       "  <thead>\n",
       "    <tr style=\"text-align: right;\">\n",
       "      <th></th>\n",
       "      <th>sepal_length</th>\n",
       "      <th>sepal_width</th>\n",
       "      <th>petal_length</th>\n",
       "      <th>petal_width</th>\n",
       "      <th>species</th>\n",
       "    </tr>\n",
       "  </thead>\n",
       "  <tbody>\n",
       "    <tr>\n",
       "      <th>0</th>\n",
       "      <td>5.1</td>\n",
       "      <td>3.5</td>\n",
       "      <td>1.4</td>\n",
       "      <td>0.2</td>\n",
       "      <td>setosa</td>\n",
       "    </tr>\n",
       "    <tr>\n",
       "      <th>1</th>\n",
       "      <td>4.9</td>\n",
       "      <td>3.0</td>\n",
       "      <td>1.4</td>\n",
       "      <td>0.2</td>\n",
       "      <td>setosa</td>\n",
       "    </tr>\n",
       "    <tr>\n",
       "      <th>2</th>\n",
       "      <td>4.7</td>\n",
       "      <td>3.2</td>\n",
       "      <td>1.3</td>\n",
       "      <td>0.2</td>\n",
       "      <td>setosa</td>\n",
       "    </tr>\n",
       "    <tr>\n",
       "      <th>3</th>\n",
       "      <td>4.6</td>\n",
       "      <td>3.1</td>\n",
       "      <td>1.5</td>\n",
       "      <td>0.2</td>\n",
       "      <td>setosa</td>\n",
       "    </tr>\n",
       "    <tr>\n",
       "      <th>4</th>\n",
       "      <td>5.0</td>\n",
       "      <td>3.6</td>\n",
       "      <td>1.4</td>\n",
       "      <td>0.2</td>\n",
       "      <td>setosa</td>\n",
       "    </tr>\n",
       "    <tr>\n",
       "      <th>5</th>\n",
       "      <td>5.4</td>\n",
       "      <td>3.9</td>\n",
       "      <td>1.7</td>\n",
       "      <td>0.4</td>\n",
       "      <td>setosa</td>\n",
       "    </tr>\n",
       "    <tr>\n",
       "      <th>6</th>\n",
       "      <td>4.6</td>\n",
       "      <td>3.4</td>\n",
       "      <td>1.4</td>\n",
       "      <td>0.3</td>\n",
       "      <td>setosa</td>\n",
       "    </tr>\n",
       "    <tr>\n",
       "      <th>7</th>\n",
       "      <td>5.0</td>\n",
       "      <td>3.4</td>\n",
       "      <td>1.5</td>\n",
       "      <td>0.2</td>\n",
       "      <td>setosa</td>\n",
       "    </tr>\n",
       "    <tr>\n",
       "      <th>8</th>\n",
       "      <td>4.4</td>\n",
       "      <td>2.9</td>\n",
       "      <td>1.4</td>\n",
       "      <td>0.2</td>\n",
       "      <td>setosa</td>\n",
       "    </tr>\n",
       "    <tr>\n",
       "      <th>9</th>\n",
       "      <td>4.9</td>\n",
       "      <td>3.1</td>\n",
       "      <td>1.5</td>\n",
       "      <td>0.1</td>\n",
       "      <td>setosa</td>\n",
       "    </tr>\n",
       "    <tr>\n",
       "      <th>10</th>\n",
       "      <td>5.4</td>\n",
       "      <td>3.7</td>\n",
       "      <td>1.5</td>\n",
       "      <td>0.2</td>\n",
       "      <td>setosa</td>\n",
       "    </tr>\n",
       "    <tr>\n",
       "      <th>11</th>\n",
       "      <td>4.8</td>\n",
       "      <td>3.4</td>\n",
       "      <td>1.6</td>\n",
       "      <td>0.2</td>\n",
       "      <td>setosa</td>\n",
       "    </tr>\n",
       "    <tr>\n",
       "      <th>12</th>\n",
       "      <td>4.8</td>\n",
       "      <td>3.0</td>\n",
       "      <td>1.4</td>\n",
       "      <td>0.1</td>\n",
       "      <td>setosa</td>\n",
       "    </tr>\n",
       "    <tr>\n",
       "      <th>13</th>\n",
       "      <td>4.3</td>\n",
       "      <td>3.0</td>\n",
       "      <td>1.1</td>\n",
       "      <td>0.1</td>\n",
       "      <td>setosa</td>\n",
       "    </tr>\n",
       "    <tr>\n",
       "      <th>14</th>\n",
       "      <td>5.8</td>\n",
       "      <td>4.0</td>\n",
       "      <td>1.2</td>\n",
       "      <td>0.2</td>\n",
       "      <td>setosa</td>\n",
       "    </tr>\n",
       "    <tr>\n",
       "      <th>15</th>\n",
       "      <td>5.7</td>\n",
       "      <td>4.4</td>\n",
       "      <td>1.5</td>\n",
       "      <td>0.4</td>\n",
       "      <td>setosa</td>\n",
       "    </tr>\n",
       "    <tr>\n",
       "      <th>16</th>\n",
       "      <td>5.4</td>\n",
       "      <td>3.9</td>\n",
       "      <td>1.3</td>\n",
       "      <td>0.4</td>\n",
       "      <td>setosa</td>\n",
       "    </tr>\n",
       "    <tr>\n",
       "      <th>17</th>\n",
       "      <td>5.1</td>\n",
       "      <td>3.5</td>\n",
       "      <td>1.4</td>\n",
       "      <td>0.3</td>\n",
       "      <td>setosa</td>\n",
       "    </tr>\n",
       "    <tr>\n",
       "      <th>18</th>\n",
       "      <td>5.7</td>\n",
       "      <td>3.8</td>\n",
       "      <td>1.7</td>\n",
       "      <td>0.3</td>\n",
       "      <td>setosa</td>\n",
       "    </tr>\n",
       "    <tr>\n",
       "      <th>19</th>\n",
       "      <td>5.1</td>\n",
       "      <td>3.8</td>\n",
       "      <td>1.5</td>\n",
       "      <td>0.3</td>\n",
       "      <td>setosa</td>\n",
       "    </tr>\n",
       "    <tr>\n",
       "      <th>20</th>\n",
       "      <td>5.4</td>\n",
       "      <td>3.4</td>\n",
       "      <td>1.7</td>\n",
       "      <td>0.2</td>\n",
       "      <td>setosa</td>\n",
       "    </tr>\n",
       "    <tr>\n",
       "      <th>21</th>\n",
       "      <td>5.1</td>\n",
       "      <td>3.7</td>\n",
       "      <td>1.5</td>\n",
       "      <td>0.4</td>\n",
       "      <td>setosa</td>\n",
       "    </tr>\n",
       "    <tr>\n",
       "      <th>22</th>\n",
       "      <td>4.6</td>\n",
       "      <td>3.6</td>\n",
       "      <td>1.0</td>\n",
       "      <td>0.2</td>\n",
       "      <td>setosa</td>\n",
       "    </tr>\n",
       "    <tr>\n",
       "      <th>23</th>\n",
       "      <td>5.1</td>\n",
       "      <td>3.3</td>\n",
       "      <td>1.7</td>\n",
       "      <td>0.5</td>\n",
       "      <td>setosa</td>\n",
       "    </tr>\n",
       "    <tr>\n",
       "      <th>24</th>\n",
       "      <td>4.8</td>\n",
       "      <td>3.4</td>\n",
       "      <td>1.9</td>\n",
       "      <td>0.2</td>\n",
       "      <td>setosa</td>\n",
       "    </tr>\n",
       "    <tr>\n",
       "      <th>25</th>\n",
       "      <td>5.0</td>\n",
       "      <td>3.0</td>\n",
       "      <td>1.6</td>\n",
       "      <td>0.2</td>\n",
       "      <td>setosa</td>\n",
       "    </tr>\n",
       "    <tr>\n",
       "      <th>26</th>\n",
       "      <td>5.0</td>\n",
       "      <td>3.4</td>\n",
       "      <td>1.6</td>\n",
       "      <td>0.4</td>\n",
       "      <td>setosa</td>\n",
       "    </tr>\n",
       "    <tr>\n",
       "      <th>27</th>\n",
       "      <td>5.2</td>\n",
       "      <td>3.5</td>\n",
       "      <td>1.5</td>\n",
       "      <td>0.2</td>\n",
       "      <td>setosa</td>\n",
       "    </tr>\n",
       "    <tr>\n",
       "      <th>28</th>\n",
       "      <td>5.2</td>\n",
       "      <td>3.4</td>\n",
       "      <td>1.4</td>\n",
       "      <td>0.2</td>\n",
       "      <td>setosa</td>\n",
       "    </tr>\n",
       "    <tr>\n",
       "      <th>29</th>\n",
       "      <td>4.7</td>\n",
       "      <td>3.2</td>\n",
       "      <td>1.6</td>\n",
       "      <td>0.2</td>\n",
       "      <td>setosa</td>\n",
       "    </tr>\n",
       "    <tr>\n",
       "      <th>...</th>\n",
       "      <td>...</td>\n",
       "      <td>...</td>\n",
       "      <td>...</td>\n",
       "      <td>...</td>\n",
       "      <td>...</td>\n",
       "    </tr>\n",
       "    <tr>\n",
       "      <th>120</th>\n",
       "      <td>6.9</td>\n",
       "      <td>3.2</td>\n",
       "      <td>5.7</td>\n",
       "      <td>2.3</td>\n",
       "      <td>virginica</td>\n",
       "    </tr>\n",
       "    <tr>\n",
       "      <th>121</th>\n",
       "      <td>5.6</td>\n",
       "      <td>2.8</td>\n",
       "      <td>4.9</td>\n",
       "      <td>2.0</td>\n",
       "      <td>virginica</td>\n",
       "    </tr>\n",
       "    <tr>\n",
       "      <th>122</th>\n",
       "      <td>7.7</td>\n",
       "      <td>2.8</td>\n",
       "      <td>6.7</td>\n",
       "      <td>2.0</td>\n",
       "      <td>virginica</td>\n",
       "    </tr>\n",
       "    <tr>\n",
       "      <th>123</th>\n",
       "      <td>6.3</td>\n",
       "      <td>2.7</td>\n",
       "      <td>4.9</td>\n",
       "      <td>1.8</td>\n",
       "      <td>virginica</td>\n",
       "    </tr>\n",
       "    <tr>\n",
       "      <th>124</th>\n",
       "      <td>6.7</td>\n",
       "      <td>3.3</td>\n",
       "      <td>5.7</td>\n",
       "      <td>2.1</td>\n",
       "      <td>virginica</td>\n",
       "    </tr>\n",
       "    <tr>\n",
       "      <th>125</th>\n",
       "      <td>7.2</td>\n",
       "      <td>3.2</td>\n",
       "      <td>6.0</td>\n",
       "      <td>1.8</td>\n",
       "      <td>virginica</td>\n",
       "    </tr>\n",
       "    <tr>\n",
       "      <th>126</th>\n",
       "      <td>6.2</td>\n",
       "      <td>2.8</td>\n",
       "      <td>4.8</td>\n",
       "      <td>1.8</td>\n",
       "      <td>virginica</td>\n",
       "    </tr>\n",
       "    <tr>\n",
       "      <th>127</th>\n",
       "      <td>6.1</td>\n",
       "      <td>3.0</td>\n",
       "      <td>4.9</td>\n",
       "      <td>1.8</td>\n",
       "      <td>virginica</td>\n",
       "    </tr>\n",
       "    <tr>\n",
       "      <th>128</th>\n",
       "      <td>6.4</td>\n",
       "      <td>2.8</td>\n",
       "      <td>5.6</td>\n",
       "      <td>2.1</td>\n",
       "      <td>virginica</td>\n",
       "    </tr>\n",
       "    <tr>\n",
       "      <th>129</th>\n",
       "      <td>7.2</td>\n",
       "      <td>3.0</td>\n",
       "      <td>5.8</td>\n",
       "      <td>1.6</td>\n",
       "      <td>virginica</td>\n",
       "    </tr>\n",
       "    <tr>\n",
       "      <th>130</th>\n",
       "      <td>7.4</td>\n",
       "      <td>2.8</td>\n",
       "      <td>6.1</td>\n",
       "      <td>1.9</td>\n",
       "      <td>virginica</td>\n",
       "    </tr>\n",
       "    <tr>\n",
       "      <th>131</th>\n",
       "      <td>7.9</td>\n",
       "      <td>3.8</td>\n",
       "      <td>6.4</td>\n",
       "      <td>2.0</td>\n",
       "      <td>virginica</td>\n",
       "    </tr>\n",
       "    <tr>\n",
       "      <th>132</th>\n",
       "      <td>6.4</td>\n",
       "      <td>2.8</td>\n",
       "      <td>5.6</td>\n",
       "      <td>2.2</td>\n",
       "      <td>virginica</td>\n",
       "    </tr>\n",
       "    <tr>\n",
       "      <th>133</th>\n",
       "      <td>6.3</td>\n",
       "      <td>2.8</td>\n",
       "      <td>5.1</td>\n",
       "      <td>1.5</td>\n",
       "      <td>virginica</td>\n",
       "    </tr>\n",
       "    <tr>\n",
       "      <th>134</th>\n",
       "      <td>6.1</td>\n",
       "      <td>2.6</td>\n",
       "      <td>5.6</td>\n",
       "      <td>1.4</td>\n",
       "      <td>virginica</td>\n",
       "    </tr>\n",
       "    <tr>\n",
       "      <th>135</th>\n",
       "      <td>7.7</td>\n",
       "      <td>3.0</td>\n",
       "      <td>6.1</td>\n",
       "      <td>2.3</td>\n",
       "      <td>virginica</td>\n",
       "    </tr>\n",
       "    <tr>\n",
       "      <th>136</th>\n",
       "      <td>6.3</td>\n",
       "      <td>3.4</td>\n",
       "      <td>5.6</td>\n",
       "      <td>2.4</td>\n",
       "      <td>virginica</td>\n",
       "    </tr>\n",
       "    <tr>\n",
       "      <th>137</th>\n",
       "      <td>6.4</td>\n",
       "      <td>3.1</td>\n",
       "      <td>5.5</td>\n",
       "      <td>1.8</td>\n",
       "      <td>virginica</td>\n",
       "    </tr>\n",
       "    <tr>\n",
       "      <th>138</th>\n",
       "      <td>6.0</td>\n",
       "      <td>3.0</td>\n",
       "      <td>4.8</td>\n",
       "      <td>1.8</td>\n",
       "      <td>virginica</td>\n",
       "    </tr>\n",
       "    <tr>\n",
       "      <th>139</th>\n",
       "      <td>6.9</td>\n",
       "      <td>3.1</td>\n",
       "      <td>5.4</td>\n",
       "      <td>2.1</td>\n",
       "      <td>virginica</td>\n",
       "    </tr>\n",
       "    <tr>\n",
       "      <th>140</th>\n",
       "      <td>6.7</td>\n",
       "      <td>3.1</td>\n",
       "      <td>5.6</td>\n",
       "      <td>2.4</td>\n",
       "      <td>virginica</td>\n",
       "    </tr>\n",
       "    <tr>\n",
       "      <th>141</th>\n",
       "      <td>6.9</td>\n",
       "      <td>3.1</td>\n",
       "      <td>5.1</td>\n",
       "      <td>2.3</td>\n",
       "      <td>virginica</td>\n",
       "    </tr>\n",
       "    <tr>\n",
       "      <th>142</th>\n",
       "      <td>5.8</td>\n",
       "      <td>2.7</td>\n",
       "      <td>5.1</td>\n",
       "      <td>1.9</td>\n",
       "      <td>virginica</td>\n",
       "    </tr>\n",
       "    <tr>\n",
       "      <th>143</th>\n",
       "      <td>6.8</td>\n",
       "      <td>3.2</td>\n",
       "      <td>5.9</td>\n",
       "      <td>2.3</td>\n",
       "      <td>virginica</td>\n",
       "    </tr>\n",
       "    <tr>\n",
       "      <th>144</th>\n",
       "      <td>6.7</td>\n",
       "      <td>3.3</td>\n",
       "      <td>5.7</td>\n",
       "      <td>2.5</td>\n",
       "      <td>virginica</td>\n",
       "    </tr>\n",
       "    <tr>\n",
       "      <th>145</th>\n",
       "      <td>6.7</td>\n",
       "      <td>3.0</td>\n",
       "      <td>5.2</td>\n",
       "      <td>2.3</td>\n",
       "      <td>virginica</td>\n",
       "    </tr>\n",
       "    <tr>\n",
       "      <th>146</th>\n",
       "      <td>6.3</td>\n",
       "      <td>2.5</td>\n",
       "      <td>5.0</td>\n",
       "      <td>1.9</td>\n",
       "      <td>virginica</td>\n",
       "    </tr>\n",
       "    <tr>\n",
       "      <th>147</th>\n",
       "      <td>6.5</td>\n",
       "      <td>3.0</td>\n",
       "      <td>5.2</td>\n",
       "      <td>2.0</td>\n",
       "      <td>virginica</td>\n",
       "    </tr>\n",
       "    <tr>\n",
       "      <th>148</th>\n",
       "      <td>6.2</td>\n",
       "      <td>3.4</td>\n",
       "      <td>5.4</td>\n",
       "      <td>2.3</td>\n",
       "      <td>virginica</td>\n",
       "    </tr>\n",
       "    <tr>\n",
       "      <th>149</th>\n",
       "      <td>5.9</td>\n",
       "      <td>3.0</td>\n",
       "      <td>5.1</td>\n",
       "      <td>1.8</td>\n",
       "      <td>virginica</td>\n",
       "    </tr>\n",
       "  </tbody>\n",
       "</table>\n",
       "<p>150 rows × 5 columns</p>\n",
       "</div>"
      ],
      "text/plain": [
       "     sepal_length  sepal_width  petal_length  petal_width    species\n",
       "0             5.1          3.5           1.4          0.2     setosa\n",
       "1             4.9          3.0           1.4          0.2     setosa\n",
       "2             4.7          3.2           1.3          0.2     setosa\n",
       "3             4.6          3.1           1.5          0.2     setosa\n",
       "4             5.0          3.6           1.4          0.2     setosa\n",
       "5             5.4          3.9           1.7          0.4     setosa\n",
       "6             4.6          3.4           1.4          0.3     setosa\n",
       "7             5.0          3.4           1.5          0.2     setosa\n",
       "8             4.4          2.9           1.4          0.2     setosa\n",
       "9             4.9          3.1           1.5          0.1     setosa\n",
       "10            5.4          3.7           1.5          0.2     setosa\n",
       "11            4.8          3.4           1.6          0.2     setosa\n",
       "12            4.8          3.0           1.4          0.1     setosa\n",
       "13            4.3          3.0           1.1          0.1     setosa\n",
       "14            5.8          4.0           1.2          0.2     setosa\n",
       "15            5.7          4.4           1.5          0.4     setosa\n",
       "16            5.4          3.9           1.3          0.4     setosa\n",
       "17            5.1          3.5           1.4          0.3     setosa\n",
       "18            5.7          3.8           1.7          0.3     setosa\n",
       "19            5.1          3.8           1.5          0.3     setosa\n",
       "20            5.4          3.4           1.7          0.2     setosa\n",
       "21            5.1          3.7           1.5          0.4     setosa\n",
       "22            4.6          3.6           1.0          0.2     setosa\n",
       "23            5.1          3.3           1.7          0.5     setosa\n",
       "24            4.8          3.4           1.9          0.2     setosa\n",
       "25            5.0          3.0           1.6          0.2     setosa\n",
       "26            5.0          3.4           1.6          0.4     setosa\n",
       "27            5.2          3.5           1.5          0.2     setosa\n",
       "28            5.2          3.4           1.4          0.2     setosa\n",
       "29            4.7          3.2           1.6          0.2     setosa\n",
       "..            ...          ...           ...          ...        ...\n",
       "120           6.9          3.2           5.7          2.3  virginica\n",
       "121           5.6          2.8           4.9          2.0  virginica\n",
       "122           7.7          2.8           6.7          2.0  virginica\n",
       "123           6.3          2.7           4.9          1.8  virginica\n",
       "124           6.7          3.3           5.7          2.1  virginica\n",
       "125           7.2          3.2           6.0          1.8  virginica\n",
       "126           6.2          2.8           4.8          1.8  virginica\n",
       "127           6.1          3.0           4.9          1.8  virginica\n",
       "128           6.4          2.8           5.6          2.1  virginica\n",
       "129           7.2          3.0           5.8          1.6  virginica\n",
       "130           7.4          2.8           6.1          1.9  virginica\n",
       "131           7.9          3.8           6.4          2.0  virginica\n",
       "132           6.4          2.8           5.6          2.2  virginica\n",
       "133           6.3          2.8           5.1          1.5  virginica\n",
       "134           6.1          2.6           5.6          1.4  virginica\n",
       "135           7.7          3.0           6.1          2.3  virginica\n",
       "136           6.3          3.4           5.6          2.4  virginica\n",
       "137           6.4          3.1           5.5          1.8  virginica\n",
       "138           6.0          3.0           4.8          1.8  virginica\n",
       "139           6.9          3.1           5.4          2.1  virginica\n",
       "140           6.7          3.1           5.6          2.4  virginica\n",
       "141           6.9          3.1           5.1          2.3  virginica\n",
       "142           5.8          2.7           5.1          1.9  virginica\n",
       "143           6.8          3.2           5.9          2.3  virginica\n",
       "144           6.7          3.3           5.7          2.5  virginica\n",
       "145           6.7          3.0           5.2          2.3  virginica\n",
       "146           6.3          2.5           5.0          1.9  virginica\n",
       "147           6.5          3.0           5.2          2.0  virginica\n",
       "148           6.2          3.4           5.4          2.3  virginica\n",
       "149           5.9          3.0           5.1          1.8  virginica\n",
       "\n",
       "[150 rows x 5 columns]"
      ]
     },
     "execution_count": 10,
     "metadata": {},
     "output_type": "execute_result"
    }
   ],
   "source": [
    "iris"
   ]
  },
  {
   "cell_type": "markdown",
   "metadata": {},
   "source": [
    "The method `head()` can be used to display only the first few rows of the data frame."
   ]
  },
  {
   "cell_type": "code",
   "execution_count": 11,
   "metadata": {},
   "outputs": [
    {
     "data": {
      "text/html": [
       "<div>\n",
       "<style scoped>\n",
       "    .dataframe tbody tr th:only-of-type {\n",
       "        vertical-align: middle;\n",
       "    }\n",
       "\n",
       "    .dataframe tbody tr th {\n",
       "        vertical-align: top;\n",
       "    }\n",
       "\n",
       "    .dataframe thead th {\n",
       "        text-align: right;\n",
       "    }\n",
       "</style>\n",
       "<table border=\"1\" class=\"dataframe\">\n",
       "  <thead>\n",
       "    <tr style=\"text-align: right;\">\n",
       "      <th></th>\n",
       "      <th>sepal_length</th>\n",
       "      <th>sepal_width</th>\n",
       "      <th>petal_length</th>\n",
       "      <th>petal_width</th>\n",
       "      <th>species</th>\n",
       "    </tr>\n",
       "  </thead>\n",
       "  <tbody>\n",
       "    <tr>\n",
       "      <th>0</th>\n",
       "      <td>5.1</td>\n",
       "      <td>3.5</td>\n",
       "      <td>1.4</td>\n",
       "      <td>0.2</td>\n",
       "      <td>setosa</td>\n",
       "    </tr>\n",
       "    <tr>\n",
       "      <th>1</th>\n",
       "      <td>4.9</td>\n",
       "      <td>3.0</td>\n",
       "      <td>1.4</td>\n",
       "      <td>0.2</td>\n",
       "      <td>setosa</td>\n",
       "    </tr>\n",
       "    <tr>\n",
       "      <th>2</th>\n",
       "      <td>4.7</td>\n",
       "      <td>3.2</td>\n",
       "      <td>1.3</td>\n",
       "      <td>0.2</td>\n",
       "      <td>setosa</td>\n",
       "    </tr>\n",
       "    <tr>\n",
       "      <th>3</th>\n",
       "      <td>4.6</td>\n",
       "      <td>3.1</td>\n",
       "      <td>1.5</td>\n",
       "      <td>0.2</td>\n",
       "      <td>setosa</td>\n",
       "    </tr>\n",
       "    <tr>\n",
       "      <th>4</th>\n",
       "      <td>5.0</td>\n",
       "      <td>3.6</td>\n",
       "      <td>1.4</td>\n",
       "      <td>0.2</td>\n",
       "      <td>setosa</td>\n",
       "    </tr>\n",
       "  </tbody>\n",
       "</table>\n",
       "</div>"
      ],
      "text/plain": [
       "   sepal_length  sepal_width  petal_length  petal_width species\n",
       "0           5.1          3.5           1.4          0.2  setosa\n",
       "1           4.9          3.0           1.4          0.2  setosa\n",
       "2           4.7          3.2           1.3          0.2  setosa\n",
       "3           4.6          3.1           1.5          0.2  setosa\n",
       "4           5.0          3.6           1.4          0.2  setosa"
      ]
     },
     "execution_count": 11,
     "metadata": {},
     "output_type": "execute_result"
    }
   ],
   "source": [
    "iris.head()"
   ]
  },
  {
   "cell_type": "markdown",
   "metadata": {},
   "source": [
    "And a single column can be selected with the following syntax"
   ]
  },
  {
   "cell_type": "code",
   "execution_count": 12,
   "metadata": {},
   "outputs": [
    {
     "data": {
      "text/plain": [
       "0    5.1\n",
       "1    4.9\n",
       "2    4.7\n",
       "3    4.6\n",
       "4    5.0\n",
       "Name: sepal_length, dtype: float64"
      ]
     },
     "execution_count": 12,
     "metadata": {},
     "output_type": "execute_result"
    }
   ],
   "source": [
    "iris['sepal_length'].head()"
   ]
  },
  {
   "cell_type": "markdown",
   "metadata": {},
   "source": [
    "We could calculate the mean of all columns easily."
   ]
  },
  {
   "cell_type": "code",
   "execution_count": 13,
   "metadata": {},
   "outputs": [
    {
     "data": {
      "text/plain": [
       "sepal_length    5.843333\n",
       "sepal_width     3.057333\n",
       "petal_length    3.758000\n",
       "petal_width     1.199333\n",
       "dtype: float64"
      ]
     },
     "execution_count": 13,
     "metadata": {},
     "output_type": "execute_result"
    }
   ],
   "source": [
    "iris.mean()"
   ]
  },
  {
   "cell_type": "markdown",
   "metadata": {},
   "source": [
    "And even divide it into groups depending on which species or iris flower the observations belong to."
   ]
  },
  {
   "cell_type": "code",
   "execution_count": 14,
   "metadata": {},
   "outputs": [
    {
     "data": {
      "text/html": [
       "<div>\n",
       "<style scoped>\n",
       "    .dataframe tbody tr th:only-of-type {\n",
       "        vertical-align: middle;\n",
       "    }\n",
       "\n",
       "    .dataframe tbody tr th {\n",
       "        vertical-align: top;\n",
       "    }\n",
       "\n",
       "    .dataframe thead th {\n",
       "        text-align: right;\n",
       "    }\n",
       "</style>\n",
       "<table border=\"1\" class=\"dataframe\">\n",
       "  <thead>\n",
       "    <tr style=\"text-align: right;\">\n",
       "      <th></th>\n",
       "      <th>sepal_length</th>\n",
       "      <th>sepal_width</th>\n",
       "      <th>petal_length</th>\n",
       "      <th>petal_width</th>\n",
       "    </tr>\n",
       "    <tr>\n",
       "      <th>species</th>\n",
       "      <th></th>\n",
       "      <th></th>\n",
       "      <th></th>\n",
       "      <th></th>\n",
       "    </tr>\n",
       "  </thead>\n",
       "  <tbody>\n",
       "    <tr>\n",
       "      <th>setosa</th>\n",
       "      <td>5.006</td>\n",
       "      <td>3.428</td>\n",
       "      <td>1.462</td>\n",
       "      <td>0.246</td>\n",
       "    </tr>\n",
       "    <tr>\n",
       "      <th>versicolor</th>\n",
       "      <td>5.936</td>\n",
       "      <td>2.770</td>\n",
       "      <td>4.260</td>\n",
       "      <td>1.326</td>\n",
       "    </tr>\n",
       "    <tr>\n",
       "      <th>virginica</th>\n",
       "      <td>6.588</td>\n",
       "      <td>2.974</td>\n",
       "      <td>5.552</td>\n",
       "      <td>2.026</td>\n",
       "    </tr>\n",
       "  </tbody>\n",
       "</table>\n",
       "</div>"
      ],
      "text/plain": [
       "            sepal_length  sepal_width  petal_length  petal_width\n",
       "species                                                         \n",
       "setosa             5.006        3.428         1.462        0.246\n",
       "versicolor         5.936        2.770         4.260        1.326\n",
       "virginica          6.588        2.974         5.552        2.026"
      ]
     },
     "execution_count": 14,
     "metadata": {},
     "output_type": "execute_result"
    }
   ],
   "source": [
    "iris.groupby('species').mean()"
   ]
  },
  {
   "cell_type": "markdown",
   "metadata": {},
   "source": [
    "This technique is often referred to as \"split-apply-combine\". The `groupby()` method *split* the observations into groups, `mean()` *applied* an operation to each group, and the results were automatically *combined* into the table that we can see here. We will learn much more about this in a later lecture.\n",
    "\n",
    "### Visualizing data with `seaborn`\n",
    "\n",
    "A crucial part of any exploratory data analysis is data visualization. Humans have great pattern recognition systems which makes it much easier for us to understand data when it is represented by graphical elements in plots rather than numbers in tables. Before creating any plots, we will set an option so that all the plots appear in the notebook, and not in a separate figure."
   ]
  },
  {
   "cell_type": "code",
   "execution_count": 15,
   "metadata": {},
   "outputs": [],
   "source": [
    "# This is a jupyter magic command, which we will talk more about later.\n",
    "%matplotlib inline"
   ]
  },
  {
   "cell_type": "markdown",
   "metadata": {},
   "source": [
    "To visualize the results in with plots, we will use Python package dedicated to statistical visualization, `seaborn` (the name is a reference to a TV-show character). To count the observations in each species, we could use `countplot()`."
   ]
  },
  {
   "cell_type": "code",
   "execution_count": 16,
   "metadata": {},
   "outputs": [
    {
     "data": {
      "text/plain": [
       "<matplotlib.axes._subplots.AxesSubplot at 0x7f358ce56400>"
      ]
     },
     "execution_count": 16,
     "metadata": {},
     "output_type": "execute_result"
    },
    {
     "data": {
      "image/png": "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\n",
      "text/plain": [
       "<Figure size 432x288 with 1 Axes>"
      ]
     },
     "metadata": {},
     "output_type": "display_data"
    }
   ],
   "source": [
    "import seaborn as sns\n",
    "\n",
    "sns.countplot(x='species', data=iris)"
   ]
  },
  {
   "cell_type": "markdown",
   "metadata": {},
   "source": [
    "We can see that there are 50 observations recorded for each species of iris. More interesting could be to compare the sepal lengths between the plants to see if there are differences depending on species. We could use `swarmplot()` for this, which plots every single observation as a dot."
   ]
  },
  {
   "cell_type": "code",
   "execution_count": 17,
   "metadata": {},
   "outputs": [
    {
     "data": {
      "text/plain": [
       "<matplotlib.axes._subplots.AxesSubplot at 0x7f3582486668>"
      ]
     },
     "execution_count": 17,
     "metadata": {},
     "output_type": "execute_result"
    },
    {
     "data": {
      "image/png": "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\n",
      "text/plain": [
       "<Figure size 432x288 with 1 Axes>"
      ]
     },
     "metadata": {},
     "output_type": "display_data"
    }
   ],
   "source": [
    "sns.swarmplot(x='species', y='sepal_length', data=iris)"
   ]
  },
  {
   "cell_type": "markdown",
   "metadata": {},
   "source": [
    "Since the number of observations for each species was 50, there will be 50 dots for each species here. This plot corresponds with what we saw when looking at the mean values for each species earlier.\n",
    "\n",
    "There is much more to learn about plotting, which will do in a later lecture. One last example to illustrate the power of programmatic data analysis and how straightforward it can be to create very complex visualizations. A common exploratory visualization is the investigate the pairwise relationship between variables, are there measurements that are correlated with each other? This can be done with the `pairplot()` function."
   ]
  },
  {
   "cell_type": "code",
   "execution_count": 18,
   "metadata": {},
   "outputs": [
    {
     "data": {
      "text/plain": [
       "<seaborn.axisgrid.PairGrid at 0x7f3599751198>"
      ]
     },
     "execution_count": 18,
     "metadata": {},
     "output_type": "execute_result"
    },
    {
     "data": {
      "image/png": "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\n",
      "text/plain": [
       "<Figure size 720x720 with 20 Axes>"
      ]
     },
     "metadata": {},
     "output_type": "display_data"
    }
   ],
   "source": [
    "sns.pairplot(data=iris)"
   ]
  },
  {
   "cell_type": "markdown",
   "metadata": {},
   "source": [
    "This graph shows the histograms of the distribution of each variable on the diagonal. The same pairwise relationships between the columns in the data set are shown in scatter plots below and above the diagonal. It is easy to see that some variables certainly seem to depend on each other. For example, the petal width and petal height, increase simultaneously indicated that some flowers have bigger petals than others.\n",
    "\n",
    "We can also make out some clusters or groups of points within each pairwise scatter plot. It would be interesting to know if this corresponded to some inherent structure of the data frame. Maybe it is observations from the different species that cluster together? To find this out, we can instruct `seaborn` to adjust the color *hue* of the data points according to their species affiliation with a minor modification to the line of code above."
   ]
  },
  {
   "cell_type": "code",
   "execution_count": 19,
   "metadata": {},
   "outputs": [
    {
     "data": {
      "text/plain": [
       "<seaborn.axisgrid.PairGrid at 0x7f3581c95710>"
      ]
     },
     "execution_count": 19,
     "metadata": {},
     "output_type": "execute_result"
    },
    {
     "data": {
      "image/png": "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\n",
      "text/plain": [
       "<Figure size 804.75x720 with 20 Axes>"
      ]
     },
     "metadata": {},
     "output_type": "display_data"
    }
   ],
   "source": [
    "sns.pairplot(data=iris, hue='species')"
   ]
  },
  {
   "cell_type": "markdown",
   "metadata": {},
   "source": [
    "It certainly looks like observations from the same species are close together and a lot of the variation in our data can be explained with which species the observation belongs to!\n",
    "\n",
    "This has been an introduction to what data analysis looks like with Python in the Jupyter Notebook. We will get into details about all the steps of this workflow in the following lectures, and you can keep referring back to this lecture as a high level overview of the process."
   ]
  },
  {
   "cell_type": "markdown",
   "metadata": {},
   "source": [
    "# Introduction to programming in Python\n",
    "\n",
    "## Lesson preamble\n",
    "\n",
    "### Learning objectives\n",
    "\n",
    "- Perform mathematical operations in Python using basic operators.\n",
    "- Define the following data types in Python: strings, integers, and floats.\n",
    "- Define the following as it relates to Python: lists, tuples, and dictionaries.\n",
    "\n",
    "### Lesson outline\n",
    "\n",
    "- Introduction to programming in Python (50 min)\n",
    "\n",
    "---"
   ]
  },
  {
   "cell_type": "markdown",
   "metadata": {},
   "source": [
    "### Operators\n",
    "\n",
    "Python can be used as a calculator and mathematical calculations use familiar operators such as `+`, `-`, `/`, and `*`."
   ]
  },
  {
   "cell_type": "code",
   "execution_count": 20,
   "metadata": {},
   "outputs": [
    {
     "data": {
      "text/plain": [
       "4"
      ]
     },
     "execution_count": 20,
     "metadata": {},
     "output_type": "execute_result"
    }
   ],
   "source": [
    "2 + 2 "
   ]
  },
  {
   "cell_type": "code",
   "execution_count": 21,
   "metadata": {},
   "outputs": [
    {
     "data": {
      "text/plain": [
       "42"
      ]
     },
     "execution_count": 21,
     "metadata": {},
     "output_type": "execute_result"
    }
   ],
   "source": [
    "6 * 7"
   ]
  },
  {
   "cell_type": "code",
   "execution_count": 22,
   "metadata": {},
   "outputs": [
    {
     "data": {
      "text/plain": [
       "1.3333333333333333"
      ]
     },
     "execution_count": 22,
     "metadata": {},
     "output_type": "execute_result"
    }
   ],
   "source": [
    "4 / 3"
   ]
  },
  {
   "cell_type": "markdown",
   "metadata": {},
   "source": [
    "Text prefaced with a `#` is called a \"comment\". These are notes to people reading the code, so they will be ignored by the Python interpreter."
   ]
  },
  {
   "cell_type": "code",
   "execution_count": 23,
   "metadata": {},
   "outputs": [
    {
     "data": {
      "text/plain": [
       "8"
      ]
     },
     "execution_count": 23,
     "metadata": {},
     "output_type": "execute_result"
    }
   ],
   "source": [
    "# `**` means \"to the power of\"\n",
    "2 ** 3"
   ]
  },
  {
   "cell_type": "markdown",
   "metadata": {},
   "source": [
    "Values can be given a nickname, this is called assigning values to variables and is handy when the same value will be used multiple times. The assignment operator in Python is `=`."
   ]
  },
  {
   "cell_type": "code",
   "execution_count": 24,
   "metadata": {},
   "outputs": [
    {
     "data": {
      "text/plain": [
       "10"
      ]
     },
     "execution_count": 24,
     "metadata": {},
     "output_type": "execute_result"
    }
   ],
   "source": [
    "a = 5\n",
    "a * 2"
   ]
  },
  {
   "cell_type": "markdown",
   "metadata": {},
   "source": [
    "A variable can be named almost anything. It is recommended to separate multiple words with underscores and start the variable name with a letter, not a number or symbol."
   ]
  },
  {
   "cell_type": "code",
   "execution_count": 25,
   "metadata": {},
   "outputs": [
    {
     "data": {
      "text/plain": [
       "1"
      ]
     },
     "execution_count": 25,
     "metadata": {},
     "output_type": "execute_result"
    }
   ],
   "source": [
    "new_variable = 4\n",
    "a - new_variable"
   ]
  },
  {
   "cell_type": "markdown",
   "metadata": {},
   "source": [
    "Variables can hold different types of data, not just numbers. For example, a sequence of characters surrounded by single or double quotation marks (called a string). In Python, it is intuitive to append string by adding them together:"
   ]
  },
  {
   "cell_type": "code",
   "execution_count": 26,
   "metadata": {},
   "outputs": [
    {
     "data": {
      "text/plain": [
       "'Hellouniverse'"
      ]
     },
     "execution_count": 26,
     "metadata": {},
     "output_type": "execute_result"
    }
   ],
   "source": [
    "# Either single or double quotes can be used to define a string\n",
    "b = 'Hello'\n",
    "c = \"universe\"\n",
    "b + c"
   ]
  },
  {
   "cell_type": "markdown",
   "metadata": {},
   "source": [
    "A space can be added to separate the words."
   ]
  },
  {
   "cell_type": "code",
   "execution_count": 27,
   "metadata": {},
   "outputs": [
    {
     "data": {
      "text/plain": [
       "'Hello universe'"
      ]
     },
     "execution_count": 27,
     "metadata": {},
     "output_type": "execute_result"
    }
   ],
   "source": [
    "b + ' ' + c"
   ]
  },
  {
   "cell_type": "markdown",
   "metadata": {},
   "source": [
    "To find out what type a variable is, the built-in function `type()` can be used. In essence, a function can be passed input values, follows a set of instructions with how to operate on the input, and then outputs the result. This is analogous to following a recipe: the ingredients are the input, the recipe specifies the set of instructions, and the output is the finished dish."
   ]
  },
  {
   "cell_type": "code",
   "execution_count": 28,
   "metadata": {},
   "outputs": [
    {
     "data": {
      "text/plain": [
       "int"
      ]
     },
     "execution_count": 28,
     "metadata": {},
     "output_type": "execute_result"
    }
   ],
   "source": [
    "type(a)"
   ]
  },
  {
   "cell_type": "markdown",
   "metadata": {},
   "source": [
    "`int` stands for \"integer\", which is the type of any number without a decimal component.\n",
    "\n",
    "To be reminded of the value of `a`, the variable name can be typed into an empty code cell."
   ]
  },
  {
   "cell_type": "code",
   "execution_count": 29,
   "metadata": {},
   "outputs": [
    {
     "data": {
      "text/plain": [
       "5"
      ]
     },
     "execution_count": 29,
     "metadata": {},
     "output_type": "execute_result"
    }
   ],
   "source": [
    "a"
   ]
  },
  {
   "cell_type": "markdown",
   "metadata": {},
   "source": [
    "A code cell will only output its last value. To see more than one value per code cell, the built-in function `print()` can be used. When using Python from an interface that is not interactive like the Jupyter Notebook, such as when executing a set of Python instructions together as a script, the function `print()` is often the preferred way of displaying output."
   ]
  },
  {
   "cell_type": "code",
   "execution_count": 30,
   "metadata": {},
   "outputs": [
    {
     "name": "stdout",
     "output_type": "stream",
     "text": [
      "5\n"
     ]
    },
    {
     "data": {
      "text/plain": [
       "int"
      ]
     },
     "execution_count": 30,
     "metadata": {},
     "output_type": "execute_result"
    }
   ],
   "source": [
    "print(a)\n",
    "type(a)"
   ]
  },
  {
   "cell_type": "markdown",
   "metadata": {},
   "source": [
    "Numbers with a decimal component are referred to as floats"
   ]
  },
  {
   "cell_type": "code",
   "execution_count": 31,
   "metadata": {},
   "outputs": [
    {
     "data": {
      "text/plain": [
       "float"
      ]
     },
     "execution_count": 31,
     "metadata": {},
     "output_type": "execute_result"
    }
   ],
   "source": [
    "type(3.14)"
   ]
  },
  {
   "cell_type": "markdown",
   "metadata": {},
   "source": [
    "Text is of the type `str`, which stands for \"string\". Strings hold sequences of characters, which can be letters, numbers, punctuation or more exotic forms of text (even emoji!)."
   ]
  },
  {
   "cell_type": "code",
   "execution_count": 32,
   "metadata": {},
   "outputs": [
    {
     "name": "stdout",
     "output_type": "stream",
     "text": [
      "<class 'str'>\n"
     ]
    },
    {
     "data": {
      "text/plain": [
       "'Hello'"
      ]
     },
     "execution_count": 32,
     "metadata": {},
     "output_type": "execute_result"
    }
   ],
   "source": [
    "print(type(b))\n",
    "b"
   ]
  },
  {
   "cell_type": "markdown",
   "metadata": {},
   "source": [
    "The output from `type()` is formatted slightly differently when it is printed."
   ]
  },
  {
   "cell_type": "markdown",
   "metadata": {},
   "source": [
    "Python also allows to use comparison and logic operators (`<`, `>`, `==`, `!=`, `<=`, `>=`, `and`, `or`, `not`), which will return either `True` or `False`."
   ]
  },
  {
   "cell_type": "code",
   "execution_count": 33,
   "metadata": {},
   "outputs": [
    {
     "data": {
      "text/plain": [
       "False"
      ]
     },
     "execution_count": 33,
     "metadata": {},
     "output_type": "execute_result"
    }
   ],
   "source": [
    "3 > 4"
   ]
  },
  {
   "cell_type": "markdown",
   "metadata": {},
   "source": [
    "`not` reverses the outcome from a comparison."
   ]
  },
  {
   "cell_type": "code",
   "execution_count": 34,
   "metadata": {},
   "outputs": [
    {
     "data": {
      "text/plain": [
       "True"
      ]
     },
     "execution_count": 34,
     "metadata": {},
     "output_type": "execute_result"
    }
   ],
   "source": [
    "not 3 > 4"
   ]
  },
  {
   "cell_type": "markdown",
   "metadata": {},
   "source": [
    "`and` checks if both comparisons are `True`."
   ]
  },
  {
   "cell_type": "code",
   "execution_count": 35,
   "metadata": {},
   "outputs": [
    {
     "data": {
      "text/plain": [
       "False"
      ]
     },
     "execution_count": 35,
     "metadata": {},
     "output_type": "execute_result"
    }
   ],
   "source": [
    "3 > 4 and 5 > 1"
   ]
  },
  {
   "cell_type": "markdown",
   "metadata": {},
   "source": [
    "`or` checks if *at least* one of the comparisons are `True`."
   ]
  },
  {
   "cell_type": "code",
   "execution_count": 36,
   "metadata": {},
   "outputs": [
    {
     "data": {
      "text/plain": [
       "True"
      ]
     },
     "execution_count": 36,
     "metadata": {},
     "output_type": "execute_result"
    }
   ],
   "source": [
    "3 > 4 or 5 > 1"
   ]
  },
  {
   "cell_type": "markdown",
   "metadata": {},
   "source": [
    "The type of the resulting `True` or `False` value is called \"boolean\"."
   ]
  },
  {
   "cell_type": "code",
   "execution_count": 37,
   "metadata": {},
   "outputs": [
    {
     "data": {
      "text/plain": [
       "bool"
      ]
     },
     "execution_count": 37,
     "metadata": {},
     "output_type": "execute_result"
    }
   ],
   "source": [
    "type(True)"
   ]
  },
  {
   "cell_type": "markdown",
   "metadata": {},
   "source": [
    "Boolean comparison like these are important when extracting specific values from a larger set of values. This use case will be explored in detail later in this material.\n",
    "\n",
    "Another common use of boolean comparison is with conditional statement, where the code after the comparison only is executed if the comparison is `True`."
   ]
  },
  {
   "cell_type": "code",
   "execution_count": 38,
   "metadata": {},
   "outputs": [
    {
     "name": "stdout",
     "output_type": "stream",
     "text": [
      "a is not 4\n"
     ]
    }
   ],
   "source": [
    "if a == 4:\n",
    "    print('a is 4')\n",
    "else:\n",
    "    print('a is not 4')"
   ]
  },
  {
   "cell_type": "code",
   "execution_count": 39,
   "metadata": {},
   "outputs": [
    {
     "data": {
      "text/plain": [
       "5"
      ]
     },
     "execution_count": 39,
     "metadata": {},
     "output_type": "execute_result"
    }
   ],
   "source": [
    "a"
   ]
  },
  {
   "cell_type": "markdown",
   "metadata": {},
   "source": [
    "Note that the second line in the example above is indented. Indentation is very important in Python, and  the Python interpreter uses it to understand that the code in the indented block will only be exectuted if the conditional statement above is `True`.\n",
    "\n",
    "> Challenge 1\n",
    "> 1. Assign `a*2` to the variable name `two_a`.\n",
    "> 2. Change the value of `a` to `3`. What is the value of `two_a` now, `6` or `10`?"
   ]
  },
  {
   "cell_type": "markdown",
   "metadata": {},
   "source": [
    "## Array-like Python types\n",
    "\n",
    "### Lists\n",
    "\n",
    " **Lists** are a common data structure to hold an ordered sequence of elements. Each element can be accessed by an index.  Note that Python indexes start with 0 instead of 1."
   ]
  },
  {
   "cell_type": "code",
   "execution_count": 40,
   "metadata": {},
   "outputs": [
    {
     "data": {
      "text/plain": [
       "'Earth'"
      ]
     },
     "execution_count": 40,
     "metadata": {},
     "output_type": "execute_result"
    }
   ],
   "source": [
    "planets = ['Earth', 'Mars', 'Venus']\n",
    "planets[0]"
   ]
  },
  {
   "cell_type": "markdown",
   "metadata": {},
   "source": [
    "You can index from the end of the list by prefixing with a minus sign"
   ]
  },
  {
   "cell_type": "markdown",
   "metadata": {},
   "source": [
    "Multiple elements can be selected via slicing."
   ]
  },
  {
   "cell_type": "code",
   "execution_count": 41,
   "metadata": {},
   "outputs": [
    {
     "data": {
      "text/plain": [
       "['Earth', 'Mars']"
      ]
     },
     "execution_count": 41,
     "metadata": {},
     "output_type": "execute_result"
    }
   ],
   "source": [
    "planets[0:2]"
   ]
  },
  {
   "cell_type": "markdown",
   "metadata": {},
   "source": [
    "Slicing is inclusive of the start of the range and exclusive of the end, so `0:2` returns list elements `0` and `1`.\n",
    "\n",
    "Either the start or the end number of the range can be excluded to include all items to the beginning or end of the list, respectively."
   ]
  },
  {
   "cell_type": "code",
   "execution_count": 42,
   "metadata": {},
   "outputs": [
    {
     "data": {
      "text/plain": [
       "['Earth', 'Mars']"
      ]
     },
     "execution_count": 42,
     "metadata": {},
     "output_type": "execute_result"
    }
   ],
   "source": [
    "planets[:2]"
   ]
  },
  {
   "cell_type": "markdown",
   "metadata": {},
   "source": [
    "To add items to the list, the addition operator can be used together with a list of the items to be added."
   ]
  },
  {
   "cell_type": "code",
   "execution_count": 43,
   "metadata": {},
   "outputs": [
    {
     "data": {
      "text/plain": [
       "['Earth', 'Mars', 'Venus', 'Neptune']"
      ]
     },
     "execution_count": 43,
     "metadata": {},
     "output_type": "execute_result"
    }
   ],
   "source": [
    "planets = planets + ['Neptune']\n",
    "planets"
   ]
  },
  {
   "cell_type": "markdown",
   "metadata": {},
   "source": [
    "A loop can be used to access the elements in a list or other Python data structure one at a time."
   ]
  },
  {
   "cell_type": "code",
   "execution_count": 44,
   "metadata": {},
   "outputs": [
    {
     "name": "stdout",
     "output_type": "stream",
     "text": [
      "Earth\n",
      "Mars\n",
      "Venus\n",
      "Neptune\n"
     ]
    }
   ],
   "source": [
    "for planet in planets:\n",
    "    print(planet)"
   ]
  },
  {
   "cell_type": "markdown",
   "metadata": {},
   "source": [
    "The variable `planet` is recreated for every iteration in the loop until the list `planets` has been exhausted. \n",
    "\n",
    "Operation can be performed on elements inside loops."
   ]
  },
  {
   "cell_type": "code",
   "execution_count": 45,
   "metadata": {},
   "outputs": [
    {
     "name": "stdout",
     "output_type": "stream",
     "text": [
      "I live on Earth\n",
      "I live on Mars\n",
      "I live on Venus\n",
      "I live on Neptune\n"
     ]
    }
   ],
   "source": [
    "for planet in planets:\n",
    "    print('I live on ' + planet)"
   ]
  },
  {
   "cell_type": "markdown",
   "metadata": {},
   "source": [
    "### Tuples\n",
    "\n",
    "A tuple is similar to a list in that it's an ordered sequence of elements. However, tuples can not be changed once created (they are \"immutable\"). Tuples are created by separating values with a comma (and for clarity these are commonly surrounded by parentheses). "
   ]
  },
  {
   "cell_type": "code",
   "execution_count": 46,
   "metadata": {},
   "outputs": [],
   "source": [
    "a_tuple = (1, 2, 3)\n",
    "another_tuple = ('blue', 'green', 'red')"
   ]
  },
  {
   "cell_type": "markdown",
   "metadata": {},
   "source": [
    "> ## Challenge - Tuples\n",
    "> 1. Type `type(a_tuple)` into Python - what is the object type?\n",
    "> 2. What happens when you type `a_tuple[2] = 5` vs `planets[1] = 5` ?"
   ]
  },
  {
   "cell_type": "markdown",
   "metadata": {},
   "source": [
    "## Dictionaries\n",
    "\n",
    "A **dictionary** is a container that holds pairs of objects - keys and values."
   ]
  },
  {
   "cell_type": "code",
   "execution_count": 47,
   "metadata": {},
   "outputs": [
    {
     "data": {
      "text/plain": [
       "{'banana': 'yellow', 'strawberry': 'red'}"
      ]
     },
     "execution_count": 47,
     "metadata": {},
     "output_type": "execute_result"
    }
   ],
   "source": [
    "fruit_colors = {'banana': 'yellow', 'strawberry': 'red'}\n",
    "fruit_colors"
   ]
  },
  {
   "cell_type": "markdown",
   "metadata": {},
   "source": [
    "Dictionaries work a lot like lists - except that they are indexed with *keys*. Think about a key as a unique identifier for a set of values in the dictionary. Keys can only have particular types - they have to be \"hashable\". Strings and numeric types are acceptable, but lists aren't."
   ]
  },
  {
   "cell_type": "code",
   "execution_count": 48,
   "metadata": {},
   "outputs": [
    {
     "data": {
      "text/plain": [
       "'yellow'"
      ]
     },
     "execution_count": 48,
     "metadata": {},
     "output_type": "execute_result"
    }
   ],
   "source": [
    "fruit_colors['banana']"
   ]
  },
  {
   "cell_type": "markdown",
   "metadata": {},
   "source": [
    "To add an item to the dictionary, a value is assigned to a new dictionary key."
   ]
  },
  {
   "cell_type": "code",
   "execution_count": 49,
   "metadata": {},
   "outputs": [
    {
     "data": {
      "text/plain": [
       "{'banana': 'yellow', 'strawberry': 'red', 'apple': 'green'}"
      ]
     },
     "execution_count": 49,
     "metadata": {},
     "output_type": "execute_result"
    }
   ],
   "source": [
    "fruit_colors['apple'] = 'green'\n",
    "fruit_colors"
   ]
  },
  {
   "cell_type": "markdown",
   "metadata": {},
   "source": [
    "Using loops with dictionaries iterates over the keys by default."
   ]
  },
  {
   "cell_type": "code",
   "execution_count": 50,
   "metadata": {},
   "outputs": [
    {
     "name": "stdout",
     "output_type": "stream",
     "text": [
      "banana yellow\n",
      "strawberry red\n",
      "apple green\n"
     ]
    }
   ],
   "source": [
    "for fruit in fruit_colors:\n",
    "    print(fruit, fruit_colors[fruit])"
   ]
  },
  {
   "cell_type": "markdown",
   "metadata": {},
   "source": [
    "Trying to use a non-existing key, e.g. from typo, throws an error message."
   ]
  },
  {
   "cell_type": "code",
   "execution_count": 51,
   "metadata": {},
   "outputs": [
    {
     "ename": "KeyError",
     "evalue": "'bannana'",
     "output_type": "error",
     "traceback": [
      "\u001b[0;31m---------------------------\u001b[0m",
      "\u001b[0;31mKeyError\u001b[0mTraceback (most recent call last)",
      "\u001b[0;32m<ipython-input-51-84b86acf3267>\u001b[0m in \u001b[0;36m<module>\u001b[0;34m()\u001b[0m\n\u001b[0;32m----> 1\u001b[0;31m \u001b[0mfruit_colors\u001b[0m\u001b[0;34m[\u001b[0m\u001b[0;34m'bannana'\u001b[0m\u001b[0;34m]\u001b[0m\u001b[0;34m\u001b[0m\u001b[0m\n\u001b[0m",
      "\u001b[0;31mKeyError\u001b[0m: 'bannana'"
     ]
    }
   ],
   "source": [
    "fruit_colors['bannana']"
   ]
  },
  {
   "cell_type": "markdown",
   "metadata": {},
   "source": [
    "This an error message is commonly referred to as a \"traceback\". This message pinpoints what line in the code cell resulted in an error when it was executed, by pointing at it with an arrow (`---->`). This is helpful in figuring out what went wrong, especially when many lines of code are executed simultaneously."
   ]
  },
  {
   "cell_type": "markdown",
   "metadata": {},
   "source": [
    "> ## Challenge - Can you do reassignment in a dictionary?\n",
    ">\n",
    "> 1. In the `fruit_colors` dictionary, change the color of `apple` to `'red'`.\n",
    "> 2. Loop through the `fruit_colors` dictionary and print the key only **if** the value of that key points to in the dictionary is `'red'`."
   ]
  },
  {
   "cell_type": "markdown",
   "metadata": {},
   "source": [
    "## Functions\n",
    "\n",
    "Defining a section of code as a function in Python is done using the `def`\n",
    "keyword. For example a function that takes two arguments and returns their sum\n",
    "can be defined as:"
   ]
  },
  {
   "cell_type": "code",
   "execution_count": 5,
   "metadata": {},
   "outputs": [],
   "source": [
    "def subtract_function(a, b):\n",
    "    result = a - b\n",
    "    return result"
   ]
  },
  {
   "cell_type": "markdown",
   "metadata": {},
   "source": [
    "There is not output until we call the function."
   ]
  },
  {
   "cell_type": "code",
   "execution_count": 8,
   "metadata": {},
   "outputs": [
    {
     "data": {
      "text/plain": [
       "3"
      ]
     },
     "execution_count": 8,
     "metadata": {},
     "output_type": "execute_result"
    }
   ],
   "source": [
    "subtract_function(a=8, b=5)"
   ]
  },
  {
   "cell_type": "markdown",
   "metadata": {},
   "source": [
    "a and b are called `parameters` and the values passed to the mare `arguments`. If the name of the parameters are not specied in the function calls, the arguments will be assumed to have been passed in the same order as the parameters are listed in the function definition."
   ]
  },
  {
   "cell_type": "code",
   "execution_count": 10,
   "metadata": {},
   "outputs": [
    {
     "data": {
      "text/plain": [
       "3"
      ]
     },
     "execution_count": 10,
     "metadata": {},
     "output_type": "execute_result"
    }
   ],
   "source": [
    "subtract_function(8, 5)"
   ]
  },
  {
   "cell_type": "markdown",
   "metadata": {},
   "source": [
    "If the parameter names are specified, they can be in any order."
   ]
  },
  {
   "cell_type": "code",
   "execution_count": 11,
   "metadata": {},
   "outputs": [
    {
     "data": {
      "text/plain": [
       "-3"
      ]
     },
     "execution_count": 11,
     "metadata": {},
     "output_type": "execute_result"
    }
   ],
   "source": [
    "subtract_function(b=8, a=5)"
   ]
  },
  {
   "cell_type": "markdown",
   "metadata": {},
   "source": [
    "The result from a function can be assigned to a variable"
   ]
  },
  {
   "cell_type": "code",
   "execution_count": 13,
   "metadata": {},
   "outputs": [
    {
     "data": {
      "text/plain": [
       "3"
      ]
     },
     "execution_count": 13,
     "metadata": {},
     "output_type": "execute_result"
    }
   ],
   "source": [
    "z = subtract_function(8, 5)\n",
    "z"
   ]
  },
  {
   "cell_type": "markdown",
   "metadata": {},
   "source": [
    "A function can return more than one value."
   ]
  },
  {
   "cell_type": "code",
   "execution_count": 17,
   "metadata": {},
   "outputs": [
    {
     "data": {
      "text/plain": [
       "(3, 6)"
      ]
     },
     "execution_count": 17,
     "metadata": {},
     "output_type": "execute_result"
    }
   ],
   "source": [
    "def subtract_function_2(a, b):\n",
    "    result = a - b\n",
    "    return result, 2 * result\n",
    "\n",
    "subtract_function_2(4, 1)"
   ]
  },
  {
   "cell_type": "markdown",
   "metadata": {},
   "source": [
    "Which can be assigned to two variables."
   ]
  },
  {
   "cell_type": "code",
   "execution_count": 18,
   "metadata": {},
   "outputs": [],
   "source": [
    "z, x = subtract_function_2(4, 1)"
   ]
  },
  {
   "cell_type": "code",
   "execution_count": 19,
   "metadata": {},
   "outputs": [
    {
     "data": {
      "text/plain": [
       "3"
      ]
     },
     "execution_count": 19,
     "metadata": {},
     "output_type": "execute_result"
    }
   ],
   "source": [
    "z"
   ]
  },
  {
   "cell_type": "code",
   "execution_count": 20,
   "metadata": {},
   "outputs": [
    {
     "data": {
      "text/plain": [
       "6"
      ]
     },
     "execution_count": 20,
     "metadata": {},
     "output_type": "execute_result"
    }
   ],
   "source": [
    "x"
   ]
  },
  {
   "cell_type": "markdown",
   "metadata": {},
   "source": [
    "It is helpful to include a description of the function. There is a special syntax for this in Python that makes sure that the message shows up in the docstring of the help message."
   ]
  },
  {
   "cell_type": "code",
   "execution_count": 22,
   "metadata": {},
   "outputs": [],
   "source": [
    "def subtract_function(a, b):\n",
    "    \"\"\"This subtracts b from a\"\"\"\n",
    "    result = a - b\n",
    "    return result"
   ]
  },
  {
   "cell_type": "markdown",
   "metadata": {},
   "source": [
    "Just previously, the `?` can be used to get help for the function."
   ]
  },
  {
   "cell_type": "code",
   "execution_count": 23,
   "metadata": {},
   "outputs": [
    {
     "data": {
      "text/plain": [
       "\u001b[0;31mSignature:\u001b[0m \u001b[0madd_function\u001b[0m\u001b[0;34m(\u001b[0m\u001b[0ma\u001b[0m\u001b[0;34m,\u001b[0m \u001b[0mb\u001b[0m\u001b[0;34m)\u001b[0m\u001b[0;34m\u001b[0m\u001b[0m\n",
       "\u001b[0;31mDocstring:\u001b[0m This function adds two values together\n",
       "\u001b[0;31mFile:\u001b[0m      ~/proj/uoftcoders/workshops/2018-07-12-utoronto/code/<ipython-input-2-87bf5a71c27a>\n",
       "\u001b[0;31mType:\u001b[0m      function\n"
      ]
     },
     "metadata": {},
     "output_type": "display_data"
    }
   ],
   "source": [
    "?add_function"
   ]
  },
  {
   "cell_type": "markdown",
   "metadata": {},
   "source": [
    "The string between the `\"\"\"` is called the docstring and is shown in the help message, so it is important to write a clear description of the function here. It is possible to see the entire source code of the function by using double `?` (this can be quite complex for complicated functions)."
   ]
  },
  {
   "cell_type": "code",
   "execution_count": 24,
   "metadata": {},
   "outputs": [
    {
     "data": {
      "text/plain": [
       "\u001b[0;31mSignature:\u001b[0m \u001b[0madd_function\u001b[0m\u001b[0;34m(\u001b[0m\u001b[0ma\u001b[0m\u001b[0;34m,\u001b[0m \u001b[0mb\u001b[0m\u001b[0;34m)\u001b[0m\u001b[0;34m\u001b[0m\u001b[0m\n",
       "\u001b[0;31mSource:\u001b[0m   \n",
       "\u001b[0;32mdef\u001b[0m \u001b[0madd_function\u001b[0m\u001b[0;34m(\u001b[0m\u001b[0ma\u001b[0m\u001b[0;34m,\u001b[0m \u001b[0mb\u001b[0m\u001b[0;34m)\u001b[0m\u001b[0;34m:\u001b[0m\u001b[0;34m\u001b[0m\n",
       "\u001b[0;34m\u001b[0m    \u001b[0;34m\"\"\"This function adds two values together\"\"\"\u001b[0m\u001b[0;34m\u001b[0m\n",
       "\u001b[0;34m\u001b[0m    \u001b[0mresult\u001b[0m \u001b[0;34m=\u001b[0m \u001b[0ma\u001b[0m \u001b[0;34m+\u001b[0m \u001b[0mb\u001b[0m\u001b[0;34m\u001b[0m\n",
       "\u001b[0;34m\u001b[0m    \u001b[0;32mreturn\u001b[0m \u001b[0mresult\u001b[0m\u001b[0;34m\u001b[0m\u001b[0m\n",
       "\u001b[0;31mFile:\u001b[0m      ~/proj/uoftcoders/workshops/2018-07-12-utoronto/code/<ipython-input-2-87bf5a71c27a>\n",
       "\u001b[0;31mType:\u001b[0m      function\n"
      ]
     },
     "metadata": {},
     "output_type": "display_data"
    }
   ],
   "source": [
    "??add_function"
   ]
  },
  {
   "cell_type": "markdown",
   "metadata": {},
   "source": [
    "Much of the power from languages such as Python and R comes from community contributed functions written by talented people and shared openly so that anyone can use them for their own research instead of reinventing the wheel. Related function can be bundled together in packages/modules, which often consists of a set of functions that are helpful to carry out a particular task."
   ]
  },
   ]
  }
 ],
 "metadata": {
  "kernelspec": {
   "display_name": "Python 3",
   "language": "python",
   "name": "python3"
  },
  "language_info": {
   "codemirror_mode": {
    "name": "ipython",
    "version": 3
   },
   "file_extension": ".py",
   "mimetype": "text/x-python",
   "name": "python",
   "nbconvert_exporter": "python",
   "pygments_lexer": "ipython3",
   "version": "3.6.3"
  }
 },
 "nbformat": 4,
 "nbformat_minor": 2
}
