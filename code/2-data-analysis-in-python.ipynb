{
 "cells": [
  {
   "cell_type": "markdown",
   "metadata": {},
   "source": [
    "# Short Introduction to Programming in Python\n",
    "\n",
    "---\n",
    "teaching: 0\n",
    "exercises: 0\n",
    "questions:\n",
    "    - \"What is Python?\"\n",
    "    - \"Why should I learn Python?\"\n",
    "objectives:\n",
    "    - \"Describe the advantages of using programming vs. completing repetitive tasks by hand.\"\n",
    "    - \"Define the following data types in Python: strings, integers, and floats.\"\n",
    "    - \"Perform mathematical operations in Python using basic operators.\"\n",
    "    - \"Define the following as it relates to Python: lists, tuples, and dictionaries.\"\n",
    "---"
   ]
  },
  {
   "cell_type": "code",
   "execution_count": 1,
   "metadata": {},
   "outputs": [
    {
     "data": {
      "text/plain": [
       "4"
      ]
     },
     "execution_count": 1,
     "metadata": {},
     "output_type": "execute_result"
    }
   ],
   "source": [
    "2 + 2"
   ]
  },
  {
   "cell_type": "markdown",
   "metadata": {},
   "source": [
    "## Introduction to Python built-in data types\n",
    "\n",
    "### Strings, integers and floats\n",
    "\n",
    "One of the most basic things we can do in Python is assign values to variables:"
   ]
  },
  {
   "cell_type": "code",
   "execution_count": 2,
   "metadata": {},
   "outputs": [],
   "source": [
    "text = \"Data Carpentry\"  # An example of a string\n",
    "number = 42  # An example of an integer\n",
    "pi_value = 3.1415  # An example of a float"
   ]
  },
  {
   "cell_type": "markdown",
   "metadata": {},
   "source": [
    "Here we've assigned data to the variables `text`, `number` and `pi_value`,\n",
    "using the assignment operator `=`. To review the value of a variable, we\n",
    "can type the name of the variable into the interpreter and press <kbd>Return</kbd>:"
   ]
  },
  {
   "cell_type": "code",
   "execution_count": 3,
   "metadata": {},
   "outputs": [
    {
     "data": {
      "text/plain": [
       "'Data Carpentry'"
      ]
     },
     "execution_count": 3,
     "metadata": {},
     "output_type": "execute_result"
    }
   ],
   "source": [
    "text"
   ]
  },
  {
   "cell_type": "markdown",
   "metadata": {},
   "source": [
    "Everything in Python has a type. To get the type of something, we can pass it\n",
    "to the built-in function `type`:"
   ]
  },
  {
   "cell_type": "code",
   "execution_count": 4,
   "metadata": {},
   "outputs": [
    {
     "data": {
      "text/plain": [
       "str"
      ]
     },
     "execution_count": 4,
     "metadata": {},
     "output_type": "execute_result"
    }
   ],
   "source": [
    "type(text)"
   ]
  },
  {
   "cell_type": "code",
   "execution_count": 5,
   "metadata": {},
   "outputs": [
    {
     "data": {
      "text/plain": [
       "int"
      ]
     },
     "execution_count": 5,
     "metadata": {},
     "output_type": "execute_result"
    }
   ],
   "source": [
    "type(number)"
   ]
  },
  {
   "cell_type": "code",
   "execution_count": 6,
   "metadata": {},
   "outputs": [
    {
     "data": {
      "text/plain": [
       "float"
      ]
     },
     "execution_count": 6,
     "metadata": {},
     "output_type": "execute_result"
    }
   ],
   "source": [
    "type(6.02)"
   ]
  },
  {
   "cell_type": "markdown",
   "metadata": {},
   "source": [
    "The variable `text` is of type `str`, short for \"string\". Strings hold\n",
    "sequences of characters, which can be letters, numbers, punctuation\n",
    "or more exotic forms of text (even emoji!).\n",
    "\n",
    "We can also see the value of something using another built-in function, `print`:"
   ]
  },
  {
   "cell_type": "code",
   "execution_count": 7,
   "metadata": {},
   "outputs": [
    {
     "name": "stdout",
     "output_type": "stream",
     "text": [
      "Data Carpentry\n"
     ]
    }
   ],
   "source": [
    "print(text)"
   ]
  },
  {
   "cell_type": "code",
   "execution_count": 8,
   "metadata": {},
   "outputs": [
    {
     "name": "stdout",
     "output_type": "stream",
     "text": [
      "11\n"
     ]
    }
   ],
   "source": [
    "print(11)"
   ]
  },
  {
   "cell_type": "markdown",
   "metadata": {},
   "source": [
    "This may seem redundant, but in fact it's the only way to display output in a script:\n",
    "\n",
    "```python\n",
    "# A Python script file\n",
    "# Comments in Python start with #\n",
    "# The next line assigns the string \"Data Carpentry\" to the variable \"text\".\n",
    "text = \"Data Carpentry\"\n",
    "# The next line does nothing!\n",
    "text\n",
    "# The next line uses the print function to print out the value we assigned to \"text\"\n",
    "print(text)\n",
    "```\n",
    "\n",
    "*Running the script*\n",
    "```python\n",
    "$ Python example.py\n",
    "Data Carpentry\n",
    "```\n",
    "\n",
    "Notice that \"Data Carpentry\" is printed only once.\n",
    "\n",
    "**Tip**: `print` and `type` are built-in functions in Python. Later in this\n",
    "lesson, we will introduce methods and user-defined functions. The Python\n",
    "documentation is excellent for reference on the differences between them.\n",
    "\n",
    "### Operators\n",
    "\n",
    "We can perform mathematical calculations in Python using the basic operators\n",
    " `+, -, /, *, %`:"
   ]
  },
  {
   "cell_type": "code",
   "execution_count": 9,
   "metadata": {},
   "outputs": [
    {
     "data": {
      "text/plain": [
       "4"
      ]
     },
     "execution_count": 9,
     "metadata": {},
     "output_type": "execute_result"
    }
   ],
   "source": [
    "2 + 2  # Addition"
   ]
  },
  {
   "cell_type": "code",
   "execution_count": 10,
   "metadata": {},
   "outputs": [
    {
     "data": {
      "text/plain": [
       "42"
      ]
     },
     "execution_count": 10,
     "metadata": {},
     "output_type": "execute_result"
    }
   ],
   "source": [
    "6 * 7  # Multiplication"
   ]
  },
  {
   "cell_type": "code",
   "execution_count": 11,
   "metadata": {},
   "outputs": [
    {
     "data": {
      "text/plain": [
       "65536"
      ]
     },
     "execution_count": 11,
     "metadata": {},
     "output_type": "execute_result"
    }
   ],
   "source": [
    "2 ** 16  # Power"
   ]
  },
  {
   "cell_type": "code",
   "execution_count": 12,
   "metadata": {},
   "outputs": [
    {
     "data": {
      "text/plain": [
       "3"
      ]
     },
     "execution_count": 12,
     "metadata": {},
     "output_type": "execute_result"
    }
   ],
   "source": [
    "13 % 5  # Modulo"
   ]
  },
  {
   "cell_type": "markdown",
   "metadata": {},
   "source": [
    "We can also use comparison and logic operators:\n",
    "`<, >, ==, !=, <=, >=` and statements of identity such as\n",
    "`and, or, not`. The data type returned by this is\n",
    "called a _boolean_."
   ]
  },
  {
   "cell_type": "code",
   "execution_count": 13,
   "metadata": {},
   "outputs": [
    {
     "data": {
      "text/plain": [
       "False"
      ]
     },
     "execution_count": 13,
     "metadata": {},
     "output_type": "execute_result"
    }
   ],
   "source": [
    "3 > 4"
   ]
  },
  {
   "cell_type": "code",
   "execution_count": 14,
   "metadata": {},
   "outputs": [
    {
     "data": {
      "text/plain": [
       "True"
      ]
     },
     "execution_count": 14,
     "metadata": {},
     "output_type": "execute_result"
    }
   ],
   "source": [
    "True and True"
   ]
  },
  {
   "cell_type": "code",
   "execution_count": 15,
   "metadata": {},
   "outputs": [
    {
     "data": {
      "text/plain": [
       "True"
      ]
     },
     "execution_count": 15,
     "metadata": {},
     "output_type": "execute_result"
    }
   ],
   "source": [
    "True or False"
   ]
  },
  {
   "cell_type": "markdown",
   "metadata": {},
   "source": [
    "## Sequential types: Lists and Tuples\n",
    "\n",
    "### Lists\n",
    "\n",
    "**Lists** are a common data structure to hold an ordered sequence of\n",
    "elements. Each element can be accessed by an index.  Note that Python\n",
    "indexes start with 0 instead of 1:"
   ]
  },
  {
   "cell_type": "code",
   "execution_count": 16,
   "metadata": {},
   "outputs": [
    {
     "data": {
      "text/plain": [
       "1"
      ]
     },
     "execution_count": 16,
     "metadata": {},
     "output_type": "execute_result"
    }
   ],
   "source": [
    "numbers = [1, 2, 3]\n",
    "numbers[0]"
   ]
  },
  {
   "cell_type": "markdown",
   "metadata": {},
   "source": [
    "A `for` loop can be used to access the elements in a list or other Python data\n",
    "structure one at a time:"
   ]
  },
  {
   "cell_type": "code",
   "execution_count": 17,
   "metadata": {},
   "outputs": [
    {
     "name": "stdout",
     "output_type": "stream",
     "text": [
      "1\n",
      "2\n",
      "3\n"
     ]
    }
   ],
   "source": [
    "for num in numbers:\n",
    "    print(num)"
   ]
  },
  {
   "cell_type": "markdown",
   "metadata": {},
   "source": [
    "**Indentation** is very important in Python. Note that the second line in the\n",
    "example above is indented. Just like three chevrons `>>>` indicate an\n",
    "interactive prompt in Python, the three dots `...` are Python's prompt for\n",
    "multiple lines. This is Python's way of marking a block of code. [Note: you\n",
    "do not type `>>>` or `...`.]\n",
    "\n",
    "To add elements to the end of a list, we can use the `append` method. Methods\n",
    "are a way to interact with an object (a list, for example). We can invoke a\n",
    "method using the dot `.` followed by the method name and a list of arguments\n",
    "in parentheses. Let's look at an example using `append`:"
   ]
  },
  {
   "cell_type": "code",
   "execution_count": 18,
   "metadata": {},
   "outputs": [
    {
     "name": "stdout",
     "output_type": "stream",
     "text": [
      "[1, 2, 3, 4]\n"
     ]
    }
   ],
   "source": [
    "numbers.append(4)\n",
    "print(numbers)"
   ]
  },
  {
   "cell_type": "markdown",
   "metadata": {},
   "source": [
    "To find out what methods are available for an\n",
    "object, we can use the built-in `help` command:"
   ]
  },
  {
   "cell_type": "code",
   "execution_count": 19,
   "metadata": {},
   "outputs": [
    {
     "data": {
      "text/plain": [
       "\u001b[0;31mType:\u001b[0m        list\n",
       "\u001b[0;31mString form:\u001b[0m [1, 2, 3, 4]\n",
       "\u001b[0;31mLength:\u001b[0m      4\n",
       "\u001b[0;31mDocstring:\u001b[0m  \n",
       "list() -> new empty list\n",
       "list(iterable) -> new list initialized from iterable's items\n"
      ]
     },
     "metadata": {},
     "output_type": "display_data"
    }
   ],
   "source": [
    "?numbers"
   ]
  },
  {
   "cell_type": "markdown",
   "metadata": {},
   "source": [
    "### Tuples\n",
    "\n",
    "A tuple is similar to a list in that it's an ordered sequence of elements.\n",
    "However, tuples can not be changed once created (they are \"immutable\"). Tuples\n",
    "are created by placing comma-separated values inside parentheses `()`."
   ]
  },
  {
   "cell_type": "code",
   "execution_count": 20,
   "metadata": {},
   "outputs": [],
   "source": [
    "# Tuples use parentheses\n",
    "a_tuple = (1, 2, 3)\n",
    "another_tuple = ('blue', 'green', 'red')\n",
    "# Note: lists use square brackets\n",
    "a_list = [1, 2, 3]"
   ]
  },
  {
   "cell_type": "markdown",
   "metadata": {},
   "source": [
    "> ## Challenge - Tuples\n",
    "> 1. What happens when you type `a_tuple[2] = 5` vs `a_list[1] = 5` ?\n",
    "> 2. Type `type(a_tuple)` into Python - what is the object type?\n",
    ">"
   ]
  },
  {
   "cell_type": "markdown",
   "metadata": {},
   "source": [
    "## Dictionaries\n",
    "\n",
    "A **dictionary** is a container that holds pairs of objects - keys and values."
   ]
  },
  {
   "cell_type": "code",
   "execution_count": 21,
   "metadata": {},
   "outputs": [
    {
     "data": {
      "text/plain": [
       "1"
      ]
     },
     "execution_count": 21,
     "metadata": {},
     "output_type": "execute_result"
    }
   ],
   "source": [
    "translation = {'one': 1, 'two': 2}\n",
    "translation['one']"
   ]
  },
  {
   "cell_type": "markdown",
   "metadata": {},
   "source": [
    "Dictionaries work a lot like lists - except that you index them with *keys*.\n",
    "You can think about a key as a name for or a unique identifier for a set of values\n",
    "in the dictionary. Keys can only have particular types - they have to be\n",
    "\"hashable\". Strings and numeric types are acceptable, but lists aren't."
   ]
  },
  {
   "cell_type": "code",
   "execution_count": 22,
   "metadata": {},
   "outputs": [
    {
     "data": {
      "text/plain": [
       "'one'"
      ]
     },
     "execution_count": 22,
     "metadata": {},
     "output_type": "execute_result"
    }
   ],
   "source": [
    "rev = {1: 'one', 2: 'two'}\n",
    "rev[1]"
   ]
  },
  {
   "cell_type": "code",
   "execution_count": 23,
   "metadata": {},
   "outputs": [
    {
     "ename": "TypeError",
     "evalue": "unhashable type: 'list'",
     "output_type": "error",
     "traceback": [
      "\u001b[0;31m---------------------------------------------------------------------------\u001b[0m",
      "\u001b[0;31mTypeError\u001b[0m                                 Traceback (most recent call last)",
      "\u001b[0;32m<ipython-input-23-8169df7fbbea>\u001b[0m in \u001b[0;36m<module>\u001b[0;34m()\u001b[0m\n\u001b[0;32m----> 1\u001b[0;31m \u001b[0mbad\u001b[0m \u001b[0;34m=\u001b[0m \u001b[0;34m{\u001b[0m\u001b[0;34m[\u001b[0m\u001b[0;36m1\u001b[0m\u001b[0;34m,\u001b[0m \u001b[0;36m2\u001b[0m\u001b[0;34m,\u001b[0m \u001b[0;36m3\u001b[0m\u001b[0;34m]\u001b[0m\u001b[0;34m:\u001b[0m \u001b[0;36m3\u001b[0m\u001b[0;34m}\u001b[0m\u001b[0;34m\u001b[0m\u001b[0m\n\u001b[0m",
      "\u001b[0;31mTypeError\u001b[0m: unhashable type: 'list'"
     ]
    }
   ],
   "source": [
    "bad = {[1, 2, 3]: 3}"
   ]
  },
  {
   "cell_type": "markdown",
   "metadata": {},
   "source": [
    "In Python, a \"Traceback\" is an multi-line error block printed out for the\n",
    "user.\n",
    "\n",
    "To add an item to the dictionary we assign a value to a new key:"
   ]
  },
  {
   "cell_type": "code",
   "execution_count": 24,
   "metadata": {},
   "outputs": [
    {
     "data": {
      "text/plain": [
       "{1: 'one', 2: 'two', 3: 'three'}"
      ]
     },
     "execution_count": 24,
     "metadata": {},
     "output_type": "execute_result"
    }
   ],
   "source": [
    "rev = {1: 'one', 2: 'two'}\n",
    "rev[3] = 'three'\n",
    "rev"
   ]
  },
  {
   "cell_type": "markdown",
   "metadata": {},
   "source": [
    "Using `for` loops with dictionaries is a little more complicated. We can do\n",
    "this in two ways:"
   ]
  },
  {
   "cell_type": "code",
   "execution_count": 25,
   "metadata": {},
   "outputs": [
    {
     "name": "stdout",
     "output_type": "stream",
     "text": [
      "1 -> one\n",
      "2 -> two\n",
      "3 -> three\n"
     ]
    }
   ],
   "source": [
    "for key, value in rev.items():\n",
    "    print(key, '->', value)"
   ]
  },
  {
   "cell_type": "code",
   "execution_count": 26,
   "metadata": {},
   "outputs": [
    {
     "name": "stdout",
     "output_type": "stream",
     "text": [
      "1 -> one\n",
      "2 -> two\n",
      "3 -> three\n"
     ]
    }
   ],
   "source": [
    "for key in rev: # or `rev.keys()`\n",
    "    print(key, '->', rev[key])"
   ]
  },
  {
   "cell_type": "markdown",
   "metadata": {},
   "source": [
    "> ## Challenge - Can you do reassignment in a dictionary?\n",
    ">\n",
    "> 1. First check what `rev` is right now (remember `rev` is the name of our dictionary).\n",
    ">\n",
    ">    Type:\n",
    "> ```python\n",
    "> >>> rev\n",
    "> ```\n",
    ">\n",
    "> 2. Try to reassign the second value (in the *key value pair*) so that it no longer reads \"two\" but instead reads \"apple-sauce\".\n",
    ">\n",
    "> 3. Now display `rev` again to see if it has changed.\n",
    ">\n",
    "\n",
    "It is important to note that dictionaries are \"unordered\" and do not remember\n",
    "the sequence of their items (i.e. the order in which key:value pairs were\n",
    "added to the dictionary). Because of this, the order in which items are\n",
    "returned from loops over dictionaries might appear random and can even change\n",
    "with time.\n",
    "\n",
    "## Functions\n",
    "\n",
    "Defining a section of code as a function in Python is done using the `def`\n",
    "keyword. For example a function that takes two arguments and returns their sum\n",
    "can be defined as:"
   ]
  },
  {
   "cell_type": "code",
   "execution_count": 27,
   "metadata": {},
   "outputs": [
    {
     "name": "stdout",
     "output_type": "stream",
     "text": [
      "42\n"
     ]
    }
   ],
   "source": [
    "def add_function(a, b):\n",
    "    result = a + b\n",
    "    return result\n",
    "\n",
    "z = add_function(20, 22)\n",
    "print(z)"
   ]
  },
  {
   "cell_type": "markdown",
   "metadata": {},
   "source": [
    "# Manipulating and analyzing data with pandas\n",
    "\n",
    "## Lesson preamble\n",
    "\n",
    "### Learning objectives\n",
    "\n",
    "- Describe what a data frame is.\n",
    "- Load external data from a .csv file into a data frame with pandas.\n",
    "- Summarize the contents of a data frame with pandas.\n",
    "- Learn to use data frame methods `loc()`, `head()`, `info()`, `describe()`, `shape()`, `columns()`, and `index()`.\n",
    "\n",
    "### Lesson outline\n",
    "\n",
    "- Data set background (10 min)\n",
    "- What are data frames (15 min)\n",
    "- Data wrangling with pandas (40 min)\n",
    "\n",
    "---"
   ]
  },
  {
   "cell_type": "markdown",
   "metadata": {},
   "source": [
    "## Dataset background\n",
    "\n",
    "Today, we will be working with real data from a longitudinal study of the\n",
    "species abundance in the Chihuahuan desert ecosystem near Portal, Arizona, USA.\n",
    "This study includes observations of plants, ants, and rodents from 1977 - 2002,\n",
    "and has been used in over 100 publications. More information is available in\n",
    "[the abstract of this paper from 2009](\n",
    "http://onlinelibrary.wiley.com/doi/10.1890/08-1222.1/full). There are several\n",
    "datasets available related to this study, and we will be working with datasets\n",
    "that have been preprocessed by the [Data\n",
    "Carpentry](https://www.datacarpentry.org) to facilitate teaching. These are made\n",
    "available online as *The Portal Project Teaching Database*, both at the [Data\n",
    "Carpentry website](http://www.datacarpentry.org/ecology-workshop/data/), and on\n",
    "[Figshare](https://figshare.com/articles/Portal_Project_Teaching_Database/1314459/6).\n",
    "Figshare is a great place to publish data, code, figures, and more openly to\n",
    "make them available for other researchers and to communicate findings that are\n",
    "not part of a longer paper.\n",
    "\n",
    "### Presentation of the survey data\n",
    "\n",
    "We are studying the species and weight of animals caught in plots in our study\n",
    "area. The dataset is stored as a comma separated value (CSV) file. Each row\n",
    "holds information for a single animal, and the columns represent:\n",
    "\n",
    "| Column           | Description                        |\n",
    "|------------------|------------------------------------|\n",
    "| record_id        | unique id for the observation      |\n",
    "| month            | month of observation               |\n",
    "| day              | day of observation                 |\n",
    "| year             | year of observation                |\n",
    "| plot_id          | ID of a particular plot            |\n",
    "| species_id       | 2-letter code                      |\n",
    "| sex              | sex of animal (\"M\", \"F\")           |\n",
    "| hindfoot_length  | length of the hindfoot in mm       |\n",
    "| weight           | weight of the animal in grams      |\n",
    "| genus            | genus of animal                    |\n",
    "| species          | species of animal                  |\n",
    "| taxa             | e.g. rodent, reptile, bird, rabbit |\n",
    "| plot_type        | type of plot                       |"
   ]
  },
  {
   "cell_type": "markdown",
   "metadata": {},
   "source": [
    "To read the data into Python, we are going to use a function called `read_csv`. This\n",
    "function is contained in an Python-package called\n",
    "[`pandas`](https://pandas.pydata.org/). As mentioned previously, Python-packages are a bit like browser\n",
    "extensions, they are not essential, but can provide nifty functionality. We will\n",
    "go through Python-packages in general and which ones are good for data analyses in\n",
    "detail later in this lecture. Now, let's import `pandas`."
   ]
  },
  {
   "cell_type": "code",
   "execution_count": 28,
   "metadata": {},
   "outputs": [],
   "source": [
    "# TODO double check that python packages have already been introduced before this\n",
    "# TODO can I left align the entire table?"
   ]
  },
  {
   "cell_type": "code",
   "execution_count": 29,
   "metadata": {},
   "outputs": [],
   "source": [
    "import pandas as pd"
   ]
  },
  {
   "cell_type": "markdown",
   "metadata": {},
   "source": [
    "`pandas` can read CSV-files saved on the computer or directly from an URL."
   ]
  },
  {
   "cell_type": "code",
   "execution_count": 30,
   "metadata": {},
   "outputs": [],
   "source": [
    "surveys = pd.read_csv('https://ndownloader.figshare.com/files/2292169')"
   ]
  },
  {
   "cell_type": "markdown",
   "metadata": {},
   "source": [
    "To view the result, you can simply type `surveys` in a cell and run it, just like when viewing the content of any variable in Python."
   ]
  },
  {
   "cell_type": "markdown",
   "metadata": {},
   "source": [
    "This is how a data frame is displayed in the JupyterLab Notebook. Although the data frame itself just consists of the values, the Notebook knows that this is a data frame and displays it in a nice tabular format (by adding HTML decorators), and adds some cosmetic conveniences such as the bold font type for the column and row names, the alternating grey and white zebra stripes for the rows and highlights the row the mouse pointer moves over."
   ]
  },
  {
   "cell_type": "markdown",
   "metadata": {},
   "source": [
    "## What are data frames?\n",
    "\n",
    "A data frame is the representation of data in a tabular format, similar to how data is often arranged in spreadsheets. The data is rectangular, meaning that all rows have the same amount of columns and all columns have the same amount of rows. Data frames are the *de facto* data structure for most tabular data, and what we use for statistics and plotting. A data frame can be created by hand, but most commonly they are generated by the function `read_csv()`. In other words, when importing spreadsheets from your hard drive (or the web).\n",
    "\n",
    "As can be seen above, the default is to display the first and last 30 rows and truncate everything in between, as indicated by the ellipsis (`...`). Although it is truncated, this output is still quite space consuming. To glance at how the data frame looks, it is sufficient to display only the top (the first 5 lines) using the `head()` method."
   ]
  },
  {
   "cell_type": "code",
   "execution_count": 31,
   "metadata": {},
   "outputs": [
    {
     "data": {
      "text/html": [
       "<div>\n",
       "<style scoped>\n",
       "    .dataframe tbody tr th:only-of-type {\n",
       "        vertical-align: middle;\n",
       "    }\n",
       "\n",
       "    .dataframe tbody tr th {\n",
       "        vertical-align: top;\n",
       "    }\n",
       "\n",
       "    .dataframe thead th {\n",
       "        text-align: right;\n",
       "    }\n",
       "</style>\n",
       "<table border=\"1\" class=\"dataframe\">\n",
       "  <thead>\n",
       "    <tr style=\"text-align: right;\">\n",
       "      <th></th>\n",
       "      <th>record_id</th>\n",
       "      <th>month</th>\n",
       "      <th>day</th>\n",
       "      <th>year</th>\n",
       "      <th>plot_id</th>\n",
       "      <th>species_id</th>\n",
       "      <th>sex</th>\n",
       "      <th>hindfoot_length</th>\n",
       "      <th>weight</th>\n",
       "      <th>genus</th>\n",
       "      <th>species</th>\n",
       "      <th>taxa</th>\n",
       "      <th>plot_type</th>\n",
       "    </tr>\n",
       "  </thead>\n",
       "  <tbody>\n",
       "    <tr>\n",
       "      <th>0</th>\n",
       "      <td>1</td>\n",
       "      <td>7</td>\n",
       "      <td>16</td>\n",
       "      <td>1977</td>\n",
       "      <td>2</td>\n",
       "      <td>NL</td>\n",
       "      <td>M</td>\n",
       "      <td>32.0</td>\n",
       "      <td>NaN</td>\n",
       "      <td>Neotoma</td>\n",
       "      <td>albigula</td>\n",
       "      <td>Rodent</td>\n",
       "      <td>Control</td>\n",
       "    </tr>\n",
       "    <tr>\n",
       "      <th>1</th>\n",
       "      <td>72</td>\n",
       "      <td>8</td>\n",
       "      <td>19</td>\n",
       "      <td>1977</td>\n",
       "      <td>2</td>\n",
       "      <td>NL</td>\n",
       "      <td>M</td>\n",
       "      <td>31.0</td>\n",
       "      <td>NaN</td>\n",
       "      <td>Neotoma</td>\n",
       "      <td>albigula</td>\n",
       "      <td>Rodent</td>\n",
       "      <td>Control</td>\n",
       "    </tr>\n",
       "    <tr>\n",
       "      <th>2</th>\n",
       "      <td>224</td>\n",
       "      <td>9</td>\n",
       "      <td>13</td>\n",
       "      <td>1977</td>\n",
       "      <td>2</td>\n",
       "      <td>NL</td>\n",
       "      <td>NaN</td>\n",
       "      <td>NaN</td>\n",
       "      <td>NaN</td>\n",
       "      <td>Neotoma</td>\n",
       "      <td>albigula</td>\n",
       "      <td>Rodent</td>\n",
       "      <td>Control</td>\n",
       "    </tr>\n",
       "    <tr>\n",
       "      <th>3</th>\n",
       "      <td>266</td>\n",
       "      <td>10</td>\n",
       "      <td>16</td>\n",
       "      <td>1977</td>\n",
       "      <td>2</td>\n",
       "      <td>NL</td>\n",
       "      <td>NaN</td>\n",
       "      <td>NaN</td>\n",
       "      <td>NaN</td>\n",
       "      <td>Neotoma</td>\n",
       "      <td>albigula</td>\n",
       "      <td>Rodent</td>\n",
       "      <td>Control</td>\n",
       "    </tr>\n",
       "    <tr>\n",
       "      <th>4</th>\n",
       "      <td>349</td>\n",
       "      <td>11</td>\n",
       "      <td>12</td>\n",
       "      <td>1977</td>\n",
       "      <td>2</td>\n",
       "      <td>NL</td>\n",
       "      <td>NaN</td>\n",
       "      <td>NaN</td>\n",
       "      <td>NaN</td>\n",
       "      <td>Neotoma</td>\n",
       "      <td>albigula</td>\n",
       "      <td>Rodent</td>\n",
       "      <td>Control</td>\n",
       "    </tr>\n",
       "  </tbody>\n",
       "</table>\n",
       "</div>"
      ],
      "text/plain": [
       "   record_id  month  day  year  plot_id species_id  sex  hindfoot_length  \\\n",
       "0          1      7   16  1977        2         NL    M             32.0   \n",
       "1         72      8   19  1977        2         NL    M             31.0   \n",
       "2        224      9   13  1977        2         NL  NaN              NaN   \n",
       "3        266     10   16  1977        2         NL  NaN              NaN   \n",
       "4        349     11   12  1977        2         NL  NaN              NaN   \n",
       "\n",
       "   weight    genus   species    taxa plot_type  \n",
       "0     NaN  Neotoma  albigula  Rodent   Control  \n",
       "1     NaN  Neotoma  albigula  Rodent   Control  \n",
       "2     NaN  Neotoma  albigula  Rodent   Control  \n",
       "3     NaN  Neotoma  albigula  Rodent   Control  \n",
       "4     NaN  Neotoma  albigula  Rodent   Control  "
      ]
     },
     "execution_count": 31,
     "metadata": {},
     "output_type": "execute_result"
    }
   ],
   "source": [
    "surveys.head()"
   ]
  },
  {
   "cell_type": "markdown",
   "metadata": {},
   "source": [
    "Methods are very similar to functions, the main difference is that they belong to an object (above, the method `head()` belongs to the data frame `surveys`). Methods operate on the object they belong to, that's why we can call the method with an empty parenthesis without any arguments. Compare this with the function `type()` that was introduced previously."
   ]
  },
  {
   "cell_type": "code",
   "execution_count": 32,
   "metadata": {},
   "outputs": [
    {
     "data": {
      "text/plain": [
       "pandas.core.frame.DataFrame"
      ]
     },
     "execution_count": 32,
     "metadata": {},
     "output_type": "execute_result"
    }
   ],
   "source": [
    "type(surveys)"
   ]
  },
  {
   "cell_type": "markdown",
   "metadata": {},
   "source": [
    "Here, `surveys` are explicitly passed as an argument to `type()`. An immediately tangible advantage with methods is that they simplify tab completion. Just type the name of the dataframe, a period, and then hit tab to see all the relevant methods for that data frame instead of fumbling around with all the available functions in Python and figuring out which ones operate on data frames and which do not. Methods also facilitates readability when we chain many operations together, which will be shown in detail later.\n",
    "\n",
    "The columns in a data frame can contain data of different types, e.g. (e.g., integers, floats, objects (including strings, lists, dictionaries, etc)). General information about the data frame (including the column data types) can be obtained with the `info()` method."
   ]
  },
  {
   "cell_type": "code",
   "execution_count": 33,
   "metadata": {},
   "outputs": [
    {
     "name": "stdout",
     "output_type": "stream",
     "text": [
      "<class 'pandas.core.frame.DataFrame'>\n",
      "RangeIndex: 34786 entries, 0 to 34785\n",
      "Data columns (total 13 columns):\n",
      "record_id          34786 non-null int64\n",
      "month              34786 non-null int64\n",
      "day                34786 non-null int64\n",
      "year               34786 non-null int64\n",
      "plot_id            34786 non-null int64\n",
      "species_id         34786 non-null object\n",
      "sex                33038 non-null object\n",
      "hindfoot_length    31438 non-null float64\n",
      "weight             32283 non-null float64\n",
      "genus              34786 non-null object\n",
      "species            34786 non-null object\n",
      "taxa               34786 non-null object\n",
      "plot_type          34786 non-null object\n",
      "dtypes: float64(2), int64(5), object(6)\n",
      "memory usage: 3.5+ MB\n"
     ]
    }
   ],
   "source": [
    "surveys.info()"
   ]
  },
  {
   "cell_type": "markdown",
   "metadata": {},
   "source": [
    "The information includes the total number of rows and columns, the number of non-null observations, the column data types, and the memory (RAM) usage. The number of non-null observation is not the same for all columns, which means that some columns contain null (or NA) values representing that there is missing information, we will get into this in detail later\n",
    "\n",
    "After reading in a data frame, `head()` and `info()` are two of the most useful methods to get an idea of the structure of this data frame. There are many additional methods that can facilitate the understanding of what a data frame contains:"
   ]
  },
  {
   "cell_type": "code",
   "execution_count": 34,
   "metadata": {},
   "outputs": [],
   "source": [
    "# TODO have a \"tips\" banner? for example for head adn info above. or have the below in a box?\n",
    "# TODO make challenges into boxes?"
   ]
  },
  {
   "cell_type": "markdown",
   "metadata": {},
   "source": [
    "- Size:\n",
    "    - `surveys.shape` - a tuple with the number of rows in the first element\n",
    "      and the number of columns as the second element\n",
    "    - `surveys.shape[0]` - the number of rows\n",
    "    - `surveys.shape[1]`- the number of columns\n",
    "\n",
    "- Content:\n",
    "    - `surveys.head()` - shows the first 5 rows\n",
    "    - `surveys.tail()` - shows the last 5 rows\n",
    "\n",
    "- Names:\n",
    "    - `surveys.columns` - returns the names of the columns (also called variable names) \n",
    "      objects)\n",
    "    - `surveys.index` - returns the names of the rows (referred to as the index in pandas)\n",
    "\n",
    "- Summary:\n",
    "    - `surveys.info()` - column names and data types, number of observations, memory consumptions\n",
    "      length, and content of  each column\n",
    "    - `surveys.describe()` - summary statistics for each column\n",
    "\n",
    "<!-- # TODO should this section be moved to advanced topics? (nicest would be with a colored box) -->\n",
    "\n",
    "All methods end with a parenthesis. Those words that do not have a trailing parenthesis are called attributes and hold a value that has been computed earlier, think of them as variables that belong to the object. When an an attribute is accessed, it will just return its value, like a variable would. When a method is called it will first perform a computation and then return the resulting value. For example, every time pandas creates a data frame, the number of rows and columns is computed and stored in the `shape` attribute, since it is very common to access this information and it would be a waste of time to compute it every time it is needed.\n",
    "\n",
    "#### Challenge\n",
    "\n",
    "Based on the output of `surveys.info()`, can you answer the following questions?\n",
    "\n",
    "* What is the class of the object `surveys`?\n",
    "* How many rows and how many columns are in this object?\n",
    "* Why is there not the same number of rows (observations) for each column?\n",
    "\n",
    "```{r}\n",
    "## Answers\n",
    "##\n",
    "## * class: data frame\n",
    "## * how many rows: 34786,  how many columns: 13\n",
    "## * some values are NA, for example an animal escaped before it was measured, we will go more into this later\n",
    "```"
   ]
  },
  {
   "cell_type": "markdown",
   "metadata": {},
   "source": [
    "However, it is good practice to keep a copy of the data stored locally on your computer in case you want to do offline analyses, \n",
    "the online version of the file changes, or the file is taken down. You can either\n",
    "download the data manually or just save the `surveys` dataframe with `to_csv()`."
   ]
  },
  {
   "cell_type": "code",
   "execution_count": 35,
   "metadata": {},
   "outputs": [],
   "source": [
    "# index=False because we don't want the index in the csv file.\n",
    "surveys.to_csv('surveys.csv', index=False)"
   ]
  },
  {
   "cell_type": "markdown",
   "metadata": {},
   "source": [
    "We only have to do this save step the first time we download the data. From now on, we can simply load the data by specifying the local path instead of the URL."
   ]
  },
  {
   "cell_type": "code",
   "execution_count": 36,
   "metadata": {},
   "outputs": [
    {
     "data": {
      "text/html": [
       "<div>\n",
       "<style scoped>\n",
       "    .dataframe tbody tr th:only-of-type {\n",
       "        vertical-align: middle;\n",
       "    }\n",
       "\n",
       "    .dataframe tbody tr th {\n",
       "        vertical-align: top;\n",
       "    }\n",
       "\n",
       "    .dataframe thead th {\n",
       "        text-align: right;\n",
       "    }\n",
       "</style>\n",
       "<table border=\"1\" class=\"dataframe\">\n",
       "  <thead>\n",
       "    <tr style=\"text-align: right;\">\n",
       "      <th></th>\n",
       "      <th>record_id</th>\n",
       "      <th>month</th>\n",
       "      <th>day</th>\n",
       "      <th>year</th>\n",
       "      <th>plot_id</th>\n",
       "      <th>species_id</th>\n",
       "      <th>sex</th>\n",
       "      <th>hindfoot_length</th>\n",
       "      <th>weight</th>\n",
       "      <th>genus</th>\n",
       "      <th>species</th>\n",
       "      <th>taxa</th>\n",
       "      <th>plot_type</th>\n",
       "    </tr>\n",
       "  </thead>\n",
       "  <tbody>\n",
       "    <tr>\n",
       "      <th>0</th>\n",
       "      <td>1</td>\n",
       "      <td>7</td>\n",
       "      <td>16</td>\n",
       "      <td>1977</td>\n",
       "      <td>2</td>\n",
       "      <td>NL</td>\n",
       "      <td>M</td>\n",
       "      <td>32.0</td>\n",
       "      <td>NaN</td>\n",
       "      <td>Neotoma</td>\n",
       "      <td>albigula</td>\n",
       "      <td>Rodent</td>\n",
       "      <td>Control</td>\n",
       "    </tr>\n",
       "    <tr>\n",
       "      <th>1</th>\n",
       "      <td>72</td>\n",
       "      <td>8</td>\n",
       "      <td>19</td>\n",
       "      <td>1977</td>\n",
       "      <td>2</td>\n",
       "      <td>NL</td>\n",
       "      <td>M</td>\n",
       "      <td>31.0</td>\n",
       "      <td>NaN</td>\n",
       "      <td>Neotoma</td>\n",
       "      <td>albigula</td>\n",
       "      <td>Rodent</td>\n",
       "      <td>Control</td>\n",
       "    </tr>\n",
       "    <tr>\n",
       "      <th>2</th>\n",
       "      <td>224</td>\n",
       "      <td>9</td>\n",
       "      <td>13</td>\n",
       "      <td>1977</td>\n",
       "      <td>2</td>\n",
       "      <td>NL</td>\n",
       "      <td>NaN</td>\n",
       "      <td>NaN</td>\n",
       "      <td>NaN</td>\n",
       "      <td>Neotoma</td>\n",
       "      <td>albigula</td>\n",
       "      <td>Rodent</td>\n",
       "      <td>Control</td>\n",
       "    </tr>\n",
       "    <tr>\n",
       "      <th>3</th>\n",
       "      <td>266</td>\n",
       "      <td>10</td>\n",
       "      <td>16</td>\n",
       "      <td>1977</td>\n",
       "      <td>2</td>\n",
       "      <td>NL</td>\n",
       "      <td>NaN</td>\n",
       "      <td>NaN</td>\n",
       "      <td>NaN</td>\n",
       "      <td>Neotoma</td>\n",
       "      <td>albigula</td>\n",
       "      <td>Rodent</td>\n",
       "      <td>Control</td>\n",
       "    </tr>\n",
       "    <tr>\n",
       "      <th>4</th>\n",
       "      <td>349</td>\n",
       "      <td>11</td>\n",
       "      <td>12</td>\n",
       "      <td>1977</td>\n",
       "      <td>2</td>\n",
       "      <td>NL</td>\n",
       "      <td>NaN</td>\n",
       "      <td>NaN</td>\n",
       "      <td>NaN</td>\n",
       "      <td>Neotoma</td>\n",
       "      <td>albigula</td>\n",
       "      <td>Rodent</td>\n",
       "      <td>Control</td>\n",
       "    </tr>\n",
       "  </tbody>\n",
       "</table>\n",
       "</div>"
      ],
      "text/plain": [
       "   record_id  month  day  year  plot_id species_id  sex  hindfoot_length  \\\n",
       "0          1      7   16  1977        2         NL    M             32.0   \n",
       "1         72      8   19  1977        2         NL    M             31.0   \n",
       "2        224      9   13  1977        2         NL  NaN              NaN   \n",
       "3        266     10   16  1977        2         NL  NaN              NaN   \n",
       "4        349     11   12  1977        2         NL  NaN              NaN   \n",
       "\n",
       "   weight    genus   species    taxa plot_type  \n",
       "0     NaN  Neotoma  albigula  Rodent   Control  \n",
       "1     NaN  Neotoma  albigula  Rodent   Control  \n",
       "2     NaN  Neotoma  albigula  Rodent   Control  \n",
       "3     NaN  Neotoma  albigula  Rodent   Control  \n",
       "4     NaN  Neotoma  albigula  Rodent   Control  "
      ]
     },
     "execution_count": 36,
     "metadata": {},
     "output_type": "execute_result"
    }
   ],
   "source": [
    "surveys = pd.read_csv('surveys.csv')\n",
    "surveys.head()"
   ]
  },
  {
   "cell_type": "markdown",
   "metadata": {},
   "source": [
    "### Indexing and subsetting data frames\n",
    "\n",
    "The survey data frame has rows and columns (it has 2 dimensions). To extract specific data from it (also referred to as \"subsetting\"), columns can be called by name."
   ]
  },
  {
   "cell_type": "code",
   "execution_count": 37,
   "metadata": {},
   "outputs": [
    {
     "data": {
      "text/plain": [
       "0    NL\n",
       "1    NL\n",
       "2    NL\n",
       "3    NL\n",
       "4    NL\n",
       "Name: species_id, dtype: object"
      ]
     },
     "execution_count": 37,
     "metadata": {},
     "output_type": "execute_result"
    }
   ],
   "source": [
    "surveys['species_id'].head() # Using `head` just to limit the ouput."
   ]
  },
  {
   "cell_type": "markdown",
   "metadata": {},
   "source": [
    "The JupyterLab Notebook (technically, the underlying IPython interpreter) knows about the columns in your data frame, so you can take advantage of tab autocompletion to get the correct column name. \n",
    "\n",
    "Another syntax that is often used to specify column names is `.<column_name>`."
   ]
  },
  {
   "cell_type": "code",
   "execution_count": 38,
   "metadata": {},
   "outputs": [
    {
     "data": {
      "text/plain": [
       "0    NL\n",
       "1    NL\n",
       "2    NL\n",
       "3    NL\n",
       "4    NL\n",
       "Name: species_id, dtype: object"
      ]
     },
     "execution_count": 38,
     "metadata": {},
     "output_type": "execute_result"
    }
   ],
   "source": [
    "surveys.species_id.head()"
   ]
  },
  {
   "cell_type": "markdown",
   "metadata": {},
   "source": [
    "Using brackets is clearer and also alows for passing multiple columns as a list, so this tutorial will stick to that."
   ]
  },
  {
   "cell_type": "code",
   "execution_count": 39,
   "metadata": {},
   "outputs": [
    {
     "data": {
      "text/html": [
       "<div>\n",
       "<style scoped>\n",
       "    .dataframe tbody tr th:only-of-type {\n",
       "        vertical-align: middle;\n",
       "    }\n",
       "\n",
       "    .dataframe tbody tr th {\n",
       "        vertical-align: top;\n",
       "    }\n",
       "\n",
       "    .dataframe thead th {\n",
       "        text-align: right;\n",
       "    }\n",
       "</style>\n",
       "<table border=\"1\" class=\"dataframe\">\n",
       "  <thead>\n",
       "    <tr style=\"text-align: right;\">\n",
       "      <th></th>\n",
       "      <th>species_id</th>\n",
       "      <th>record_id</th>\n",
       "    </tr>\n",
       "  </thead>\n",
       "  <tbody>\n",
       "    <tr>\n",
       "      <th>0</th>\n",
       "      <td>NL</td>\n",
       "      <td>1</td>\n",
       "    </tr>\n",
       "    <tr>\n",
       "      <th>1</th>\n",
       "      <td>NL</td>\n",
       "      <td>72</td>\n",
       "    </tr>\n",
       "    <tr>\n",
       "      <th>2</th>\n",
       "      <td>NL</td>\n",
       "      <td>224</td>\n",
       "    </tr>\n",
       "    <tr>\n",
       "      <th>3</th>\n",
       "      <td>NL</td>\n",
       "      <td>266</td>\n",
       "    </tr>\n",
       "    <tr>\n",
       "      <th>4</th>\n",
       "      <td>NL</td>\n",
       "      <td>349</td>\n",
       "    </tr>\n",
       "  </tbody>\n",
       "</table>\n",
       "</div>"
      ],
      "text/plain": [
       "  species_id  record_id\n",
       "0         NL          1\n",
       "1         NL         72\n",
       "2         NL        224\n",
       "3         NL        266\n",
       "4         NL        349"
      ]
     },
     "execution_count": 39,
     "metadata": {},
     "output_type": "execute_result"
    }
   ],
   "source": [
    "surveys[['species_id', 'record_id']].head()"
   ]
  },
  {
   "cell_type": "markdown",
   "metadata": {},
   "source": [
    "The output is displayed a bit differently this time. The reason is that in the last cell where the returned data frame only had one column (\"species\") pandas technically returned a `Series`, not a `Dataframe`. This can be confirmed by using `type` as previously."
   ]
  },
  {
   "cell_type": "code",
   "execution_count": 40,
   "metadata": {},
   "outputs": [
    {
     "data": {
      "text/plain": [
       "pandas.core.series.Series"
      ]
     },
     "execution_count": 40,
     "metadata": {},
     "output_type": "execute_result"
    }
   ],
   "source": [
    "type(surveys.species_id.head())"
   ]
  },
  {
   "cell_type": "code",
   "execution_count": 41,
   "metadata": {},
   "outputs": [
    {
     "data": {
      "text/plain": [
       "pandas.core.frame.DataFrame"
      ]
     },
     "execution_count": 41,
     "metadata": {},
     "output_type": "execute_result"
    }
   ],
   "source": [
    "type(surveys[['species_id', 'record_id']].head())"
   ]
  },
  {
   "cell_type": "markdown",
   "metadata": {},
   "source": [
    "So, every individual column is actually a `Series` and together they constitue a `Dataframe`. This introductory tutorial will not make any further distinction between a `Series` and a `Dataframe`, and many of the analysis techniques used here will apply to both series and data frames. If you prefer how the data frame is displayed, you can convert the `Series` to a `Dataframe` with `to_frame`."
   ]
  },
  {
   "cell_type": "code",
   "execution_count": 42,
   "metadata": {},
   "outputs": [
    {
     "data": {
      "text/plain": [
       "pandas.core.frame.DataFrame"
      ]
     },
     "execution_count": 42,
     "metadata": {},
     "output_type": "execute_result"
    }
   ],
   "source": [
    "type(surveys.species_id.head().to_frame())"
   ]
  },
  {
   "cell_type": "code",
   "execution_count": 43,
   "metadata": {},
   "outputs": [
    {
     "data": {
      "text/html": [
       "<div>\n",
       "<style scoped>\n",
       "    .dataframe tbody tr th:only-of-type {\n",
       "        vertical-align: middle;\n",
       "    }\n",
       "\n",
       "    .dataframe tbody tr th {\n",
       "        vertical-align: top;\n",
       "    }\n",
       "\n",
       "    .dataframe thead th {\n",
       "        text-align: right;\n",
       "    }\n",
       "</style>\n",
       "<table border=\"1\" class=\"dataframe\">\n",
       "  <thead>\n",
       "    <tr style=\"text-align: right;\">\n",
       "      <th></th>\n",
       "      <th>species_id</th>\n",
       "    </tr>\n",
       "  </thead>\n",
       "  <tbody>\n",
       "    <tr>\n",
       "      <th>0</th>\n",
       "      <td>NL</td>\n",
       "    </tr>\n",
       "    <tr>\n",
       "      <th>1</th>\n",
       "      <td>NL</td>\n",
       "    </tr>\n",
       "    <tr>\n",
       "      <th>2</th>\n",
       "      <td>NL</td>\n",
       "    </tr>\n",
       "    <tr>\n",
       "      <th>3</th>\n",
       "      <td>NL</td>\n",
       "    </tr>\n",
       "    <tr>\n",
       "      <th>4</th>\n",
       "      <td>NL</td>\n",
       "    </tr>\n",
       "  </tbody>\n",
       "</table>\n",
       "</div>"
      ],
      "text/plain": [
       "  species_id\n",
       "0         NL\n",
       "1         NL\n",
       "2         NL\n",
       "3         NL\n",
       "4         NL"
      ]
     },
     "execution_count": 43,
     "metadata": {},
     "output_type": "execute_result"
    }
   ],
   "source": [
    "surveys.species_id.head().to_frame()"
   ]
  },
  {
   "cell_type": "markdown",
   "metadata": {},
   "source": [
    "To select specific rows instead of columns, we can use the `loc[]` (location) syntax. This will select the row where the index name (the row name) equals '4'. Indices are unique, so specifying one name to `loc[]` will always return one row."
   ]
  },
  {
   "cell_type": "code",
   "execution_count": 44,
   "metadata": {},
   "outputs": [
    {
     "data": {
      "text/plain": [
       "record_id               349\n",
       "month                    11\n",
       "day                      12\n",
       "year                   1977\n",
       "plot_id                   2\n",
       "species_id               NL\n",
       "sex                     NaN\n",
       "hindfoot_length         NaN\n",
       "weight                  NaN\n",
       "genus               Neotoma\n",
       "species            albigula\n",
       "taxa                 Rodent\n",
       "plot_type           Control\n",
       "Name: 4, dtype: object"
      ]
     },
     "execution_count": 44,
     "metadata": {},
     "output_type": "execute_result"
    }
   ],
   "source": [
    "surveys.loc[4]"
   ]
  },
  {
   "cell_type": "markdown",
   "metadata": {},
   "source": [
    "Square brackets are used instead of parentheses to stay consistent with the indexing with square brackets for Python lists and Numpy arrays. The data frame index does not have to consist of consecutive integers, and `loc[]` can be used to reference a named row via a string. If it is desired to reference rows by their index *position* rather than their index *name*, `iloc[]`.\n",
    "\n",
    "`loc[]` can also select a range of rows with the same slice syntax introduced for lists earlier."
   ]
  },
  {
   "cell_type": "code",
   "execution_count": 45,
   "metadata": {},
   "outputs": [
    {
     "data": {
      "text/html": [
       "<div>\n",
       "<style scoped>\n",
       "    .dataframe tbody tr th:only-of-type {\n",
       "        vertical-align: middle;\n",
       "    }\n",
       "\n",
       "    .dataframe tbody tr th {\n",
       "        vertical-align: top;\n",
       "    }\n",
       "\n",
       "    .dataframe thead th {\n",
       "        text-align: right;\n",
       "    }\n",
       "</style>\n",
       "<table border=\"1\" class=\"dataframe\">\n",
       "  <thead>\n",
       "    <tr style=\"text-align: right;\">\n",
       "      <th></th>\n",
       "      <th>record_id</th>\n",
       "      <th>month</th>\n",
       "      <th>day</th>\n",
       "      <th>year</th>\n",
       "      <th>plot_id</th>\n",
       "      <th>species_id</th>\n",
       "      <th>sex</th>\n",
       "      <th>hindfoot_length</th>\n",
       "      <th>weight</th>\n",
       "      <th>genus</th>\n",
       "      <th>species</th>\n",
       "      <th>taxa</th>\n",
       "      <th>plot_type</th>\n",
       "    </tr>\n",
       "  </thead>\n",
       "  <tbody>\n",
       "    <tr>\n",
       "      <th>2</th>\n",
       "      <td>224</td>\n",
       "      <td>9</td>\n",
       "      <td>13</td>\n",
       "      <td>1977</td>\n",
       "      <td>2</td>\n",
       "      <td>NL</td>\n",
       "      <td>NaN</td>\n",
       "      <td>NaN</td>\n",
       "      <td>NaN</td>\n",
       "      <td>Neotoma</td>\n",
       "      <td>albigula</td>\n",
       "      <td>Rodent</td>\n",
       "      <td>Control</td>\n",
       "    </tr>\n",
       "    <tr>\n",
       "      <th>3</th>\n",
       "      <td>266</td>\n",
       "      <td>10</td>\n",
       "      <td>16</td>\n",
       "      <td>1977</td>\n",
       "      <td>2</td>\n",
       "      <td>NL</td>\n",
       "      <td>NaN</td>\n",
       "      <td>NaN</td>\n",
       "      <td>NaN</td>\n",
       "      <td>Neotoma</td>\n",
       "      <td>albigula</td>\n",
       "      <td>Rodent</td>\n",
       "      <td>Control</td>\n",
       "    </tr>\n",
       "    <tr>\n",
       "      <th>4</th>\n",
       "      <td>349</td>\n",
       "      <td>11</td>\n",
       "      <td>12</td>\n",
       "      <td>1977</td>\n",
       "      <td>2</td>\n",
       "      <td>NL</td>\n",
       "      <td>NaN</td>\n",
       "      <td>NaN</td>\n",
       "      <td>NaN</td>\n",
       "      <td>Neotoma</td>\n",
       "      <td>albigula</td>\n",
       "      <td>Rodent</td>\n",
       "      <td>Control</td>\n",
       "    </tr>\n",
       "  </tbody>\n",
       "</table>\n",
       "</div>"
      ],
      "text/plain": [
       "   record_id  month  day  year  plot_id species_id  sex  hindfoot_length  \\\n",
       "2        224      9   13  1977        2         NL  NaN              NaN   \n",
       "3        266     10   16  1977        2         NL  NaN              NaN   \n",
       "4        349     11   12  1977        2         NL  NaN              NaN   \n",
       "\n",
       "   weight    genus   species    taxa plot_type  \n",
       "2     NaN  Neotoma  albigula  Rodent   Control  \n",
       "3     NaN  Neotoma  albigula  Rodent   Control  \n",
       "4     NaN  Neotoma  albigula  Rodent   Control  "
      ]
     },
     "execution_count": 45,
     "metadata": {},
     "output_type": "execute_result"
    }
   ],
   "source": [
    "surveys.loc[2:4] # As a convenience row slicing can also be done in brackets without loc."
   ]
  },
  {
   "cell_type": "markdown",
   "metadata": {},
   "source": [
    "And a combination of columns and rows."
   ]
  },
  {
   "cell_type": "code",
   "execution_count": 46,
   "metadata": {},
   "outputs": [
    {
     "data": {
      "text/plain": [
       "2    224\n",
       "3    266\n",
       "4    349\n",
       "Name: record_id, dtype: int64"
      ]
     },
     "execution_count": 46,
     "metadata": {},
     "output_type": "execute_result"
    }
   ],
   "source": [
    "surveys.loc[2:4, 'record_id']"
   ]
  },
  {
   "cell_type": "code",
   "execution_count": 47,
   "metadata": {},
   "outputs": [
    {
     "data": {
      "text/html": [
       "<div>\n",
       "<style scoped>\n",
       "    .dataframe tbody tr th:only-of-type {\n",
       "        vertical-align: middle;\n",
       "    }\n",
       "\n",
       "    .dataframe tbody tr th {\n",
       "        vertical-align: top;\n",
       "    }\n",
       "\n",
       "    .dataframe thead th {\n",
       "        text-align: right;\n",
       "    }\n",
       "</style>\n",
       "<table border=\"1\" class=\"dataframe\">\n",
       "  <thead>\n",
       "    <tr style=\"text-align: right;\">\n",
       "      <th></th>\n",
       "      <th>species</th>\n",
       "      <th>record_id</th>\n",
       "    </tr>\n",
       "  </thead>\n",
       "  <tbody>\n",
       "    <tr>\n",
       "      <th>2</th>\n",
       "      <td>albigula</td>\n",
       "      <td>224</td>\n",
       "    </tr>\n",
       "    <tr>\n",
       "      <th>4</th>\n",
       "      <td>albigula</td>\n",
       "      <td>349</td>\n",
       "    </tr>\n",
       "    <tr>\n",
       "      <th>7</th>\n",
       "      <td>albigula</td>\n",
       "      <td>506</td>\n",
       "    </tr>\n",
       "  </tbody>\n",
       "</table>\n",
       "</div>"
      ],
      "text/plain": [
       "    species  record_id\n",
       "2  albigula        224\n",
       "4  albigula        349\n",
       "7  albigula        506"
      ]
     },
     "execution_count": 47,
     "metadata": {},
     "output_type": "execute_result"
    }
   ],
   "source": [
    "surveys.loc[[2, 4, 7], ['species', 'record_id']]"
   ]
  },
  {
   "cell_type": "markdown",
   "metadata": {},
   "source": [
    "#### Challenge\n",
    "\n",
    "1. Create a `data.frame` (`surveys_200`) containing only the observations from\n",
    "   row 200 of the `surveys` dataset.\n",
    "\n",
    "2. Notice how `nrow()` gave you the number of rows in a `data.frame`?\n",
    "\n",
    "     * Use that number to pull out just that last row in the data frame.\n",
    "     * Compare that with what you see as the last row using `tail()` to make\n",
    "       sure it's meeting expectations.\n",
    "     * Pull out that last row using `nrow()` instead of the row number.\n",
    "     * Create a new data frame object (`surveys_last`) from that last row.\n",
    "\n",
    "3. Use `nrow()` to extract the row that is in the middle of the data\n",
    "   frame. Store the content of this row in an object named `surveys_middle`.\n",
    "\n",
    "4. Combine `nrow()` with the `-` notation above to reproduce the behavior of\n",
    "   `head(surveys)` keeping just the first through 6th rows of the surveys\n",
    "   dataset.\n",
    "\n",
    "```{r}\n",
    "## Answers\n",
    "surveys_200 <- surveys[200, ]\n",
    "surveys_last <- surveys[nrow(surveys), ]\n",
    "surveys_middle <- surveys[nrow(surveys)/2, ]\n",
    "surveys_head <- surveys[-c(7:nrow(surveys)),]\n",
    "```"
   ]
  },
  {
   "cell_type": "markdown",
   "metadata": {},
   "source": [
    "The `describe()` method was mentioned above as a way of retrieving summary statistics of a data frame. Together with `info()` and `head()` this is often a good place to start exploratory data analysis as it gives a nice overview of the numeric valuables the data set."
   ]
  },
  {
   "cell_type": "code",
   "execution_count": 48,
   "metadata": {},
   "outputs": [
    {
     "data": {
      "text/html": [
       "<div>\n",
       "<style scoped>\n",
       "    .dataframe tbody tr th:only-of-type {\n",
       "        vertical-align: middle;\n",
       "    }\n",
       "\n",
       "    .dataframe tbody tr th {\n",
       "        vertical-align: top;\n",
       "    }\n",
       "\n",
       "    .dataframe thead th {\n",
       "        text-align: right;\n",
       "    }\n",
       "</style>\n",
       "<table border=\"1\" class=\"dataframe\">\n",
       "  <thead>\n",
       "    <tr style=\"text-align: right;\">\n",
       "      <th></th>\n",
       "      <th>record_id</th>\n",
       "      <th>month</th>\n",
       "      <th>day</th>\n",
       "      <th>year</th>\n",
       "      <th>plot_id</th>\n",
       "      <th>hindfoot_length</th>\n",
       "      <th>weight</th>\n",
       "    </tr>\n",
       "  </thead>\n",
       "  <tbody>\n",
       "    <tr>\n",
       "      <th>count</th>\n",
       "      <td>34786.000000</td>\n",
       "      <td>34786.000000</td>\n",
       "      <td>34786.000000</td>\n",
       "      <td>34786.000000</td>\n",
       "      <td>34786.000000</td>\n",
       "      <td>31438.000000</td>\n",
       "      <td>32283.000000</td>\n",
       "    </tr>\n",
       "    <tr>\n",
       "      <th>mean</th>\n",
       "      <td>17804.204421</td>\n",
       "      <td>6.473725</td>\n",
       "      <td>16.095987</td>\n",
       "      <td>1990.495832</td>\n",
       "      <td>11.343098</td>\n",
       "      <td>29.287932</td>\n",
       "      <td>42.672428</td>\n",
       "    </tr>\n",
       "    <tr>\n",
       "      <th>std</th>\n",
       "      <td>10229.682311</td>\n",
       "      <td>3.398384</td>\n",
       "      <td>8.249405</td>\n",
       "      <td>7.468714</td>\n",
       "      <td>6.794049</td>\n",
       "      <td>9.564759</td>\n",
       "      <td>36.631259</td>\n",
       "    </tr>\n",
       "    <tr>\n",
       "      <th>min</th>\n",
       "      <td>1.000000</td>\n",
       "      <td>1.000000</td>\n",
       "      <td>1.000000</td>\n",
       "      <td>1977.000000</td>\n",
       "      <td>1.000000</td>\n",
       "      <td>2.000000</td>\n",
       "      <td>4.000000</td>\n",
       "    </tr>\n",
       "    <tr>\n",
       "      <th>25%</th>\n",
       "      <td>8964.250000</td>\n",
       "      <td>4.000000</td>\n",
       "      <td>9.000000</td>\n",
       "      <td>1984.000000</td>\n",
       "      <td>5.000000</td>\n",
       "      <td>21.000000</td>\n",
       "      <td>20.000000</td>\n",
       "    </tr>\n",
       "    <tr>\n",
       "      <th>50%</th>\n",
       "      <td>17761.500000</td>\n",
       "      <td>6.000000</td>\n",
       "      <td>16.000000</td>\n",
       "      <td>1990.000000</td>\n",
       "      <td>11.000000</td>\n",
       "      <td>32.000000</td>\n",
       "      <td>37.000000</td>\n",
       "    </tr>\n",
       "    <tr>\n",
       "      <th>75%</th>\n",
       "      <td>26654.750000</td>\n",
       "      <td>10.000000</td>\n",
       "      <td>23.000000</td>\n",
       "      <td>1997.000000</td>\n",
       "      <td>17.000000</td>\n",
       "      <td>36.000000</td>\n",
       "      <td>48.000000</td>\n",
       "    </tr>\n",
       "    <tr>\n",
       "      <th>max</th>\n",
       "      <td>35548.000000</td>\n",
       "      <td>12.000000</td>\n",
       "      <td>31.000000</td>\n",
       "      <td>2002.000000</td>\n",
       "      <td>24.000000</td>\n",
       "      <td>70.000000</td>\n",
       "      <td>280.000000</td>\n",
       "    </tr>\n",
       "  </tbody>\n",
       "</table>\n",
       "</div>"
      ],
      "text/plain": [
       "          record_id         month           day          year       plot_id  \\\n",
       "count  34786.000000  34786.000000  34786.000000  34786.000000  34786.000000   \n",
       "mean   17804.204421      6.473725     16.095987   1990.495832     11.343098   \n",
       "std    10229.682311      3.398384      8.249405      7.468714      6.794049   \n",
       "min        1.000000      1.000000      1.000000   1977.000000      1.000000   \n",
       "25%     8964.250000      4.000000      9.000000   1984.000000      5.000000   \n",
       "50%    17761.500000      6.000000     16.000000   1990.000000     11.000000   \n",
       "75%    26654.750000     10.000000     23.000000   1997.000000     17.000000   \n",
       "max    35548.000000     12.000000     31.000000   2002.000000     24.000000   \n",
       "\n",
       "       hindfoot_length        weight  \n",
       "count     31438.000000  32283.000000  \n",
       "mean         29.287932     42.672428  \n",
       "std           9.564759     36.631259  \n",
       "min           2.000000      4.000000  \n",
       "25%          21.000000     20.000000  \n",
       "50%          32.000000     37.000000  \n",
       "75%          36.000000     48.000000  \n",
       "max          70.000000    280.000000  "
      ]
     },
     "execution_count": 48,
     "metadata": {},
     "output_type": "execute_result"
    }
   ],
   "source": [
    "surveys.describe()"
   ]
  },
  {
   "cell_type": "markdown",
   "metadata": {},
   "source": [
    "A common next step would be to plot the data to explore relationships between different variables, but before getting into plotting, it is beneficial to elaborate on the data frame object and several of its common operations.\n",
    "\n",
    "An often desired outcome is to select a subset of rows matching a criteria, e.g. which observations have a weight under 5 grams. To do this, the \"less than\" comparison operator that was introduced previously can be used."
   ]
  },
  {
   "cell_type": "code",
   "execution_count": 49,
   "metadata": {},
   "outputs": [
    {
     "data": {
      "text/plain": [
       "0        False\n",
       "1        False\n",
       "2        False\n",
       "3        False\n",
       "4        False\n",
       "5        False\n",
       "6        False\n",
       "7        False\n",
       "8        False\n",
       "9        False\n",
       "10       False\n",
       "11       False\n",
       "12       False\n",
       "13       False\n",
       "14       False\n",
       "15       False\n",
       "16       False\n",
       "17       False\n",
       "18       False\n",
       "19       False\n",
       "20       False\n",
       "21       False\n",
       "22       False\n",
       "23       False\n",
       "24       False\n",
       "25       False\n",
       "26       False\n",
       "27       False\n",
       "28       False\n",
       "29       False\n",
       "         ...  \n",
       "34756    False\n",
       "34757    False\n",
       "34758    False\n",
       "34759    False\n",
       "34760    False\n",
       "34761    False\n",
       "34762    False\n",
       "34763    False\n",
       "34764    False\n",
       "34765    False\n",
       "34766    False\n",
       "34767    False\n",
       "34768    False\n",
       "34769    False\n",
       "34770    False\n",
       "34771    False\n",
       "34772    False\n",
       "34773    False\n",
       "34774    False\n",
       "34775    False\n",
       "34776    False\n",
       "34777    False\n",
       "34778    False\n",
       "34779    False\n",
       "34780    False\n",
       "34781    False\n",
       "34782    False\n",
       "34783    False\n",
       "34784    False\n",
       "34785    False\n",
       "Name: weight, Length: 34786, dtype: bool"
      ]
     },
     "execution_count": 49,
     "metadata": {},
     "output_type": "execute_result"
    }
   ],
   "source": [
    "surveys['weight'] < 5"
   ]
  },
  {
   "cell_type": "markdown",
   "metadata": {},
   "source": [
    "The result is a boolean array of 3476 observations, the same length as the data frame. This array actually has one value for every row in the data frame indicating whether it is `True` or `False` that this row has a value below 5 for the weight variable. This boolean array can be used together with the `loc[]` parameter to select only those observations from the data frame!"
   ]
  },
  {
   "cell_type": "code",
   "execution_count": 50,
   "metadata": {},
   "outputs": [
    {
     "data": {
      "text/html": [
       "<div>\n",
       "<style scoped>\n",
       "    .dataframe tbody tr th:only-of-type {\n",
       "        vertical-align: middle;\n",
       "    }\n",
       "\n",
       "    .dataframe tbody tr th {\n",
       "        vertical-align: top;\n",
       "    }\n",
       "\n",
       "    .dataframe thead th {\n",
       "        text-align: right;\n",
       "    }\n",
       "</style>\n",
       "<table border=\"1\" class=\"dataframe\">\n",
       "  <thead>\n",
       "    <tr style=\"text-align: right;\">\n",
       "      <th></th>\n",
       "      <th>record_id</th>\n",
       "      <th>month</th>\n",
       "      <th>day</th>\n",
       "      <th>year</th>\n",
       "      <th>plot_id</th>\n",
       "      <th>species_id</th>\n",
       "      <th>sex</th>\n",
       "      <th>hindfoot_length</th>\n",
       "      <th>weight</th>\n",
       "      <th>genus</th>\n",
       "      <th>species</th>\n",
       "      <th>taxa</th>\n",
       "      <th>plot_type</th>\n",
       "    </tr>\n",
       "  </thead>\n",
       "  <tbody>\n",
       "    <tr>\n",
       "      <th>2428</th>\n",
       "      <td>4052</td>\n",
       "      <td>4</td>\n",
       "      <td>5</td>\n",
       "      <td>1981</td>\n",
       "      <td>3</td>\n",
       "      <td>PF</td>\n",
       "      <td>F</td>\n",
       "      <td>15.0</td>\n",
       "      <td>4.0</td>\n",
       "      <td>Perognathus</td>\n",
       "      <td>flavus</td>\n",
       "      <td>Rodent</td>\n",
       "      <td>Long-term Krat Exclosure</td>\n",
       "    </tr>\n",
       "    <tr>\n",
       "      <th>2453</th>\n",
       "      <td>7084</td>\n",
       "      <td>11</td>\n",
       "      <td>22</td>\n",
       "      <td>1982</td>\n",
       "      <td>3</td>\n",
       "      <td>PF</td>\n",
       "      <td>F</td>\n",
       "      <td>16.0</td>\n",
       "      <td>4.0</td>\n",
       "      <td>Perognathus</td>\n",
       "      <td>flavus</td>\n",
       "      <td>Rodent</td>\n",
       "      <td>Long-term Krat Exclosure</td>\n",
       "    </tr>\n",
       "    <tr>\n",
       "      <th>4253</th>\n",
       "      <td>28126</td>\n",
       "      <td>6</td>\n",
       "      <td>28</td>\n",
       "      <td>1998</td>\n",
       "      <td>15</td>\n",
       "      <td>PF</td>\n",
       "      <td>M</td>\n",
       "      <td>NaN</td>\n",
       "      <td>4.0</td>\n",
       "      <td>Perognathus</td>\n",
       "      <td>flavus</td>\n",
       "      <td>Rodent</td>\n",
       "      <td>Long-term Krat Exclosure</td>\n",
       "    </tr>\n",
       "    <tr>\n",
       "      <th>4665</th>\n",
       "      <td>9909</td>\n",
       "      <td>1</td>\n",
       "      <td>20</td>\n",
       "      <td>1985</td>\n",
       "      <td>15</td>\n",
       "      <td>RM</td>\n",
       "      <td>F</td>\n",
       "      <td>15.0</td>\n",
       "      <td>4.0</td>\n",
       "      <td>Reithrodontomys</td>\n",
       "      <td>megalotis</td>\n",
       "      <td>Rodent</td>\n",
       "      <td>Long-term Krat Exclosure</td>\n",
       "    </tr>\n",
       "    <tr>\n",
       "      <th>6860</th>\n",
       "      <td>9853</td>\n",
       "      <td>1</td>\n",
       "      <td>19</td>\n",
       "      <td>1985</td>\n",
       "      <td>17</td>\n",
       "      <td>RM</td>\n",
       "      <td>M</td>\n",
       "      <td>16.0</td>\n",
       "      <td>4.0</td>\n",
       "      <td>Reithrodontomys</td>\n",
       "      <td>megalotis</td>\n",
       "      <td>Rodent</td>\n",
       "      <td>Control</td>\n",
       "    </tr>\n",
       "    <tr>\n",
       "      <th>21224</th>\n",
       "      <td>4290</td>\n",
       "      <td>4</td>\n",
       "      <td>6</td>\n",
       "      <td>1981</td>\n",
       "      <td>4</td>\n",
       "      <td>PF</td>\n",
       "      <td>NaN</td>\n",
       "      <td>NaN</td>\n",
       "      <td>4.0</td>\n",
       "      <td>Perognathus</td>\n",
       "      <td>flavus</td>\n",
       "      <td>Rodent</td>\n",
       "      <td>Control</td>\n",
       "    </tr>\n",
       "    <tr>\n",
       "      <th>21674</th>\n",
       "      <td>29906</td>\n",
       "      <td>10</td>\n",
       "      <td>10</td>\n",
       "      <td>1999</td>\n",
       "      <td>4</td>\n",
       "      <td>PP</td>\n",
       "      <td>M</td>\n",
       "      <td>21.0</td>\n",
       "      <td>4.0</td>\n",
       "      <td>Chaetodipus</td>\n",
       "      <td>penicillatus</td>\n",
       "      <td>Rodent</td>\n",
       "      <td>Control</td>\n",
       "    </tr>\n",
       "    <tr>\n",
       "      <th>24191</th>\n",
       "      <td>8736</td>\n",
       "      <td>12</td>\n",
       "      <td>8</td>\n",
       "      <td>1983</td>\n",
       "      <td>19</td>\n",
       "      <td>RM</td>\n",
       "      <td>M</td>\n",
       "      <td>17.0</td>\n",
       "      <td>4.0</td>\n",
       "      <td>Reithrodontomys</td>\n",
       "      <td>megalotis</td>\n",
       "      <td>Rodent</td>\n",
       "      <td>Long-term Krat Exclosure</td>\n",
       "    </tr>\n",
       "    <tr>\n",
       "      <th>24200</th>\n",
       "      <td>9799</td>\n",
       "      <td>1</td>\n",
       "      <td>19</td>\n",
       "      <td>1985</td>\n",
       "      <td>19</td>\n",
       "      <td>RM</td>\n",
       "      <td>M</td>\n",
       "      <td>16.0</td>\n",
       "      <td>4.0</td>\n",
       "      <td>Reithrodontomys</td>\n",
       "      <td>megalotis</td>\n",
       "      <td>Rodent</td>\n",
       "      <td>Long-term Krat Exclosure</td>\n",
       "    </tr>\n",
       "    <tr>\n",
       "      <th>25529</th>\n",
       "      <td>9794</td>\n",
       "      <td>1</td>\n",
       "      <td>19</td>\n",
       "      <td>1985</td>\n",
       "      <td>24</td>\n",
       "      <td>RM</td>\n",
       "      <td>M</td>\n",
       "      <td>16.0</td>\n",
       "      <td>4.0</td>\n",
       "      <td>Reithrodontomys</td>\n",
       "      <td>megalotis</td>\n",
       "      <td>Rodent</td>\n",
       "      <td>Rodent Exclosure</td>\n",
       "    </tr>\n",
       "    <tr>\n",
       "      <th>26457</th>\n",
       "      <td>218</td>\n",
       "      <td>9</td>\n",
       "      <td>13</td>\n",
       "      <td>1977</td>\n",
       "      <td>1</td>\n",
       "      <td>PF</td>\n",
       "      <td>M</td>\n",
       "      <td>13.0</td>\n",
       "      <td>4.0</td>\n",
       "      <td>Perognathus</td>\n",
       "      <td>flavus</td>\n",
       "      <td>Rodent</td>\n",
       "      <td>Spectab exclosure</td>\n",
       "    </tr>\n",
       "    <tr>\n",
       "      <th>31678</th>\n",
       "      <td>5346</td>\n",
       "      <td>2</td>\n",
       "      <td>22</td>\n",
       "      <td>1982</td>\n",
       "      <td>21</td>\n",
       "      <td>PF</td>\n",
       "      <td>F</td>\n",
       "      <td>14.0</td>\n",
       "      <td>4.0</td>\n",
       "      <td>Perognathus</td>\n",
       "      <td>flavus</td>\n",
       "      <td>Rodent</td>\n",
       "      <td>Long-term Krat Exclosure</td>\n",
       "    </tr>\n",
       "    <tr>\n",
       "      <th>32114</th>\n",
       "      <td>9937</td>\n",
       "      <td>2</td>\n",
       "      <td>16</td>\n",
       "      <td>1985</td>\n",
       "      <td>21</td>\n",
       "      <td>RM</td>\n",
       "      <td>M</td>\n",
       "      <td>16.0</td>\n",
       "      <td>4.0</td>\n",
       "      <td>Reithrodontomys</td>\n",
       "      <td>megalotis</td>\n",
       "      <td>Rodent</td>\n",
       "      <td>Long-term Krat Exclosure</td>\n",
       "    </tr>\n",
       "    <tr>\n",
       "      <th>32808</th>\n",
       "      <td>10119</td>\n",
       "      <td>3</td>\n",
       "      <td>17</td>\n",
       "      <td>1985</td>\n",
       "      <td>10</td>\n",
       "      <td>RM</td>\n",
       "      <td>M</td>\n",
       "      <td>16.0</td>\n",
       "      <td>4.0</td>\n",
       "      <td>Reithrodontomys</td>\n",
       "      <td>megalotis</td>\n",
       "      <td>Rodent</td>\n",
       "      <td>Rodent Exclosure</td>\n",
       "    </tr>\n",
       "    <tr>\n",
       "      <th>33347</th>\n",
       "      <td>9790</td>\n",
       "      <td>1</td>\n",
       "      <td>19</td>\n",
       "      <td>1985</td>\n",
       "      <td>16</td>\n",
       "      <td>RM</td>\n",
       "      <td>F</td>\n",
       "      <td>16.0</td>\n",
       "      <td>4.0</td>\n",
       "      <td>Reithrodontomys</td>\n",
       "      <td>megalotis</td>\n",
       "      <td>Rodent</td>\n",
       "      <td>Rodent Exclosure</td>\n",
       "    </tr>\n",
       "    <tr>\n",
       "      <th>33760</th>\n",
       "      <td>9823</td>\n",
       "      <td>1</td>\n",
       "      <td>19</td>\n",
       "      <td>1985</td>\n",
       "      <td>23</td>\n",
       "      <td>RM</td>\n",
       "      <td>M</td>\n",
       "      <td>16.0</td>\n",
       "      <td>4.0</td>\n",
       "      <td>Reithrodontomys</td>\n",
       "      <td>megalotis</td>\n",
       "      <td>Rodent</td>\n",
       "      <td>Rodent Exclosure</td>\n",
       "    </tr>\n",
       "    <tr>\n",
       "      <th>34396</th>\n",
       "      <td>10439</td>\n",
       "      <td>5</td>\n",
       "      <td>24</td>\n",
       "      <td>1985</td>\n",
       "      <td>7</td>\n",
       "      <td>RM</td>\n",
       "      <td>M</td>\n",
       "      <td>16.0</td>\n",
       "      <td>4.0</td>\n",
       "      <td>Reithrodontomys</td>\n",
       "      <td>megalotis</td>\n",
       "      <td>Rodent</td>\n",
       "      <td>Rodent Exclosure</td>\n",
       "    </tr>\n",
       "  </tbody>\n",
       "</table>\n",
       "</div>"
      ],
      "text/plain": [
       "       record_id  month  day  year  plot_id species_id  sex  hindfoot_length  \\\n",
       "2428        4052      4    5  1981        3         PF    F             15.0   \n",
       "2453        7084     11   22  1982        3         PF    F             16.0   \n",
       "4253       28126      6   28  1998       15         PF    M              NaN   \n",
       "4665        9909      1   20  1985       15         RM    F             15.0   \n",
       "6860        9853      1   19  1985       17         RM    M             16.0   \n",
       "21224       4290      4    6  1981        4         PF  NaN              NaN   \n",
       "21674      29906     10   10  1999        4         PP    M             21.0   \n",
       "24191       8736     12    8  1983       19         RM    M             17.0   \n",
       "24200       9799      1   19  1985       19         RM    M             16.0   \n",
       "25529       9794      1   19  1985       24         RM    M             16.0   \n",
       "26457        218      9   13  1977        1         PF    M             13.0   \n",
       "31678       5346      2   22  1982       21         PF    F             14.0   \n",
       "32114       9937      2   16  1985       21         RM    M             16.0   \n",
       "32808      10119      3   17  1985       10         RM    M             16.0   \n",
       "33347       9790      1   19  1985       16         RM    F             16.0   \n",
       "33760       9823      1   19  1985       23         RM    M             16.0   \n",
       "34396      10439      5   24  1985        7         RM    M             16.0   \n",
       "\n",
       "       weight            genus       species    taxa                 plot_type  \n",
       "2428      4.0      Perognathus        flavus  Rodent  Long-term Krat Exclosure  \n",
       "2453      4.0      Perognathus        flavus  Rodent  Long-term Krat Exclosure  \n",
       "4253      4.0      Perognathus        flavus  Rodent  Long-term Krat Exclosure  \n",
       "4665      4.0  Reithrodontomys     megalotis  Rodent  Long-term Krat Exclosure  \n",
       "6860      4.0  Reithrodontomys     megalotis  Rodent                   Control  \n",
       "21224     4.0      Perognathus        flavus  Rodent                   Control  \n",
       "21674     4.0      Chaetodipus  penicillatus  Rodent                   Control  \n",
       "24191     4.0  Reithrodontomys     megalotis  Rodent  Long-term Krat Exclosure  \n",
       "24200     4.0  Reithrodontomys     megalotis  Rodent  Long-term Krat Exclosure  \n",
       "25529     4.0  Reithrodontomys     megalotis  Rodent          Rodent Exclosure  \n",
       "26457     4.0      Perognathus        flavus  Rodent         Spectab exclosure  \n",
       "31678     4.0      Perognathus        flavus  Rodent  Long-term Krat Exclosure  \n",
       "32114     4.0  Reithrodontomys     megalotis  Rodent  Long-term Krat Exclosure  \n",
       "32808     4.0  Reithrodontomys     megalotis  Rodent          Rodent Exclosure  \n",
       "33347     4.0  Reithrodontomys     megalotis  Rodent          Rodent Exclosure  \n",
       "33760     4.0  Reithrodontomys     megalotis  Rodent          Rodent Exclosure  \n",
       "34396     4.0  Reithrodontomys     megalotis  Rodent          Rodent Exclosure  "
      ]
     },
     "execution_count": 50,
     "metadata": {},
     "output_type": "execute_result"
    }
   ],
   "source": [
    "surveys.loc[surveys['weight'] < 5]"
   ]
  },
  {
   "cell_type": "markdown",
   "metadata": {},
   "source": [
    "As before, this can be combined with selection of a particular set of columns."
   ]
  },
  {
   "cell_type": "code",
   "execution_count": 51,
   "metadata": {},
   "outputs": [
    {
     "data": {
      "text/html": [
       "<div>\n",
       "<style scoped>\n",
       "    .dataframe tbody tr th:only-of-type {\n",
       "        vertical-align: middle;\n",
       "    }\n",
       "\n",
       "    .dataframe tbody tr th {\n",
       "        vertical-align: top;\n",
       "    }\n",
       "\n",
       "    .dataframe thead th {\n",
       "        text-align: right;\n",
       "    }\n",
       "</style>\n",
       "<table border=\"1\" class=\"dataframe\">\n",
       "  <thead>\n",
       "    <tr style=\"text-align: right;\">\n",
       "      <th></th>\n",
       "      <th>weight</th>\n",
       "      <th>species</th>\n",
       "    </tr>\n",
       "  </thead>\n",
       "  <tbody>\n",
       "    <tr>\n",
       "      <th>2428</th>\n",
       "      <td>4.0</td>\n",
       "      <td>flavus</td>\n",
       "    </tr>\n",
       "    <tr>\n",
       "      <th>2453</th>\n",
       "      <td>4.0</td>\n",
       "      <td>flavus</td>\n",
       "    </tr>\n",
       "    <tr>\n",
       "      <th>4253</th>\n",
       "      <td>4.0</td>\n",
       "      <td>flavus</td>\n",
       "    </tr>\n",
       "    <tr>\n",
       "      <th>4665</th>\n",
       "      <td>4.0</td>\n",
       "      <td>megalotis</td>\n",
       "    </tr>\n",
       "    <tr>\n",
       "      <th>6860</th>\n",
       "      <td>4.0</td>\n",
       "      <td>megalotis</td>\n",
       "    </tr>\n",
       "    <tr>\n",
       "      <th>21224</th>\n",
       "      <td>4.0</td>\n",
       "      <td>flavus</td>\n",
       "    </tr>\n",
       "    <tr>\n",
       "      <th>21674</th>\n",
       "      <td>4.0</td>\n",
       "      <td>penicillatus</td>\n",
       "    </tr>\n",
       "    <tr>\n",
       "      <th>24191</th>\n",
       "      <td>4.0</td>\n",
       "      <td>megalotis</td>\n",
       "    </tr>\n",
       "    <tr>\n",
       "      <th>24200</th>\n",
       "      <td>4.0</td>\n",
       "      <td>megalotis</td>\n",
       "    </tr>\n",
       "    <tr>\n",
       "      <th>25529</th>\n",
       "      <td>4.0</td>\n",
       "      <td>megalotis</td>\n",
       "    </tr>\n",
       "    <tr>\n",
       "      <th>26457</th>\n",
       "      <td>4.0</td>\n",
       "      <td>flavus</td>\n",
       "    </tr>\n",
       "    <tr>\n",
       "      <th>31678</th>\n",
       "      <td>4.0</td>\n",
       "      <td>flavus</td>\n",
       "    </tr>\n",
       "    <tr>\n",
       "      <th>32114</th>\n",
       "      <td>4.0</td>\n",
       "      <td>megalotis</td>\n",
       "    </tr>\n",
       "    <tr>\n",
       "      <th>32808</th>\n",
       "      <td>4.0</td>\n",
       "      <td>megalotis</td>\n",
       "    </tr>\n",
       "    <tr>\n",
       "      <th>33347</th>\n",
       "      <td>4.0</td>\n",
       "      <td>megalotis</td>\n",
       "    </tr>\n",
       "    <tr>\n",
       "      <th>33760</th>\n",
       "      <td>4.0</td>\n",
       "      <td>megalotis</td>\n",
       "    </tr>\n",
       "    <tr>\n",
       "      <th>34396</th>\n",
       "      <td>4.0</td>\n",
       "      <td>megalotis</td>\n",
       "    </tr>\n",
       "  </tbody>\n",
       "</table>\n",
       "</div>"
      ],
      "text/plain": [
       "       weight       species\n",
       "2428      4.0        flavus\n",
       "2453      4.0        flavus\n",
       "4253      4.0        flavus\n",
       "4665      4.0     megalotis\n",
       "6860      4.0     megalotis\n",
       "21224     4.0        flavus\n",
       "21674     4.0  penicillatus\n",
       "24191     4.0     megalotis\n",
       "24200     4.0     megalotis\n",
       "25529     4.0     megalotis\n",
       "26457     4.0        flavus\n",
       "31678     4.0        flavus\n",
       "32114     4.0     megalotis\n",
       "32808     4.0     megalotis\n",
       "33347     4.0     megalotis\n",
       "33760     4.0     megalotis\n",
       "34396     4.0     megalotis"
      ]
     },
     "execution_count": 51,
     "metadata": {},
     "output_type": "execute_result"
    }
   ],
   "source": [
    "surveys.loc[surveys['weight'] < 5, ['weight', 'species']]"
   ]
  },
  {
   "cell_type": "markdown",
   "metadata": {},
   "source": [
    "To prevent the output from running of the screen, `head()` can be used just like before."
   ]
  },
  {
   "cell_type": "code",
   "execution_count": 52,
   "metadata": {},
   "outputs": [
    {
     "data": {
      "text/html": [
       "<div>\n",
       "<style scoped>\n",
       "    .dataframe tbody tr th:only-of-type {\n",
       "        vertical-align: middle;\n",
       "    }\n",
       "\n",
       "    .dataframe tbody tr th {\n",
       "        vertical-align: top;\n",
       "    }\n",
       "\n",
       "    .dataframe thead th {\n",
       "        text-align: right;\n",
       "    }\n",
       "</style>\n",
       "<table border=\"1\" class=\"dataframe\">\n",
       "  <thead>\n",
       "    <tr style=\"text-align: right;\">\n",
       "      <th></th>\n",
       "      <th>weight</th>\n",
       "      <th>species</th>\n",
       "    </tr>\n",
       "  </thead>\n",
       "  <tbody>\n",
       "    <tr>\n",
       "      <th>2428</th>\n",
       "      <td>4.0</td>\n",
       "      <td>flavus</td>\n",
       "    </tr>\n",
       "    <tr>\n",
       "      <th>2453</th>\n",
       "      <td>4.0</td>\n",
       "      <td>flavus</td>\n",
       "    </tr>\n",
       "    <tr>\n",
       "      <th>4253</th>\n",
       "      <td>4.0</td>\n",
       "      <td>flavus</td>\n",
       "    </tr>\n",
       "    <tr>\n",
       "      <th>4665</th>\n",
       "      <td>4.0</td>\n",
       "      <td>megalotis</td>\n",
       "    </tr>\n",
       "    <tr>\n",
       "      <th>6860</th>\n",
       "      <td>4.0</td>\n",
       "      <td>megalotis</td>\n",
       "    </tr>\n",
       "  </tbody>\n",
       "</table>\n",
       "</div>"
      ],
      "text/plain": [
       "      weight    species\n",
       "2428     4.0     flavus\n",
       "2453     4.0     flavus\n",
       "4253     4.0     flavus\n",
       "4665     4.0  megalotis\n",
       "6860     4.0  megalotis"
      ]
     },
     "execution_count": 52,
     "metadata": {},
     "output_type": "execute_result"
    }
   ],
   "source": [
    "surveys.loc[surveys['weight'] < 5, ['weight', 'species']].head()"
   ]
  },
  {
   "cell_type": "markdown",
   "metadata": {},
   "source": [
    "A new object could be created from this smaller version of the data, by assigning it to a new variable name."
   ]
  },
  {
   "cell_type": "code",
   "execution_count": 53,
   "metadata": {},
   "outputs": [
    {
     "data": {
      "text/html": [
       "<div>\n",
       "<style scoped>\n",
       "    .dataframe tbody tr th:only-of-type {\n",
       "        vertical-align: middle;\n",
       "    }\n",
       "\n",
       "    .dataframe tbody tr th {\n",
       "        vertical-align: top;\n",
       "    }\n",
       "\n",
       "    .dataframe thead th {\n",
       "        text-align: right;\n",
       "    }\n",
       "</style>\n",
       "<table border=\"1\" class=\"dataframe\">\n",
       "  <thead>\n",
       "    <tr style=\"text-align: right;\">\n",
       "      <th></th>\n",
       "      <th>weight</th>\n",
       "      <th>species</th>\n",
       "    </tr>\n",
       "  </thead>\n",
       "  <tbody>\n",
       "    <tr>\n",
       "      <th>2428</th>\n",
       "      <td>4.0</td>\n",
       "      <td>flavus</td>\n",
       "    </tr>\n",
       "    <tr>\n",
       "      <th>2453</th>\n",
       "      <td>4.0</td>\n",
       "      <td>flavus</td>\n",
       "    </tr>\n",
       "    <tr>\n",
       "      <th>4253</th>\n",
       "      <td>4.0</td>\n",
       "      <td>flavus</td>\n",
       "    </tr>\n",
       "    <tr>\n",
       "      <th>4665</th>\n",
       "      <td>4.0</td>\n",
       "      <td>megalotis</td>\n",
       "    </tr>\n",
       "    <tr>\n",
       "      <th>6860</th>\n",
       "      <td>4.0</td>\n",
       "      <td>megalotis</td>\n",
       "    </tr>\n",
       "  </tbody>\n",
       "</table>\n",
       "</div>"
      ],
      "text/plain": [
       "      weight    species\n",
       "2428     4.0     flavus\n",
       "2453     4.0     flavus\n",
       "4253     4.0     flavus\n",
       "4665     4.0  megalotis\n",
       "6860     4.0  megalotis"
      ]
     },
     "execution_count": 53,
     "metadata": {},
     "output_type": "execute_result"
    }
   ],
   "source": [
    "surveys_sml = surveys.loc[surveys['weight'] < 5, ['weight', 'species']]\n",
    "surveys_sml.head()"
   ]
  },
  {
   "cell_type": "markdown",
   "metadata": {},
   "source": [
    "A single expression can also be used to filter for several criteria, either\n",
    "matching *all* criteria (`&`) or *any* criteria (`|`):"
   ]
  },
  {
   "cell_type": "code",
   "execution_count": 54,
   "metadata": {},
   "outputs": [
    {
     "data": {
      "text/html": [
       "<div>\n",
       "<style scoped>\n",
       "    .dataframe tbody tr th:only-of-type {\n",
       "        vertical-align: middle;\n",
       "    }\n",
       "\n",
       "    .dataframe tbody tr th {\n",
       "        vertical-align: top;\n",
       "    }\n",
       "\n",
       "    .dataframe thead th {\n",
       "        text-align: right;\n",
       "    }\n",
       "</style>\n",
       "<table border=\"1\" class=\"dataframe\">\n",
       "  <thead>\n",
       "    <tr style=\"text-align: right;\">\n",
       "      <th></th>\n",
       "      <th>taxa</th>\n",
       "      <th>sex</th>\n",
       "    </tr>\n",
       "  </thead>\n",
       "  <tbody>\n",
       "    <tr>\n",
       "      <th>20</th>\n",
       "      <td>Rodent</td>\n",
       "      <td>F</td>\n",
       "    </tr>\n",
       "    <tr>\n",
       "      <th>21</th>\n",
       "      <td>Rodent</td>\n",
       "      <td>F</td>\n",
       "    </tr>\n",
       "    <tr>\n",
       "      <th>22</th>\n",
       "      <td>Rodent</td>\n",
       "      <td>F</td>\n",
       "    </tr>\n",
       "    <tr>\n",
       "      <th>23</th>\n",
       "      <td>Rodent</td>\n",
       "      <td>F</td>\n",
       "    </tr>\n",
       "    <tr>\n",
       "      <th>24</th>\n",
       "      <td>Rodent</td>\n",
       "      <td>F</td>\n",
       "    </tr>\n",
       "  </tbody>\n",
       "</table>\n",
       "</div>"
      ],
      "text/plain": [
       "      taxa sex\n",
       "20  Rodent   F\n",
       "21  Rodent   F\n",
       "22  Rodent   F\n",
       "23  Rodent   F\n",
       "24  Rodent   F"
      ]
     },
     "execution_count": 54,
     "metadata": {},
     "output_type": "execute_result"
    }
   ],
   "source": [
    "# AND = &\n",
    "surveys.loc[(surveys['taxa'] == 'Rodent') & (surveys['sex'] == 'F'), ['taxa', 'sex']].head()"
   ]
  },
  {
   "cell_type": "markdown",
   "metadata": {},
   "source": [
    "To increase readability, these statements can be put on multiple rows. Anything that is within a parameter or bracket in Python can be continued on the next row."
   ]
  },
  {
   "cell_type": "code",
   "execution_count": 55,
   "metadata": {},
   "outputs": [
    {
     "data": {
      "text/html": [
       "<div>\n",
       "<style scoped>\n",
       "    .dataframe tbody tr th:only-of-type {\n",
       "        vertical-align: middle;\n",
       "    }\n",
       "\n",
       "    .dataframe tbody tr th {\n",
       "        vertical-align: top;\n",
       "    }\n",
       "\n",
       "    .dataframe thead th {\n",
       "        text-align: right;\n",
       "    }\n",
       "</style>\n",
       "<table border=\"1\" class=\"dataframe\">\n",
       "  <thead>\n",
       "    <tr style=\"text-align: right;\">\n",
       "      <th></th>\n",
       "      <th>taxa</th>\n",
       "      <th>sex</th>\n",
       "    </tr>\n",
       "  </thead>\n",
       "  <tbody>\n",
       "    <tr>\n",
       "      <th>20</th>\n",
       "      <td>Rodent</td>\n",
       "      <td>F</td>\n",
       "    </tr>\n",
       "    <tr>\n",
       "      <th>21</th>\n",
       "      <td>Rodent</td>\n",
       "      <td>F</td>\n",
       "    </tr>\n",
       "    <tr>\n",
       "      <th>22</th>\n",
       "      <td>Rodent</td>\n",
       "      <td>F</td>\n",
       "    </tr>\n",
       "    <tr>\n",
       "      <th>23</th>\n",
       "      <td>Rodent</td>\n",
       "      <td>F</td>\n",
       "    </tr>\n",
       "    <tr>\n",
       "      <th>24</th>\n",
       "      <td>Rodent</td>\n",
       "      <td>F</td>\n",
       "    </tr>\n",
       "  </tbody>\n",
       "</table>\n",
       "</div>"
      ],
      "text/plain": [
       "      taxa sex\n",
       "20  Rodent   F\n",
       "21  Rodent   F\n",
       "22  Rodent   F\n",
       "23  Rodent   F\n",
       "24  Rodent   F"
      ]
     },
     "execution_count": 55,
     "metadata": {},
     "output_type": "execute_result"
    }
   ],
   "source": [
    "surveys.loc[(surveys['taxa'] == 'Rodent') &\n",
    "            (surveys['sex'] == 'F'),\n",
    "            ['taxa', 'sex']].head()"
   ]
  },
  {
   "cell_type": "markdown",
   "metadata": {},
   "source": [
    "With the `|` operator, rows matching either of the supplied criteria are returned."
   ]
  },
  {
   "cell_type": "code",
   "execution_count": 56,
   "metadata": {},
   "outputs": [
    {
     "data": {
      "text/plain": [
       "10603    leucophrys\n",
       "24480        clarki\n",
       "34045    leucophrys\n",
       "Name: species, dtype: object"
      ]
     },
     "execution_count": 56,
     "metadata": {},
     "output_type": "execute_result"
    }
   ],
   "source": [
    "# OR = |\n",
    "surveys.loc[(surveys['species'] == 'clarki') |\n",
    "            (surveys['species'] == 'leucophrys'),\n",
    "            'species']"
   ]
  },
  {
   "cell_type": "markdown",
   "metadata": {},
   "source": [
    "#### Challenge\n",
    "\n",
    "Using pipes, subset the `survey` data to include individuals collected before\n",
    "1995 and retain only the columns `year`, `sex`, and `weight`.\n",
    "\n",
    "```{r}\n",
    "## Answer\n",
    "surveys %>%\n",
    "    filter(year < 1995) %>%\n",
    "    select(year, sex, weight)\n",
    "```"
   ]
  },
  {
   "cell_type": "markdown",
   "metadata": {},
   "source": [
    "### Creating new columns\n",
    "\n",
    "A frequent operation when working with data, is to create new columns based on the values in existing columns, for example to do unit conversions or find the ratio of values in two columns. To create a new column of the weight in kg instead of in grams:"
   ]
  },
  {
   "cell_type": "code",
   "execution_count": 57,
   "metadata": {},
   "outputs": [
    {
     "data": {
      "text/html": [
       "<div>\n",
       "<style scoped>\n",
       "    .dataframe tbody tr th:only-of-type {\n",
       "        vertical-align: middle;\n",
       "    }\n",
       "\n",
       "    .dataframe tbody tr th {\n",
       "        vertical-align: top;\n",
       "    }\n",
       "\n",
       "    .dataframe thead th {\n",
       "        text-align: right;\n",
       "    }\n",
       "</style>\n",
       "<table border=\"1\" class=\"dataframe\">\n",
       "  <thead>\n",
       "    <tr style=\"text-align: right;\">\n",
       "      <th></th>\n",
       "      <th>record_id</th>\n",
       "      <th>month</th>\n",
       "      <th>day</th>\n",
       "      <th>year</th>\n",
       "      <th>plot_id</th>\n",
       "      <th>species_id</th>\n",
       "      <th>sex</th>\n",
       "      <th>hindfoot_length</th>\n",
       "      <th>weight</th>\n",
       "      <th>genus</th>\n",
       "      <th>species</th>\n",
       "      <th>taxa</th>\n",
       "      <th>plot_type</th>\n",
       "      <th>weight_kg</th>\n",
       "    </tr>\n",
       "  </thead>\n",
       "  <tbody>\n",
       "    <tr>\n",
       "      <th>0</th>\n",
       "      <td>1</td>\n",
       "      <td>7</td>\n",
       "      <td>16</td>\n",
       "      <td>1977</td>\n",
       "      <td>2</td>\n",
       "      <td>NL</td>\n",
       "      <td>M</td>\n",
       "      <td>32.0</td>\n",
       "      <td>NaN</td>\n",
       "      <td>Neotoma</td>\n",
       "      <td>albigula</td>\n",
       "      <td>Rodent</td>\n",
       "      <td>Control</td>\n",
       "      <td>NaN</td>\n",
       "    </tr>\n",
       "    <tr>\n",
       "      <th>1</th>\n",
       "      <td>72</td>\n",
       "      <td>8</td>\n",
       "      <td>19</td>\n",
       "      <td>1977</td>\n",
       "      <td>2</td>\n",
       "      <td>NL</td>\n",
       "      <td>M</td>\n",
       "      <td>31.0</td>\n",
       "      <td>NaN</td>\n",
       "      <td>Neotoma</td>\n",
       "      <td>albigula</td>\n",
       "      <td>Rodent</td>\n",
       "      <td>Control</td>\n",
       "      <td>NaN</td>\n",
       "    </tr>\n",
       "    <tr>\n",
       "      <th>2</th>\n",
       "      <td>224</td>\n",
       "      <td>9</td>\n",
       "      <td>13</td>\n",
       "      <td>1977</td>\n",
       "      <td>2</td>\n",
       "      <td>NL</td>\n",
       "      <td>NaN</td>\n",
       "      <td>NaN</td>\n",
       "      <td>NaN</td>\n",
       "      <td>Neotoma</td>\n",
       "      <td>albigula</td>\n",
       "      <td>Rodent</td>\n",
       "      <td>Control</td>\n",
       "      <td>NaN</td>\n",
       "    </tr>\n",
       "    <tr>\n",
       "      <th>3</th>\n",
       "      <td>266</td>\n",
       "      <td>10</td>\n",
       "      <td>16</td>\n",
       "      <td>1977</td>\n",
       "      <td>2</td>\n",
       "      <td>NL</td>\n",
       "      <td>NaN</td>\n",
       "      <td>NaN</td>\n",
       "      <td>NaN</td>\n",
       "      <td>Neotoma</td>\n",
       "      <td>albigula</td>\n",
       "      <td>Rodent</td>\n",
       "      <td>Control</td>\n",
       "      <td>NaN</td>\n",
       "    </tr>\n",
       "    <tr>\n",
       "      <th>4</th>\n",
       "      <td>349</td>\n",
       "      <td>11</td>\n",
       "      <td>12</td>\n",
       "      <td>1977</td>\n",
       "      <td>2</td>\n",
       "      <td>NL</td>\n",
       "      <td>NaN</td>\n",
       "      <td>NaN</td>\n",
       "      <td>NaN</td>\n",
       "      <td>Neotoma</td>\n",
       "      <td>albigula</td>\n",
       "      <td>Rodent</td>\n",
       "      <td>Control</td>\n",
       "      <td>NaN</td>\n",
       "    </tr>\n",
       "    <tr>\n",
       "      <th>5</th>\n",
       "      <td>363</td>\n",
       "      <td>11</td>\n",
       "      <td>12</td>\n",
       "      <td>1977</td>\n",
       "      <td>2</td>\n",
       "      <td>NL</td>\n",
       "      <td>NaN</td>\n",
       "      <td>NaN</td>\n",
       "      <td>NaN</td>\n",
       "      <td>Neotoma</td>\n",
       "      <td>albigula</td>\n",
       "      <td>Rodent</td>\n",
       "      <td>Control</td>\n",
       "      <td>NaN</td>\n",
       "    </tr>\n",
       "    <tr>\n",
       "      <th>6</th>\n",
       "      <td>435</td>\n",
       "      <td>12</td>\n",
       "      <td>10</td>\n",
       "      <td>1977</td>\n",
       "      <td>2</td>\n",
       "      <td>NL</td>\n",
       "      <td>NaN</td>\n",
       "      <td>NaN</td>\n",
       "      <td>NaN</td>\n",
       "      <td>Neotoma</td>\n",
       "      <td>albigula</td>\n",
       "      <td>Rodent</td>\n",
       "      <td>Control</td>\n",
       "      <td>NaN</td>\n",
       "    </tr>\n",
       "    <tr>\n",
       "      <th>7</th>\n",
       "      <td>506</td>\n",
       "      <td>1</td>\n",
       "      <td>8</td>\n",
       "      <td>1978</td>\n",
       "      <td>2</td>\n",
       "      <td>NL</td>\n",
       "      <td>NaN</td>\n",
       "      <td>NaN</td>\n",
       "      <td>NaN</td>\n",
       "      <td>Neotoma</td>\n",
       "      <td>albigula</td>\n",
       "      <td>Rodent</td>\n",
       "      <td>Control</td>\n",
       "      <td>NaN</td>\n",
       "    </tr>\n",
       "    <tr>\n",
       "      <th>8</th>\n",
       "      <td>588</td>\n",
       "      <td>2</td>\n",
       "      <td>18</td>\n",
       "      <td>1978</td>\n",
       "      <td>2</td>\n",
       "      <td>NL</td>\n",
       "      <td>M</td>\n",
       "      <td>NaN</td>\n",
       "      <td>218.0</td>\n",
       "      <td>Neotoma</td>\n",
       "      <td>albigula</td>\n",
       "      <td>Rodent</td>\n",
       "      <td>Control</td>\n",
       "      <td>0.218</td>\n",
       "    </tr>\n",
       "    <tr>\n",
       "      <th>9</th>\n",
       "      <td>661</td>\n",
       "      <td>3</td>\n",
       "      <td>11</td>\n",
       "      <td>1978</td>\n",
       "      <td>2</td>\n",
       "      <td>NL</td>\n",
       "      <td>NaN</td>\n",
       "      <td>NaN</td>\n",
       "      <td>NaN</td>\n",
       "      <td>Neotoma</td>\n",
       "      <td>albigula</td>\n",
       "      <td>Rodent</td>\n",
       "      <td>Control</td>\n",
       "      <td>NaN</td>\n",
       "    </tr>\n",
       "  </tbody>\n",
       "</table>\n",
       "</div>"
      ],
      "text/plain": [
       "   record_id  month  day  year  plot_id species_id  sex  hindfoot_length  \\\n",
       "0          1      7   16  1977        2         NL    M             32.0   \n",
       "1         72      8   19  1977        2         NL    M             31.0   \n",
       "2        224      9   13  1977        2         NL  NaN              NaN   \n",
       "3        266     10   16  1977        2         NL  NaN              NaN   \n",
       "4        349     11   12  1977        2         NL  NaN              NaN   \n",
       "5        363     11   12  1977        2         NL  NaN              NaN   \n",
       "6        435     12   10  1977        2         NL  NaN              NaN   \n",
       "7        506      1    8  1978        2         NL  NaN              NaN   \n",
       "8        588      2   18  1978        2         NL    M              NaN   \n",
       "9        661      3   11  1978        2         NL  NaN              NaN   \n",
       "\n",
       "   weight    genus   species    taxa plot_type  weight_kg  \n",
       "0     NaN  Neotoma  albigula  Rodent   Control        NaN  \n",
       "1     NaN  Neotoma  albigula  Rodent   Control        NaN  \n",
       "2     NaN  Neotoma  albigula  Rodent   Control        NaN  \n",
       "3     NaN  Neotoma  albigula  Rodent   Control        NaN  \n",
       "4     NaN  Neotoma  albigula  Rodent   Control        NaN  \n",
       "5     NaN  Neotoma  albigula  Rodent   Control        NaN  \n",
       "6     NaN  Neotoma  albigula  Rodent   Control        NaN  \n",
       "7     NaN  Neotoma  albigula  Rodent   Control        NaN  \n",
       "8   218.0  Neotoma  albigula  Rodent   Control      0.218  \n",
       "9     NaN  Neotoma  albigula  Rodent   Control        NaN  "
      ]
     },
     "execution_count": 57,
     "metadata": {},
     "output_type": "execute_result"
    }
   ],
   "source": [
    "surveys['weight_kg'] = surveys['weight'] / 1000\n",
    "surveys.head(10)"
   ]
  },
  {
   "cell_type": "markdown",
   "metadata": {},
   "source": [
    "The first few rows of the output are full of `NA`s. To remove those, use the `dropna()` method of the data frame."
   ]
  },
  {
   "cell_type": "code",
   "execution_count": 58,
   "metadata": {},
   "outputs": [
    {
     "data": {
      "text/html": [
       "<div>\n",
       "<style scoped>\n",
       "    .dataframe tbody tr th:only-of-type {\n",
       "        vertical-align: middle;\n",
       "    }\n",
       "\n",
       "    .dataframe tbody tr th {\n",
       "        vertical-align: top;\n",
       "    }\n",
       "\n",
       "    .dataframe thead th {\n",
       "        text-align: right;\n",
       "    }\n",
       "</style>\n",
       "<table border=\"1\" class=\"dataframe\">\n",
       "  <thead>\n",
       "    <tr style=\"text-align: right;\">\n",
       "      <th></th>\n",
       "      <th>record_id</th>\n",
       "      <th>month</th>\n",
       "      <th>day</th>\n",
       "      <th>year</th>\n",
       "      <th>plot_id</th>\n",
       "      <th>species_id</th>\n",
       "      <th>sex</th>\n",
       "      <th>hindfoot_length</th>\n",
       "      <th>weight</th>\n",
       "      <th>genus</th>\n",
       "      <th>species</th>\n",
       "      <th>taxa</th>\n",
       "      <th>plot_type</th>\n",
       "      <th>weight_kg</th>\n",
       "    </tr>\n",
       "  </thead>\n",
       "  <tbody>\n",
       "    <tr>\n",
       "      <th>11</th>\n",
       "      <td>845</td>\n",
       "      <td>5</td>\n",
       "      <td>6</td>\n",
       "      <td>1978</td>\n",
       "      <td>2</td>\n",
       "      <td>NL</td>\n",
       "      <td>M</td>\n",
       "      <td>32.0</td>\n",
       "      <td>204.0</td>\n",
       "      <td>Neotoma</td>\n",
       "      <td>albigula</td>\n",
       "      <td>Rodent</td>\n",
       "      <td>Control</td>\n",
       "      <td>0.204</td>\n",
       "    </tr>\n",
       "    <tr>\n",
       "      <th>13</th>\n",
       "      <td>1164</td>\n",
       "      <td>8</td>\n",
       "      <td>5</td>\n",
       "      <td>1978</td>\n",
       "      <td>2</td>\n",
       "      <td>NL</td>\n",
       "      <td>M</td>\n",
       "      <td>34.0</td>\n",
       "      <td>199.0</td>\n",
       "      <td>Neotoma</td>\n",
       "      <td>albigula</td>\n",
       "      <td>Rodent</td>\n",
       "      <td>Control</td>\n",
       "      <td>0.199</td>\n",
       "    </tr>\n",
       "    <tr>\n",
       "      <th>14</th>\n",
       "      <td>1261</td>\n",
       "      <td>9</td>\n",
       "      <td>4</td>\n",
       "      <td>1978</td>\n",
       "      <td>2</td>\n",
       "      <td>NL</td>\n",
       "      <td>M</td>\n",
       "      <td>32.0</td>\n",
       "      <td>197.0</td>\n",
       "      <td>Neotoma</td>\n",
       "      <td>albigula</td>\n",
       "      <td>Rodent</td>\n",
       "      <td>Control</td>\n",
       "      <td>0.197</td>\n",
       "    </tr>\n",
       "    <tr>\n",
       "      <th>17</th>\n",
       "      <td>1756</td>\n",
       "      <td>4</td>\n",
       "      <td>29</td>\n",
       "      <td>1979</td>\n",
       "      <td>2</td>\n",
       "      <td>NL</td>\n",
       "      <td>M</td>\n",
       "      <td>33.0</td>\n",
       "      <td>166.0</td>\n",
       "      <td>Neotoma</td>\n",
       "      <td>albigula</td>\n",
       "      <td>Rodent</td>\n",
       "      <td>Control</td>\n",
       "      <td>0.166</td>\n",
       "    </tr>\n",
       "    <tr>\n",
       "      <th>18</th>\n",
       "      <td>1818</td>\n",
       "      <td>5</td>\n",
       "      <td>30</td>\n",
       "      <td>1979</td>\n",
       "      <td>2</td>\n",
       "      <td>NL</td>\n",
       "      <td>M</td>\n",
       "      <td>32.0</td>\n",
       "      <td>184.0</td>\n",
       "      <td>Neotoma</td>\n",
       "      <td>albigula</td>\n",
       "      <td>Rodent</td>\n",
       "      <td>Control</td>\n",
       "      <td>0.184</td>\n",
       "    </tr>\n",
       "    <tr>\n",
       "      <th>19</th>\n",
       "      <td>1882</td>\n",
       "      <td>7</td>\n",
       "      <td>4</td>\n",
       "      <td>1979</td>\n",
       "      <td>2</td>\n",
       "      <td>NL</td>\n",
       "      <td>M</td>\n",
       "      <td>32.0</td>\n",
       "      <td>206.0</td>\n",
       "      <td>Neotoma</td>\n",
       "      <td>albigula</td>\n",
       "      <td>Rodent</td>\n",
       "      <td>Control</td>\n",
       "      <td>0.206</td>\n",
       "    </tr>\n",
       "    <tr>\n",
       "      <th>20</th>\n",
       "      <td>2133</td>\n",
       "      <td>10</td>\n",
       "      <td>25</td>\n",
       "      <td>1979</td>\n",
       "      <td>2</td>\n",
       "      <td>NL</td>\n",
       "      <td>F</td>\n",
       "      <td>33.0</td>\n",
       "      <td>274.0</td>\n",
       "      <td>Neotoma</td>\n",
       "      <td>albigula</td>\n",
       "      <td>Rodent</td>\n",
       "      <td>Control</td>\n",
       "      <td>0.274</td>\n",
       "    </tr>\n",
       "    <tr>\n",
       "      <th>21</th>\n",
       "      <td>2184</td>\n",
       "      <td>11</td>\n",
       "      <td>17</td>\n",
       "      <td>1979</td>\n",
       "      <td>2</td>\n",
       "      <td>NL</td>\n",
       "      <td>F</td>\n",
       "      <td>30.0</td>\n",
       "      <td>186.0</td>\n",
       "      <td>Neotoma</td>\n",
       "      <td>albigula</td>\n",
       "      <td>Rodent</td>\n",
       "      <td>Control</td>\n",
       "      <td>0.186</td>\n",
       "    </tr>\n",
       "    <tr>\n",
       "      <th>22</th>\n",
       "      <td>2406</td>\n",
       "      <td>1</td>\n",
       "      <td>16</td>\n",
       "      <td>1980</td>\n",
       "      <td>2</td>\n",
       "      <td>NL</td>\n",
       "      <td>F</td>\n",
       "      <td>33.0</td>\n",
       "      <td>184.0</td>\n",
       "      <td>Neotoma</td>\n",
       "      <td>albigula</td>\n",
       "      <td>Rodent</td>\n",
       "      <td>Control</td>\n",
       "      <td>0.184</td>\n",
       "    </tr>\n",
       "    <tr>\n",
       "      <th>24</th>\n",
       "      <td>3000</td>\n",
       "      <td>5</td>\n",
       "      <td>18</td>\n",
       "      <td>1980</td>\n",
       "      <td>2</td>\n",
       "      <td>NL</td>\n",
       "      <td>F</td>\n",
       "      <td>31.0</td>\n",
       "      <td>87.0</td>\n",
       "      <td>Neotoma</td>\n",
       "      <td>albigula</td>\n",
       "      <td>Rodent</td>\n",
       "      <td>Control</td>\n",
       "      <td>0.087</td>\n",
       "    </tr>\n",
       "  </tbody>\n",
       "</table>\n",
       "</div>"
      ],
      "text/plain": [
       "    record_id  month  day  year  plot_id species_id sex  hindfoot_length  \\\n",
       "11        845      5    6  1978        2         NL   M             32.0   \n",
       "13       1164      8    5  1978        2         NL   M             34.0   \n",
       "14       1261      9    4  1978        2         NL   M             32.0   \n",
       "17       1756      4   29  1979        2         NL   M             33.0   \n",
       "18       1818      5   30  1979        2         NL   M             32.0   \n",
       "19       1882      7    4  1979        2         NL   M             32.0   \n",
       "20       2133     10   25  1979        2         NL   F             33.0   \n",
       "21       2184     11   17  1979        2         NL   F             30.0   \n",
       "22       2406      1   16  1980        2         NL   F             33.0   \n",
       "24       3000      5   18  1980        2         NL   F             31.0   \n",
       "\n",
       "    weight    genus   species    taxa plot_type  weight_kg  \n",
       "11   204.0  Neotoma  albigula  Rodent   Control      0.204  \n",
       "13   199.0  Neotoma  albigula  Rodent   Control      0.199  \n",
       "14   197.0  Neotoma  albigula  Rodent   Control      0.197  \n",
       "17   166.0  Neotoma  albigula  Rodent   Control      0.166  \n",
       "18   184.0  Neotoma  albigula  Rodent   Control      0.184  \n",
       "19   206.0  Neotoma  albigula  Rodent   Control      0.206  \n",
       "20   274.0  Neotoma  albigula  Rodent   Control      0.274  \n",
       "21   186.0  Neotoma  albigula  Rodent   Control      0.186  \n",
       "22   184.0  Neotoma  albigula  Rodent   Control      0.184  \n",
       "24    87.0  Neotoma  albigula  Rodent   Control      0.087  "
      ]
     },
     "execution_count": 58,
     "metadata": {},
     "output_type": "execute_result"
    }
   ],
   "source": [
    "surveys.dropna().head(10)"
   ]
  },
  {
   "cell_type": "markdown",
   "metadata": {},
   "source": [
    "By default, `.dropna()` removes all rows that has an NA value in any of the columns. There are parameters that controls how the rows are dropped and which columns should be searched for NAs.\n",
    "\n",
    "#### Challenge\n",
    "\n",
    "Create a new data frame from the `surveys` data that meets the following\n",
    "criteria: contains only the `species_id` column and a new column called\n",
    "`hindfoot_half` containing values that are half the `hindfoot_length` values.\n",
    "In this `hindfoot_half` column, there are no `NA`s and all values are less\n",
    "than 30.\n",
    "\n",
    "**Hint**: think about how the commands should be ordered to produce this data frame!\n",
    "\n",
    "```{r}\n",
    "## Answer\n",
    "surveys_hindfoot_half <- surveys %>%\n",
    "    filter(!is.na(hindfoot_length)) %>%\n",
    "    mutate(hindfoot_half = hindfoot_length / 2) %>%\n",
    "    filter(hindfoot_half < 30) %>%\n",
    "    select(species_id, hindfoot_half)\n",
    "```"
   ]
  },
  {
   "cell_type": "code",
   "execution_count": null,
   "metadata": {},
   "outputs": [],
   "source": []
  },
  {
   "cell_type": "markdown",
   "metadata": {},
   "source": [
    "# =====================================================\n",
    "# ======================== END ========================\n",
    "# ====================================================="
   ]
  },
  {
   "cell_type": "code",
   "execution_count": null,
   "metadata": {},
   "outputs": [],
   "source": []
  },
  {
   "cell_type": "markdown",
   "metadata": {},
   "source": [
    "## R packages for data analyses\n",
    "# TODO will this be introduced in the previous lesson?\n",
    "There are certainly many tools built-in to base R which can be used to\n",
    "understand data, but we are going to use a package called `dplyr` which makes\n",
    "exploratory data analysis (EDA) particularly intuitive and effective.\n",
    "\n",
    "First, let's explain the concept of an R-package. What we have used so far is\n",
    "all part of base R (except `read_csv`), together with many more functions. Every\n",
    "package included in base R will be installed on any computer where R is\n",
    "installed, since they are considered critical for using R, e.g. `c()`, `mean()`,\n",
    "`+`, `-`, etc. However, since R is an open language, it is easy to develop your\n",
    "own R-package that provides new functionality and submit it to the official\n",
    "repository for R-packages called CRAN (Comprehensive R Archive Network). CRAN\n",
    "has thousands of packages, and all these cannot be installed by default, because\n",
    "then base R installation would be huge and most people would only be using a\n",
    "fraction of everything installed on their machine. It would be like if you\n",
    "downloaded the Firefox or Chrome browser and you would get all extensions and\n",
    "addons installed by default, or as if your phone came with every app ever made\n",
    "for it already installed when you bought it, quite impractical.\n",
    "\n",
    "To install a package in R, we use the function `install.packages()`. In this\n",
    "case, the package `dplyr` is part of a bigger collections of packages called\n",
    "[`tidyverse`](https://www.tidyverse.org/) (just like Microsoft Word is part of\n",
    "Microsoft Office), which also contains the `readr` package we installed in the\n",
    "beginning and many more packages that makes exploratory data analyses more\n",
    "intuitive and effective. \n",
    "\n",
    "```{r, eval=FALSE}\n",
    "install.packages('tidyverse')\n",
    "```\n",
    "\n",
    "Now all the `dplyr` functions are available to us by prefacing them with\n",
    "`dplyr::`:\n",
    "\n",
    "```{r}\n",
    "dplyr::glimpse(surveys) # `glimpse` is similar to `str`\n",
    "```\n",
    "\n",
    "We will be using this package a lot, and it would be a little annoying to have\n",
    "to type `dplyr::` every time, so we will load it into our current environment.\n",
    "This needs to be done once for every new R session and makes all functions\n",
    "accessible without their package prefix, which is very convenient, as long as\n",
    "you are aware of which function you are using and don't load a function with the\n",
    "same name from two different packages.\n",
    "\n",
    "```{r}\n",
    "# We could also do `library(dplyr)`, but we need the rest of the\n",
    "# tidyverse packages later, so we might as well import the entire collection.\n",
    "library('tidyverse')\n",
    "glimpse(surveys)\n",
    "```"
   ]
  },
  {
   "cell_type": "markdown",
   "metadata": {},
   "source": [
    "## Data wrangling with dplyr\n",
    "\n",
    "Wrangling here is used in the sense of maneuvering, managing, controlling, and\n",
    "turning your data upside down and inside out to look at it from different angles\n",
    "in order to understand it. The package **`dplyr`** provides easy tools for the\n",
    "most common data manipulation tasks. It is built to work directly with data\n",
    "frames, with many common tasks optimized by being written in a compiled language\n",
    "(C), this means that many operations run much faster than similar tools\n",
    "in R. An additional feature is the ability to work directly with data stored in\n",
    "an external database, such as SQL-databases. The ability to work with databases\n",
    "is great because you are able to work with much bigger datasets (100s of GB)\n",
    "than your computer could normally handle. We will not talk in detail about this\n",
    "in class, but there are great resources online to learn more (e.g. [this lecture\n",
    "from Data\n",
    "Carpentry](http://www.datacarpentry.org/R-ecology-lesson/05-r-and-databases.html)).\n",
    "\n",
    "\n",
    "### Selecting columns and filtering rows\n",
    "\n",
    "We're going to learn some of the most common **`dplyr`** functions: `select()`,\n",
    "`filter()`, `mutate()`, `group_by()`, and `summarize()`. To select columns of a\n",
    "data frame, use `select()`. The first argument to this function is the data\n",
    "frame (`surveys`), and the subsequent arguments are the columns to keep.\n",
    "\n",
    "```{r}\n",
    "select(surveys, plot_id, species_id, weight, year)\n",
    "```\n",
    "\n",
    "To choose rows based on a specific criteria, use `filter()`:\n",
    "\n",
    "```{r}\n",
    "filter(surveys, year == 1995)\n",
    "```\n",
    "\n",
    "\n",
    "### Chaining functions together using pipes\n",
    "\n",
    "But what if you wanted to select and filter at the same time? There are three\n",
    "ways to do this: use intermediate steps, nested functions, or pipes. With\n",
    "intermediate steps, you essentially create a temporary data frame and use that\n",
    "as input to the next function. This can clutter up your workspace with lots of\n",
    "objects:\n",
    "\n",
    "```{r}\n",
    "temp_df <- select(surveys, plot_id, species_id, weight, year)\n",
    "filter(temp_df, year == 1995)\n",
    "```\n",
    "\n",
    "You can also nest functions (i.e. one function inside of another).\n",
    "This is handy, but can be difficult to read if too many functions are nested as\n",
    "things are evaluated from the inside out.\n",
    "\n",
    "```{r}\n",
    "filter(select(surveys, plot_id, species_id, weight, year), year == 1995)\n",
    "```\n",
    "\n",
    "The last option, pipes, are a fairly recent addition to R. Pipes let you take\n",
    "the output of one function and send it directly to the next, which is useful\n",
    "when you need to do many things to the same dataset.  Pipes in R look like `%>%`\n",
    "and are made available via the `magrittr` package that also is included in the\n",
    "`tidyverse`. \n",
    "\n",
    "```{r}\n",
    "surveys %>% \n",
    "    select(., plot_id, species_id, weight, year) %>% \n",
    "    filter(., year == 1995)\n",
    "```\n",
    "\n",
    "The `.` refers to the object that is passed from the previous line. In this\n",
    "example, the data frame `surveys` is passed to the `.` in the `select()`\n",
    "statement. Then, the modified data frame which is the result of the `select()`\n",
    "operation, is passed to the `.` in the filter() statement. Put more simply:\n",
    "whatever was the result from the line above the current line, will be used in\n",
    "the current line.\n",
    "\n",
    "Since it gets a bit tedious to write out the all dots, **`dplyr`** allows for\n",
    "them to be omitted. The chunk below gives the same output as the one above:\n",
    "\n",
    "```{r}\n",
    "surveys %>% \n",
    "    select(plot_id, species_id, weight, year) %>% \n",
    "    filter(year == 1995)\n",
    "```\n",
    "\n",
    "Another example:\n",
    "\n",
    "```{r}\n",
    "surveys %>%\n",
    "  filter(weight < 5) %>%\n",
    "  select(species_id, sex, weight)\n",
    "```"
   ]
  },
  {
   "cell_type": "code",
   "execution_count": null,
   "metadata": {},
   "outputs": [],
   "source": []
  }
 ],
 "metadata": {
  "kernelspec": {
   "display_name": "Python 3",
   "language": "python",
   "name": "python3"
  },
  "language_info": {
   "codemirror_mode": {
    "name": "ipython",
    "version": 3
   },
   "file_extension": ".py",
   "mimetype": "text/x-python",
   "name": "python",
   "nbconvert_exporter": "python",
   "pygments_lexer": "ipython3",
   "version": "3.6.5"
  }
 },
 "nbformat": 4,
 "nbformat_minor": 2
}
