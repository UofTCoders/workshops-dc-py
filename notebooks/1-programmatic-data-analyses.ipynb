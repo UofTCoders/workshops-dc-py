{
 "cells": [
  {
   "cell_type": "markdown",
   "metadata": {
    "toc-hr-collapsed": false
   },
   "source": [
    "# Introduction to programmatic data analyses\n",
    "\n",
    "---"
   ]
  },
  {
   "cell_type": "markdown",
   "metadata": {},
   "source": [
    "### Lesson objectives\n",
    "\n",
    "- To give students an overview of the capabilities of Python and how to use the\n",
    "  JupyterLab for exploratory data analyses.\n",
    "- Learn about some differences between Python and Excel.\n",
    "- Learn some basic Python commands.\n",
    "- Learn about the Markdown syntax and how to use it within the Jupyter notebook."
   ]
  },
  {
   "cell_type": "markdown",
   "metadata": {},
   "source": [
    "### Lesson outline\n",
    "\n",
    "- Communicating with computers (5 min)\n",
    "    - Advantages of text-based communication (10 min)\n",
    "    - Speaking Python (5 min)\n",
    "    - Natural and formal languages (10 min)\n",
    "- The Jupyter notebook (20 min)\n",
    "- Data analysis in Python (5 min)\n",
    "    - Packages (5 min)\n",
    "    - How to get help (5 min)\n",
    "    - Exploring data with `pandas` (10 min)\n",
    "    - Visualizing data with `seaborn` (10 min)\n"
   ]
  },
  {
   "cell_type": "markdown",
   "metadata": {},
   "source": [
    "The aim of this workshop is to teach you basic concepts, skills, and tools for working with data,\n",
    "so that you can get more done in less time while having more fun.\n",
    "You will learn how to use the programming language Python\n",
    "to replace many of the tasks you would normally do in spreadsheet software such as Excel,\n",
    "and also do more advanced analysis.\n",
    "This first section will be a brief introduction to communicating with your computer via text\n",
    "rather than by pointing and clicking in a graphical user interface,\n",
    "which might be what you are used to.\n",
    "\n",
    "---"
   ]
  },
  {
   "cell_type": "markdown",
   "metadata": {
    "toc-hr-collapsed": true
   },
   "source": [
    "## Communicating with computers\n",
    "\n",
    "Before we get into practically doing things,\n",
    "I want to give some background to the idea of computing.\n",
    "Essentially,\n",
    "computing is about humans communicating with the computer\n",
    "to modulate flows of current in the hardware,\n",
    "in order to get the computer to carry out advanced calculations\n",
    "that we are unable to efficiently compute ourselves.\n",
    "Early examples of human-computer communication was quite primitive\n",
    "and included actually disconnecting a wire and connecting it again in a different spot.\n",
    "Luckily,\n",
    "we are not doing this anymore.\n",
    "Instead,\n",
    "we have graphical user interfaces with menus and buttons,\n",
    "which is what you are commonly using on your laptop.\n",
    "These graphical interfaces can be thought of as a layer (or shell)\n",
    "around the internal components of your operating system.\n",
    "They exist as a middle man,\n",
    "making it easier for us to express our thoughts,\n",
    "and for computers to interpret them.\n",
    "\n",
    "An example of programs with as graphical interface are spreadsheet software,\n",
    "such as Microsoft Excel and LibreOffice Calc.\n",
    "In these programs,\n",
    "all the functionality is accessible via hierarchical menus,\n",
    "and clicking buttons sends instructions to the computer,\n",
    "which then responds and sends the results back to your screen.\n",
    "\n",
    "Spreadsheet software is great for viewing and entering small data sets,\n",
    "and for quickly creating simple visualizations.\n",
    "However,\n",
    "it can be tricky to design publication-ready figures,\n",
    "create automatic reproducible analysis workflows,\n",
    "perform advanced calculations,\n",
    "and reliably clean data sets.\n",
    "Even when using a spreadsheet program to record data,\n",
    "it is often beneficial to have some some basic programming skills\n",
    "to facilitate the analyses of those data."
   ]
  },
  {
   "cell_type": "markdown",
   "metadata": {},
   "source": [
    "### Advantages of text-based communication\n",
    "\n",
    "Today,\n",
    "we will learn about communicating to your computer via text,\n",
    "rather than graphical point and click.\n",
    "Typing instruction to the computer might at first seems counterintuitive,\n",
    "why do we need it when it is so easy to point and click with the mouse?\n",
    "Well,\n",
    "graphical user interfaces can be nice when you are new to something,\n",
    "but text based interfaces are more powerful, faster,\n",
    "and actually easier to use once you get comfortable with them.\n",
    "\n",
    "We can compare it to learning a language:\n",
    "in the beginning it's convenient to look up words in a dictionary\n",
    "(the analog of a menu in a graphical interface),\n",
    "to slowly string together sentences one word at a time.\n",
    "But,\n",
    "once we become more proficient in the language and know what we want to say,\n",
    "it is easier to say or type it directly,\n",
    "instead of having to look up every word in the dictionary first.\n",
    "Likewise,\n",
    "experienced programmers can work faster and with more flow\n",
    "when they can type directly to the computer,\n",
    "instead of being constrained by graphical menus.\n",
    "It would be even faster to have the computer interpret speech or even thought,\n",
    "via speech- and brain-computer interfaces,\n",
    "but accuracy is often a limiting factor.\n",
    "\n",
    "A critical advantage of text interfaces,\n",
    "is the ease of task automation and repetition.\n",
    "Once you have all the instructions written down,\n",
    "it is simple to apply them to a different dataset.\n",
    "This facilitates reproducibility of analysis,\n",
    "not only between teams from different organizations,\n",
    "but also between individuals on the same team.\n",
    "Compare being shown how to perform a certain analysis in spreadsheet software,\n",
    "where the instructions will be\n",
    "\"first you click here, then here, then here...\",\n",
    "with being handed the same workflow written down in several lines of codes,\n",
    "which you can analyze and understand at your own pace.\n",
    "\n",
    "Another advantage of text interfaces,\n",
    "is that they are less resource intensive than their graphical counterparts\n",
    "and easier to develop programs with text interfaces\n",
    "since you don't have to code the graphical components.\n",
    "This frees up developers to spend their time on other valuable components of the software.\n",
    "The ease of implementation\n",
    "combined with the efficiency of use for experienced users,\n",
    "results in that that many powerful programs are written without a graphical user interface.\n",
    "To use these programs,\n",
    "you need to know how to interact via text.\n",
    "For example,\n",
    "many the best data analysis and machine learning packages are written in Python or R,\n",
    "and you need to know these languages to use the machine learning components.\n",
    "Even if the program or package you want to use is not written in one of these languages,\n",
    "much of the knowledge you gain from understanding one programming language can be transferred to others.\n",
    "In addition,\n",
    "most powerful computers that you can log into remotely\n",
    "only give you a text interface to work with\n",
    "and there is no way to launch a graphical user interface."
   ]
  },
  {
   "cell_type": "markdown",
   "metadata": {},
   "source": [
    "### Speaking Python\n",
    "\n",
    "To communicate with the computer via Python,\n",
    "we need to use the Python interpreter,\n",
    "which can *interpret* our typed commands into machine language\n",
    "so that the computer can understand it.\n",
    "On Windows open the `Anaconda Prompt`,\n",
    "on MacOS open `terminal.app`,\n",
    "and on Linux open whichever terminal you prefer (e.g. `gnome-terminal` or `konsole`).\n",
    "Then type in `python` and hit <kbd>Enter</kbd>.\n",
    "You should see something like this:\n",
    "\n",
    "```\n",
    "Python 3.6.5 | packaged by conda-forge | (default, Apr  6 2018, 13:39:56)\n",
    "[GCC 4.8.2 20140120 (Red Hat 4.8.2-15)] on linux\n",
    "Type \"help\", \"copyright\", \"credits\" or \"license\" for more information.\n",
    ">>>\n",
    "```\n",
    "\n",
    "The `>>>` is called the \"prompt\",\n",
    "because it is *prompting* you to enter a command\n",
    "(a suggestion enhanced by the blinking block cursor).\n",
    "Now let's speak Python!\n",
    "\n",
    "### Natural and formal languages\n",
    "\n",
    "While English and other spoken language are referred to as \"natural\" languages,\n",
    "computer languages are said to be \"formal\" languages.\n",
    "You might believe that it is quite tricky to learn formal languages,\n",
    "but it is actually not!\n",
    "You already know one:\n",
    "mathematics,\n",
    "which in fact written largely the same way in Python\n",
    "as you would write it by hand.\n"
   ]
  },
  {
   "cell_type": "code",
   "execution_count": 1,
   "metadata": {},
   "outputs": [
    {
     "data": {
      "text/plain": [
       "9"
      ]
     },
     "execution_count": 1,
     "metadata": {},
     "output_type": "execute_result"
    }
   ],
   "source": [
    "4 + 5"
   ]
  },
  {
   "cell_type": "markdown",
   "metadata": {},
   "source": [
    "The Python interpreter returns the result directly under our input\n",
    "and prompts us to enter new instructions.\n",
    "This is another strength of using Python for data analysis.\n",
    "Some programming languages requires an additional step\n",
    "where the typed instructions are *compiled* into machine language\n",
    "and saved as a separate file that they computer can run.\n",
    "Although compiling code often results in faster execution time,\n",
    "Python allows us to very quickly experiment and test new code,\n",
    "which is where most of the time is spent when doing exploratory data analysis.\n",
    "\n",
    "The sparseness of the input `4 + 5` is much more efficient than typing\n",
    "\"Computer, could you please add 4 and 5 for me?\".\n",
    "Formal computer languages also avoid the ambiguity present in natural languages.\n",
    "You can think of Python as a combination of math\n",
    "and a formal, succinct version of English.\n",
    "Since it is designed to reduce ambiguity,\n",
    "Python lacks the edge cases and special rules that can make English so difficult to learn,\n",
    "and there is almost always a logical reason for how the Python language is designed,\n",
    "not only a historical one.\n",
    "\n",
    "The syntax for assigning a value to a variable is also similar to how this is written in math."
   ]
  },
  {
   "cell_type": "code",
   "execution_count": 2,
   "metadata": {},
   "outputs": [],
   "source": [
    "a = 4"
   ]
  },
  {
   "cell_type": "markdown",
   "metadata": {},
   "source": [
    "The value `4` is now accessible via the variable name `a`.\n",
    "We can now perform operations with the variable name,\n",
    "just as we would with the value directly."
   ]
  },
  {
   "cell_type": "code",
   "execution_count": 3,
   "metadata": {},
   "outputs": [
    {
     "data": {
      "text/plain": [
       "8"
      ]
     },
     "execution_count": 3,
     "metadata": {},
     "output_type": "execute_result"
    }
   ],
   "source": [
    "a * 2"
   ]
  },
  {
   "cell_type": "markdown",
   "metadata": {},
   "source": [
    "This becomes very helpful when working with more complex data that a single value,\n",
    "and descriptive variable names can make our code more readable,\n",
    "as we will see later on.\n",
    "\n",
    "Learning programming is similar to learning a foreign natural language:\n",
    "you will often learn the most from trying to do something and receiving feedback\n",
    "(from the computer or another person)!\n",
    "When there is something you can't wrap you head around,\n",
    "or if you are actively trying to find a new way of expressing a thought,\n",
    "then look it up,\n",
    "just as you would with a natural language.\n",
    "You can use your favorite search engine to find answers to your questions,\n",
    "many of which might already have been asked by other learners.\n",
    "One reputable hub for programming related questions is the Q&A site [StackOverflow].\n",
    "They have helpful directions if you can't find what you are looking for\n",
    "and want to [ask a question] that has not been asked previously.\n",
    "\n",
    "[StackOverflow]: https://stackoverflow.com/questions/ask\n",
    "[ask a question]: https://stackoverflow.com/questions/ask\n",
    "\n",
    "## JupyterLab and the Jupyter notebook\n",
    "\n",
    "Although the Python interpreter is powerful,\n",
    "it is commonly bundled with other useful tools\n",
    "in user interfaces specifically designed for exploratory data analysis.\n",
    "One such interface is [JupyterLab] from [Project Jupyter],\n",
    "which is what we will be using today.\n",
    "JupyterLab originates from a project called IPython,\n",
    "an effort to make Python development more *interactive*.\n",
    "Since its inception,\n",
    "the scope of the project expanded to include additional programming languages,\n",
    "such as Julia and R,\n",
    "so the name was changed to \"Jupyter\" (JU-PY-te-R) as a reference to its core languages.\n",
    "Here,\n",
    "we will be using the [Jupyter notebook] within JupyterLab,\n",
    "which allows us to easily take notes about our analysis\n",
    "and view plots within the same document where we code.\n",
    "The notebook format also facilitates sharing of analyses,\n",
    "since the notebook interface is easily accessible through any web browser\n",
    "as well as exportable as a PDF or HTML page.\n",
    "\n",
    "[JupyterLab]: https://jupyterlab.readthedocs.io/en/stable/\n",
    "[Project Jupyter]: https://jupyter.org/\n",
    "[Jupyter notebook]: https://jupyter-notebook.readthedocs.io/en/stable/notebook.html\n",
    "\n",
    "JupyterLab is launched by running the command `jupyter-lab` from the terminal,\n",
    "or by finding it in the `Anaconda navigator` from your operating system menu.\n",
    "This should output some text in the terminal\n",
    "and open a new tab in your default browser.\n",
    "Although a web browser is used to display the JupyterLab interface,\n",
    "you don't need to be connected to the internet to use it.\n",
    "All the files necessary to run JupyterLab are stored locally\n",
    "and the browser is simply used to display the interface.\n",
    "In the new browser tab,\n",
    "click the tile that says \"Python3\" under the \"Notebook\" heading,\n",
    "or use the \"File\" menu (`File --> New --> Notebook`).\n",
    "The new notebook is named \"Untitled\".\n",
    "If you right click on the tab where it says \"Untitled\",\n",
    "you will be given the option of changing the name to whatever you want.\n",
    "The notebook is divided into cells.\n",
    "Initially there will be a single input cell.\n",
    "You can type Python code directly into the cell,\n",
    "just as we did before.\n",
    "To run the output,\n",
    "click the play button in the toolbar,\n",
    "or press <kbd>Shift</kbd> + <kbd>Enter</kbd>"
   ]
  },
  {
   "cell_type": "code",
   "execution_count": 4,
   "metadata": {},
   "outputs": [
    {
     "data": {
      "text/plain": [
       "9"
      ]
     },
     "execution_count": 4,
     "metadata": {},
     "output_type": "execute_result"
    }
   ],
   "source": [
    "4 + 5"
   ]
  },
  {
   "cell_type": "markdown",
   "metadata": {},
   "source": [
    "By default,\n",
    "the code in the current cell is executed\n",
    "and the next existing cell is selected\n",
    "(if there is no next cell, a new empty one is created)\n",
    "You can execute multiple lines of code in the same code cell,\n",
    "the lines will be executed one after the other."
   ]
  },
  {
   "cell_type": "code",
   "execution_count": 5,
   "metadata": {},
   "outputs": [
    {
     "data": {
      "text/plain": [
       "8"
      ]
     },
     "execution_count": 5,
     "metadata": {},
     "output_type": "execute_result"
    }
   ],
   "source": [
    "a = 4\n",
    "a * 2"
   ]
  },
  {
   "cell_type": "markdown",
   "metadata": {},
   "source": [
    "In notebooks,\n",
    "you can take notes in nicely formatted text notes via the Markdown text format.\n",
    "To use it,\n",
    "create a new cell by clicking the \"+\" sign in the toolbar.\n",
    "Then click the dropdown menu that says \"code\",\n",
    "and change it to say \"markdown\".\n",
    "In markdown,\n",
    "you can use symbols to indicate how certain text should be rendered.\n",
    "You might already be familiar with this syntax\n",
    "if you have commented in online forums or used chat applications.\n",
    "An example of the syntax can look like this:\n",
    "\n",
    "```markdown\n",
    "# Heading level one\n",
    "\n",
    "- A bullet point\n",
    "- *Emphasis in italics*\n",
    "- **Strong emphasis in bold**\n",
    "\n",
    "This is a [link to learn more about markdown](https://guides.github.com/features/mastering-markdown/)\n",
    "```\n",
    "\n",
    "The combination of code, plots, notes, and easy sharing,\n",
    "makes for a powerful data analysis environment\n",
    "that facilitates creating automated reproducible documents.\n",
    "It is possible to write an entire academic paper in this environment,\n",
    "and it is very handy for reports such as progress updates,\n",
    "since you can share your notes together with the analysis itself."
   ]
  },
  {
   "cell_type": "markdown",
   "metadata": {},
   "source": [
    "### A few more notebook tips\n",
    "\n",
    "The little counter on the left of each cell\n",
    "keeps track of in which order the cells were executed.\n",
    "It changes to an `*` when the computer is processing the computation\n",
    "(mostly noticeable for computation that takes longer time).\n",
    "If the `*` is shown for a really long time and you want to interrupt it,\n",
    "you can click the stop button.\n",
    "If you ever need to restart the Python in the notebook,\n",
    "you can click the circular arrow button.\n",
    "Cells can be reordered by drag and drop with the mouse,\n",
    "and copy and paste is available via right mouse click.\n",
    "The shortcut keys in the right click menu are referring to the Jupyter Command mode,\n",
    "which is not that important to know about when just starting out,\n",
    "but can be interesting to look into if you like keyboard shortcuts.\n",
    "These are the key JupyterLab features for getting started,\n",
    "there are many more that you can learn on your own if you want to.\n",
    "\n",
    "The notebook is saved automatically,\n",
    "but it can also be done manually from the toolbar\n",
    "or by hitting <kbd>Ctrl</kbd> + <kbd>s</kbd>.\n",
    "Both the input and the output cells are saved,\n",
    "so any plots that you make will be present in the notebook next time you open it up\n",
    "without the need to rerun any code.\n",
    "This allows you to create complete documents with both your code\n",
    "and the output of the code in a single place,\n",
    "instead of spread across text files for your code and separate image files for each of your plots.\n",
    "\n",
    "The notebook is stored as a JSON file with an `.ipynb` extension.\n",
    "These are specially formatted text files,\n",
    "which allow you to share your code, results, and documentation as a single document.\n",
    "When you want to share your notebooks with collaborators that don't have JupyterLab installed,\n",
    "you can export the notebook to HTML or PDF,\n",
    "so that your colleagues can view them in a web browser or PDF-viewer without installing anything!\n",
    "Exporting is done via `File --> Export Notebook As...`\n",
    "(The first time trying to export to PDF,\n",
    "there might be an error message with instructions on how to install TeX.\n",
    "Follow those instructions and try exporting again.\n",
    "If it is still not working,\n",
    "click `Help --> Launch Classic Notebook` and try exporting the same way as before).\n",
    "\n",
    "It is also possible to open up other document types in JupyterLab,\n",
    "e.g. text documents and terminals.\n",
    "These can be placed side by side with the notebook through drag and drop,\n",
    "and all running programs can be viewed in the \"Running\" tab to the left.\n",
    "To search among all available commands for the notebook,\n",
    "the \"Commands\" tab can be used.\n",
    "Existing documents can be opened from the \"File Browser\" tab.\n"
   ]
  },
  {
   "cell_type": "markdown",
   "metadata": {
    "toc-hr-collapsed": true
   },
   "source": [
    "## Data analysis in Python\n",
    "\n",
    "To access additional functionality in a spreadsheet program,\n",
    "you need to click the menu and select the tool you want to use.\n",
    "All charts are in one menu,\n",
    "text layout tools in another,\n",
    "data analyses tools in a third,\n",
    "and so on.\n",
    "Programming languages such as Python have so many tools and functions,\n",
    "that they would not fit in a menu.\n",
    "Instead of clicking `File -> Open` and chose the file,\n",
    "you would type something similar to `file.open('<filename>')` in a programming language.\n",
    "Don't worry if you forget the exact expression,\n",
    "it is often enough to just type the few first letters and then hit <kbd>Tab</kbd>,\n",
    "to show the available options,\n",
    "more on that later."
   ]
  },
  {
   "cell_type": "markdown",
   "metadata": {},
   "source": [
    "### Exploring data with the `pandas` package\n",
    "\n",
    "For this section of the tutorial,\n",
    "the goal is to understand the concepts of data analysis in Python\n",
    "and how they are different from analyzing data in graphical programs.\n",
    "Therefore,\n",
    "it is recommend to not code along for this part,\n",
    "but rather try to get a feel for the overall workflow.\n",
    "All these steps will be covered in detail during later sections of the tutorial.\n",
    "\n",
    "Packages contain domain specific functionality,\n",
    "that is not included in the default Python installation,\n",
    "a bit like how an app can add functionality to your phone.\n",
    "`pandas` is a Python package commonly used\n",
    "to perform data analysis on spreadsheet-like data.\n",
    "The name is derived from \"panel data\",\n",
    "an econometrics term for multidimensional structured data sets.\n",
    "Data are easily loaded into `pandas` from CSV-files and other spreadsheet formats.\n",
    "The format `pandas` uses to represent this data is called a dataframe.\n",
    "\n",
    "For the example data,\n",
    "we will load a public dataset from the web\n",
    "(you can view the data by pasting the URL into your browser).\n",
    "This sample dataset describes the length and width of petals\n",
    "(the colorful leaves of flowers)\n",
    "and sepals\n",
    "(the small leaves covering budding flowers)\n",
    "for three species of iris flowers.\n",
    "When you open a file in a graphical spreadsheet program,\n",
    "it will immediately display the content in the window.\n",
    "Likewise,\n",
    "pandas will display the information of the dataset when you read it in.\n",
    "\n",
    "```{python}\n",
    "import pandas as pd\n",
    "\n",
    "url = 'https://raw.githubusercontent.com/mwaskom/seaborn-data/master/iris.csv'\n",
    "pd.read_csv(url)\n",
    "```\n",
    "\n",
    "To not flood the screen with data,\n",
    "pandas by default only displays the five first and last rows\n",
    "of datasets with more than 60 rows in total.\n",
    "The ellipsis in the middle indicates that the output has been truncated.\n",
    "\n",
    "To do useful and interesting things with the data,\n",
    "we first need to assign it to a variable name\n",
    "so that it is easy to access later.\n",
    "Let's save our dataframe as a variable called `iris`.\n",
    "\n",
    "```{python}\n",
    "iris = pd.read_csv(url)\n",
    "iris\n",
    "```\n",
    "\n",
    "And a single column can be selected with the following syntax.\n",
    "\n",
    "```{python}\n",
    "iris['sepal_length']\n",
    "```\n",
    "\n",
    "We could calculate the mean of all columns easily.\n",
    "\n",
    "```{python}\n",
    "iris.mean()\n",
    "```\n",
    "\n",
    "And even divide the observations into groups\n",
    "depending on which species or iris flower they belong to.\n",
    "\n",
    "```{python}\n",
    "iris.groupby('species').mean()\n",
    "```\n",
    "\n",
    "This technique is often referred to as \"split-apply-combine\".\n",
    "The `groupby()` method *splits* the observations into groups,\n",
    "the `mean()` is *applied* an operation to each group,\n",
    "and the results are *combined* into the table that we can see here.\n",
    "We will learn much more about this in a later lecture."
   ]
  },
  {
   "cell_type": "markdown",
   "metadata": {},
   "source": [
    "### Visualizing data with `seaborn`\n",
    "\n",
    "A crucial part of any exploratory data analysis is data visualization.\n",
    "Humans have great pattern recognition systems,\n",
    "which makes it much easier for us to understand data,\n",
    "when it is represented by graphical elements in plots rather than numbers in tables.\n",
    "To visualize the results in with plots,\n",
    "we will use Python package dedicated to statistical visualization,\n",
    "`seaborn` (the name is a reference to a TV-show character).\n",
    "To count the observations in each species,\n",
    "we could use `countplot()`.\n",
    "\n",
    "```{python}\n",
    "import seaborn as sns\n",
    "\n",
    "sns.countplot(x='species', data=iris)\n",
    "```\n",
    "\n",
    "We can see that there are 50 observations recorded for each species of iris.\n",
    "More interesting could be to compare the sepal lengths\n",
    "to see if there are differences depending on species.\n",
    "We could use `swarmplot()` for this,\n",
    "which plots every single observation as a dot.\n",
    "\n",
    "```{python}\n",
    "sns.swarmplot(x='species', y='sepal_length', data=iris)\n",
    "```\n",
    "\n",
    "Since the number of observations for each species was 50,\n",
    "there will be 50 dots for each species in the plot.\n",
    "This plot agrees with what we saw\n",
    "when looking at the mean values for each species earlier.\n",
    "\n",
    "There is much more to learn about plotting,\n",
    "which will do in a later lecture.\n",
    "One last example to illustrate the power of programmatic data analysis\n",
    "and how straightforward it can be to create complex visualizations.\n",
    "A common exploratory visualization is to investigate the pairwise relationship between variables\n",
    "to find out if there are measurements that are correlated with each other.\n",
    "This can be done with the `pairplot()` function.\n",
    "\n",
    "```{python}\n",
    "sns.pairplot(data=iris)\n",
    "```\n",
    "\n",
    "On the diagonal,\n",
    "we can see histograms of the distribution of each variable.\n",
    "The pairwise relationships between the columns in the data set\n",
    "are shown in scatter plots below the diagonal\n",
    "and the same information is mirrored above the diagonal.\n",
    "From visually inspecting the plot,\n",
    "some variables certainly seem to depend on each other.\n",
    "For example,\n",
    "the petal width and petal height increase simultaneously,\n",
    "which indicate that some flowers have overall bigger petals than others.\n",
    "\n",
    "We can also make out some clusters or groups of points within each pairwise scatter plot.\n",
    "It would be interesting to find out if these corresponded to some inherent structure in the data.\n",
    "Maybe observations from the different species that cluster together?\n",
    "To investigate,\n",
    "we can make a minor modification in the code above,\n",
    "to instruct `seaborn` to adjust the color *hue* of the data points\n",
    "according to their species affiliation.\n",
    "\n",
    "```{python}\n",
    "sns.pairplot(data=iris, hue='species')\n",
    "```\n",
    "\n",
    "It certainly looks like observations from the same species are close together\n",
    "and a lot of the variation in our data can be explained by which species the observation belongs to!\n",
    "\n",
    "This has been an introduction to what data analysis looks like with Python in the Jupyter Notebook.\n",
    "We will get into details about all the steps of this workflow in the following lectures,\n",
    "and you can keep referring back to this lecture as a high level overview of the process."
   ]
  },
  {
   "cell_type": "markdown",
   "metadata": {
    "toc-hr-collapsed": false
   },
   "source": [
    "# Introduction to programming in Python\n",
    "\n",
    "---"
   ]
  },
  {
   "cell_type": "markdown",
   "metadata": {},
   "source": [
    "### Learning objectives\n",
    "\n",
    "- Perform mathematical operations in Python using basic operators.\n",
    "- Define the following data types in Python: strings, integers, and floats.\n",
    "- Define the following as it relates to Python: lists, tuples, and dictionaries."
   ]
  },
  {
   "cell_type": "markdown",
   "metadata": {},
   "source": [
    "### Lesson outline\n",
    "\n",
    "- Introduction to programming in Python (50 min)\n",
    "\n",
    "---"
   ]
  },
  {
   "cell_type": "markdown",
   "metadata": {},
   "source": [
    "## Operators\n",
    "\n",
    "Python can be used as a calculator,\n",
    "where mathematical calculations use familiar syntax for operators such as `+`, `-`, `/`, and `*`.\n",
    "\n",
    "```{python}\n",
    "2 + 2\n",
    "```\n",
    "\n",
    "```{python}\n",
    "6 * 7\n",
    "```\n",
    "\n",
    "```{python}\n",
    "4 / 3\n",
    "```\n",
    "\n",
    "Text prefaced with a `#` is called a \"comment\".\n",
    "These are often technical notes, reminders, or clarification to readers,\n",
    "and they will be ignored by the Python interpreter.\n",
    "\n",
    "```{python}\n",
    "# `**` means \"to the power of\"\n",
    "2 ** 3\n",
    "```"
   ]
  },
  {
   "cell_type": "markdown",
   "metadata": {},
   "source": [
    "## Variables\n",
    "\n",
    "Values can be stored as variables,\n",
    "which is a little like giving values nicknames\n",
    "so that they are easier to access.\n",
    "This is called assigning values to variables\n",
    "and is handy when the same value will be used multiple times.\n",
    "The assignment operator in Python is `=`.\n",
    "\n",
    "```{python}\n",
    "a = 5\n",
    "a * 2\n",
    "```\n",
    "\n",
    "A variable can be named almost anything.\n",
    "It is recommended to separate multiple words with underscores\n",
    "and it is necessary to start the variable name with a letter, not a number or symbol.\n",
    "\n",
    "```{python}\n",
    "new_variable = 4\n",
    "a - new_variable\n",
    "```\n",
    "\n",
    "Variables can hold different types of data,\n",
    "not just numbers.\n",
    "For example,\n",
    "a sequence of characters surrounded by single or double quotation marks\n",
    "is called a string and can be assigned to a variable.\n",
    "In Python,\n",
    "it is intuitive to append string by adding them together:\n",
    "\n",
    "```{python}\n",
    "# Either single or double quotes can be used to define a string.\n",
    "# It does not matter as long as you are consistent.\n",
    "b = 'Hello'\n",
    "c = 'universe'\n",
    "b + c\n",
    "```\n",
    "\n",
    "A space can be added to separate the words.\n",
    "\n",
    "```{python}\n",
    "b + ' ' + c\n",
    "```"
   ]
  },
  {
   "cell_type": "markdown",
   "metadata": {},
   "source": [
    "## Functions\n",
    "\n",
    "To find out what type a variable is,\n",
    "the built-in function `type()` can be used.\n",
    "In essence,\n",
    "a function can be passed input values,\n",
    "follows a set of instructions with how to operate on the input,\n",
    "and then outputs the result.\n",
    "This is analogous to following a recipe:\n",
    "the ingredients are the input,\n",
    "the recipe specifies the set of instructions,\n",
    "and the output is the finished dish.\n",
    "\n",
    "```{python}\n",
    "type(a)\n",
    "```\n",
    "\n",
    "`int` stands for \"integer\",\n",
    "which is the type of any number without a decimal component.\n",
    "\n",
    "To be reminded of the value of `a`,\n",
    "the variable name can be typed into an empty code cell.\n",
    "\n",
    "```{python}\n",
    "a\n",
    "```\n",
    "\n",
    "A code cell will only output its last value.\n",
    "To see more than one value per code cell,\n",
    "the built-in function `print()` can be used.\n",
    "When using Python from an interface that is not interactive like the Jupyter Notebook,\n",
    "such as when executing a set of Python instructions together as a script,\n",
    "the `print()` function is suitable choice for displaying output.\n",
    "\n",
    "```{python}\n",
    "print(a)\n",
    "type(a)\n",
    "```\n",
    "\n",
    "Numbers with a decimal component are referred to as floats.\n",
    "\n",
    "```{python}\n",
    "type(3.14)\n",
    "```\n",
    "\n",
    "Text is of the type `str`,\n",
    "which stands for \"string\".\n",
    "Strings hold sequences of characters,\n",
    "which can be letters, numbers, punctuation, or more exotic forms of text (even emojis!).\n",
    "\n",
    "```{python}\n",
    "print(type(b))\n",
    "b\n",
    "```\n",
    "\n",
    "The output from `type()` is formatted slightly differently when it is printed."
   ]
  },
  {
   "cell_type": "markdown",
   "metadata": {
    "toc-hr-collapsed": true
   },
   "source": [
    "## Packages\n",
    "\n",
    "Certain functions,\n",
    "like the ones we used above,\n",
    "are considered essential for the Python programming language,\n",
    "and are installed together with Python automatically.\n",
    "Other highly useful,\n",
    "but often more domain specific functionality,\n",
    "can be accessed separately in the form of Python packages.\n",
    "A package is essentially a set of related functions bundled together\n",
    "in a format that is easy to install.\n",
    "Since there are so many packages available,\n",
    "it is not feasible to include all of them with the default Python installation\n",
    "(it would be as if your new phone came with every single app from the app/playstore preinstalled).\n",
    "Instead,\n",
    "Python packages can be downloaded from central repositories online and installed as needed.\n",
    "The Anaconda Python distribution already bundles the core Python language\n",
    "with many of the most effective Python packages for data analysis,\n",
    "so for this tutorial we don't need to install anything."
   ]
  },
  {
   "cell_type": "markdown",
   "metadata": {},
   "source": [
    "### Installing packages\n",
    "\n",
    "*This section is only included as a reference for learners to rely on from home.\n",
    "It can be skipped or covered conceptually during the workshop.*\n",
    "\n",
    "After Anaconda has been installed on your system,\n",
    "you can use the command line `conda` package manager\n",
    "or the GUI-driven `anaconda-navigator` to install Python packages.\n",
    "For comprehensive instructions on both of these,\n",
    "refer to the [official documentation].\n",
    "Brief step-by-step instructions to get up and running with `conda` follow.\n",
    "\n",
    "1. To install a new Python package from the Anaconda repositories,\n",
    "   run `conda install <package name>` in a terminal.\n",
    "   You can also use the `pip` package manager,\n",
    "   but it will be easier to keep track of packages by sticking to one installation method.\n",
    "2. Some packages are not available in the default Anaconda repositories.\n",
    "   User contributed packaged are available in Anaconda \"channels\",\n",
    "   use `anaconda search -t conda <package name>`,\n",
    "   to find a channel with the desired package.\n",
    "   To install this package,\n",
    "   use `conda install -c <channel name> <package name>`.\n",
    "   The [conda forge channel](https://conda-forge.github.io/) channel has many of the packages not in the default repositories.\n",
    "\n",
    "[offical documentation]: https://docs.continuum.io/anaconda/#navigator-or-conda"
   ]
  },
  {
   "cell_type": "markdown",
   "metadata": {},
   "source": [
    "### Using packages\n",
    "\n",
    "As in spreadsheet software menus,\n",
    "there are lots of different tools within each Python package.\n",
    "For example,\n",
    "if you want to use numerical Python functions,\n",
    "you can import the **num**erical **py**thon module,\n",
    "`numpy`.\n",
    "You can then access any function by writing `numpy.<function_name>`."
   ]
  },
  {
   "cell_type": "code",
   "execution_count": 6,
   "metadata": {},
   "outputs": [
    {
     "data": {
      "text/plain": [
       "3.0"
      ]
     },
     "execution_count": 6,
     "metadata": {},
     "output_type": "execute_result"
    }
   ],
   "source": [
    "import numpy\n",
    "\n",
    "numpy.mean([1, 2, 3, 4, 5])"
   ]
  },
  {
   "cell_type": "markdown",
   "metadata": {},
   "source": [
    "It is common to give packages nicknames,\n",
    "to reduce typing.\n",
    "This is not necessary,\n",
    "but it makes code less verbose and easier to read."
   ]
  },
  {
   "cell_type": "code",
   "execution_count": 7,
   "metadata": {},
   "outputs": [
    {
     "data": {
      "text/plain": [
       "3.0"
      ]
     },
     "execution_count": 7,
     "metadata": {},
     "output_type": "execute_result"
    }
   ],
   "source": [
    "import numpy as np\n",
    "\n",
    "np.mean([1, 2, 3, 4, 5])"
   ]
  },
  {
   "cell_type": "markdown",
   "metadata": {},
   "source": [
    "### How to get help with packages and functions\n",
    "\n",
    "Once you start out using Python,\n",
    "you don't know what functions are available within each package.\n",
    "Luckily,\n",
    "in the Jupyter notebook,\n",
    "you can type `numpy.`<kbd>Tab</kbd> (that is numpy + period + tab-key)\n",
    "and a small menu will pop up that shows you all the available functions in that module.\n",
    "This is analogous to clicking a 'numpy-menu'\n",
    "and then going through its list of functions.\n",
    "As mentioned earlier,\n",
    "there are plenty of available functions\n",
    "and it can be helpful to filter tab autocompletion menu by typing some letters in the function name.\n",
    "\n",
    "To get more info on the function you want to use,\n",
    "you can type out the full name and then press <kbd>Shift + Tab</kbd>\n",
    "to bring up a help dialogue and again to expand that dialogue.\n",
    "We can see that to use the `mean()` function,\n",
    "we need to supply it with an argument (`a`),\n",
    "which should be 'array-like'.\n",
    "An array is essentially just a sequence of items.\n",
    "We just saw that one way of doing this was to enclose numbers in brackets `[]`,\n",
    "which in Python means that these numbers are in a list,\n",
    "something you will hear more about later.\n",
    "Instead of manually activating the help every time,\n",
    "JupyterLab offers a tool called \"Contextual Help\",\n",
    "which displays help information as you type.\n",
    "Open it via the menu (`Help --> Show Contextual Help`)\n",
    "and drag the tab side by side with the notebook.\n",
    "When you start getting familiar with typing function names,\n",
    "you will notice that this is often faster than looking for functions in menus.\n",
    "However,\n",
    "sometimes you forget and it is useful to get hints via the help system described above."
   ]
  },
  {
   "cell_type": "markdown",
   "metadata": {},
   "source": [
    "## Comparisons\n",
    "\n",
    "Python also allows to use comparison and logic operators\n",
    "(`<`, `>`, `==`, `!=`, `<=`, `>=`, `and`, `or`, `not`),\n",
    "which will return either `True` or `False`."
   ]
  },
  {
   "cell_type": "code",
   "execution_count": 33,
   "metadata": {},
   "outputs": [
    {
     "data": {
      "text/plain": [
       "False"
      ]
     },
     "execution_count": 33,
     "metadata": {},
     "output_type": "execute_result"
    }
   ],
   "source": [
    "3 > 4"
   ]
  },
  {
   "cell_type": "markdown",
   "metadata": {},
   "source": [
    "`not` reverses the outcome from a comparison."
   ]
  },
  {
   "cell_type": "code",
   "execution_count": 34,
   "metadata": {},
   "outputs": [
    {
     "data": {
      "text/plain": [
       "True"
      ]
     },
     "execution_count": 34,
     "metadata": {},
     "output_type": "execute_result"
    }
   ],
   "source": [
    "not 3 > 4"
   ]
  },
  {
   "cell_type": "markdown",
   "metadata": {},
   "source": [
    "`and` checks if both comparisons are `True`."
   ]
  },
  {
   "cell_type": "code",
   "execution_count": 35,
   "metadata": {},
   "outputs": [
    {
     "data": {
      "text/plain": [
       "False"
      ]
     },
     "execution_count": 35,
     "metadata": {},
     "output_type": "execute_result"
    }
   ],
   "source": [
    "3 > 4 and 5 > 1"
   ]
  },
  {
   "cell_type": "markdown",
   "metadata": {},
   "source": [
    "`or` checks if *at least* one of the comparisons are `True`."
   ]
  },
  {
   "cell_type": "code",
   "execution_count": 36,
   "metadata": {},
   "outputs": [
    {
     "data": {
      "text/plain": [
       "True"
      ]
     },
     "execution_count": 36,
     "metadata": {},
     "output_type": "execute_result"
    }
   ],
   "source": [
    "3 > 4 or 5 > 1"
   ]
  },
  {
   "cell_type": "markdown",
   "metadata": {},
   "source": [
    "The type of the resulting `True` or `False` value is called \"boolean\"."
   ]
  },
  {
   "cell_type": "code",
   "execution_count": 37,
   "metadata": {},
   "outputs": [
    {
     "data": {
      "text/plain": [
       "bool"
      ]
     },
     "execution_count": 37,
     "metadata": {},
     "output_type": "execute_result"
    }
   ],
   "source": [
    "type(True)"
   ]
  },
  {
   "cell_type": "markdown",
   "metadata": {},
   "source": [
    "Boolean comparison like these are important\n",
    "when extracting specific values from a larger set of values.\n",
    "This use case will be explored in detail later in this material,\n",
    "when we need to filter observations that meet a specific criteria.\n",
    "\n",
    "Another common use of boolean comparison is with conditional statement,\n",
    "where the code after the comparison only is executed if the comparison is `True`."
   ]
  },
  {
   "cell_type": "code",
   "execution_count": 38,
   "metadata": {},
   "outputs": [
    {
     "name": "stdout",
     "output_type": "stream",
     "text": [
      "a is not 4\n"
     ]
    }
   ],
   "source": [
    "if a == 4:\n",
    "    print('a is 4')\n",
    "else:\n",
    "    print('a is not 4')"
   ]
  },
  {
   "cell_type": "code",
   "execution_count": 39,
   "metadata": {},
   "outputs": [
    {
     "data": {
      "text/plain": [
       "5"
      ]
     },
     "execution_count": 39,
     "metadata": {},
     "output_type": "execute_result"
    }
   ],
   "source": [
    "a"
   ]
  },
  {
   "cell_type": "markdown",
   "metadata": {},
   "source": [
    "Note that the second line in the example above is indented.\n",
    "Indentation is important in Python,\n",
    "and the Python interpreter uses it to understand\n",
    "that the code in the indented block\n",
    "will only be executed if the conditional statement above is `True`.\n",
    "\n",
    "> Challenge 1\n",
    "> 1. Assign `a*2` to the variable name `two_a`.\n",
    "> 2. Change the value of `a` to `3`. What is the value of `two_a` now, `6` or `10`?"
   ]
  },
  {
   "cell_type": "markdown",
   "metadata": {
    "toc-hr-collapsed": true
   },
   "source": [
    "## Array-like Python types"
   ]
  },
  {
   "cell_type": "markdown",
   "metadata": {},
   "source": [
    "### Lists\n",
    "\n",
    "Lists are a suitable data structure for holding a sequence of elements."
   ]
  },
  {
   "cell_type": "code",
   "execution_count": null,
   "metadata": {},
   "outputs": [],
   "source": [
    "planets = ['Earth', 'Mars', 'Venus']\n",
    "planets"
   ]
  },
  {
   "cell_type": "markdown",
   "metadata": {},
   "source": [
    "Each element can be accessed by an index.\n",
    "Note that Python indices start with 0 instead of 1."
   ]
  },
  {
   "cell_type": "code",
   "execution_count": null,
   "metadata": {},
   "outputs": [],
   "source": [
    "planets[0]"
   ]
  },
  {
   "cell_type": "markdown",
   "metadata": {},
   "source": [
    "You can index from the end of the list by prefixing with a minus sign."
   ]
  },
  {
   "cell_type": "code",
   "execution_count": null,
   "metadata": {},
   "outputs": [],
   "source": [
    "planets[-1]"
   ]
  },
  {
   "cell_type": "markdown",
   "metadata": {},
   "source": [
    "Multiple elements can be selected via slicing."
   ]
  },
  {
   "cell_type": "code",
   "execution_count": 41,
   "metadata": {},
   "outputs": [
    {
     "data": {
      "text/plain": [
       "['Earth', 'Mars']"
      ]
     },
     "execution_count": 41,
     "metadata": {},
     "output_type": "execute_result"
    }
   ],
   "source": [
    "planets[0:2]"
   ]
  },
  {
   "cell_type": "markdown",
   "metadata": {},
   "source": [
    "Slicing is inclusive of the start of the range and exclusive of the end,\n",
    "so `0:2` returns list elements `0` and `1`.\n",
    "\n",
    "Either the start or the end number of the range can be excluded\n",
    "to include all items from the beginning or to the end of the list,\n",
    "respectively."
   ]
  },
  {
   "cell_type": "code",
   "execution_count": null,
   "metadata": {},
   "outputs": [],
   "source": [
    "# Same as [0:2]\n",
    "planets[:2]"
   ]
  },
  {
   "cell_type": "markdown",
   "metadata": {},
   "source": [
    "To add items to the list,\n",
    "the addition operator can be used together with a list of the items to be added."
   ]
  },
  {
   "cell_type": "code",
   "execution_count": 43,
   "metadata": {},
   "outputs": [
    {
     "data": {
      "text/plain": [
       "['Earth', 'Mars', 'Venus', 'Neptune']"
      ]
     },
     "execution_count": 43,
     "metadata": {},
     "output_type": "execute_result"
    }
   ],
   "source": [
    "planets = planets + ['Neptune']\n",
    "planets"
   ]
  },
  {
   "cell_type": "markdown",
   "metadata": {},
   "source": [
    "### Loops\n",
    "\n",
    "A loop can be used to access the elements in a list\n",
    "or other Python data structure one at a time."
   ]
  },
  {
   "cell_type": "code",
   "execution_count": 44,
   "metadata": {},
   "outputs": [
    {
     "name": "stdout",
     "output_type": "stream",
     "text": [
      "Earth\n",
      "Mars\n",
      "Venus\n",
      "Neptune\n"
     ]
    }
   ],
   "source": [
    "for planet in planets:\n",
    "    print(planet)"
   ]
  },
  {
   "cell_type": "markdown",
   "metadata": {},
   "source": [
    "The variable `planet` is recreated for every iteration in the loop\n",
    "until the list `planets` has been exhausted. \n",
    "\n",
    "Operation can be performed with elements inside loops."
   ]
  },
  {
   "cell_type": "code",
   "execution_count": 45,
   "metadata": {},
   "outputs": [
    {
     "name": "stdout",
     "output_type": "stream",
     "text": [
      "I live on Earth\n",
      "I live on Mars\n",
      "I live on Venus\n",
      "I live on Neptune\n"
     ]
    }
   ],
   "source": [
    "for planet in planets:\n",
    "    print('I live on ' + planet)"
   ]
  },
  {
   "cell_type": "markdown",
   "metadata": {},
   "source": [
    "### Tuples\n",
    "\n",
    "A tuple is similar to a list in that it's a sequence of elements.\n",
    "However,\n",
    "tuples can not be changed once created (they are \"immutable\").\n",
    "Tuples are created by separating values with a comma\n",
    "(and for clarity these are commonly surrounded by parentheses).\n"
   ]
  },
  {
   "cell_type": "code",
   "execution_count": 46,
   "metadata": {},
   "outputs": [],
   "source": [
    "a_tuple = (1, 2, 3)\n",
    "another_tuple = ('blue', 'green', 'red')"
   ]
  },
  {
   "cell_type": "markdown",
   "metadata": {},
   "source": [
    "> ## Challenge - Tuples\n",
    "> 1. Type `type(a_tuple)` into Python - what is the object type?\n",
    "> 2. What happens when you type `a_tuple[2] = 5` vs `planets[1] = 5` ?"
   ]
  },
  {
   "cell_type": "markdown",
   "metadata": {},
   "source": [
    "## Dictionaries\n",
    "\n",
    "A dictionary is a container that holds pairs of objects:\n",
    "keys and values."
   ]
  },
  {
   "cell_type": "code",
   "execution_count": 47,
   "metadata": {},
   "outputs": [
    {
     "data": {
      "text/plain": [
       "{'banana': 'yellow', 'strawberry': 'red'}"
      ]
     },
     "execution_count": 47,
     "metadata": {},
     "output_type": "execute_result"
    }
   ],
   "source": [
    "fruit_colors = {'banana': 'yellow', 'strawberry': 'red'}\n",
    "fruit_colors"
   ]
  },
  {
   "cell_type": "markdown",
   "metadata": {},
   "source": [
    "Dictionaries are indexed with *keys*.\n",
    "Think about a key as a unique identifier for a set of values in the dictionary.\n",
    "Keys can only have particular types:\n",
    "they have to be \"hashable\".\n",
    "Strings and numeric types are acceptable,\n",
    "but lists aren't."
   ]
  },
  {
   "cell_type": "code",
   "execution_count": 48,
   "metadata": {},
   "outputs": [
    {
     "data": {
      "text/plain": [
       "'yellow'"
      ]
     },
     "execution_count": 48,
     "metadata": {},
     "output_type": "execute_result"
    }
   ],
   "source": [
    "fruit_colors['banana']"
   ]
  },
  {
   "cell_type": "markdown",
   "metadata": {},
   "source": [
    "To add an item to the dictionary,\n",
    "a value is assigned to a new dictionary key."
   ]
  },
  {
   "cell_type": "code",
   "execution_count": 49,
   "metadata": {},
   "outputs": [
    {
     "data": {
      "text/plain": [
       "{'banana': 'yellow', 'strawberry': 'red', 'apple': 'green'}"
      ]
     },
     "execution_count": 49,
     "metadata": {},
     "output_type": "execute_result"
    }
   ],
   "source": [
    "fruit_colors['apple'] = 'green'\n",
    "fruit_colors"
   ]
  },
  {
   "cell_type": "markdown",
   "metadata": {},
   "source": [
    "Using loops with dictionaries iterates over the keys by default."
   ]
  },
  {
   "cell_type": "code",
   "execution_count": 50,
   "metadata": {},
   "outputs": [
    {
     "name": "stdout",
     "output_type": "stream",
     "text": [
      "banana yellow\n",
      "strawberry red\n",
      "apple green\n"
     ]
    }
   ],
   "source": [
    "for fruit in fruit_colors:\n",
    "    print(fruit, fruit_colors[fruit])"
   ]
  },
  {
   "cell_type": "markdown",
   "metadata": {},
   "source": [
    "Trying to use a non-existing key,\n",
    "e.g. from making a typo,\n",
    "throws an error message."
   ]
  },
  {
   "cell_type": "code",
   "execution_count": 51,
   "metadata": {},
   "outputs": [
    {
     "ename": "KeyError",
     "evalue": "'bannana'",
     "output_type": "error",
     "traceback": [
      "\u001b[0;31m---------------------------------------------------------------------------\u001b[0m",
      "\u001b[0;31mKeyError\u001b[0m                                  Traceback (most recent call last)",
      "\u001b[0;32m<ipython-input-51-84b86acf3267>\u001b[0m in \u001b[0;36m<module>\u001b[0;34m()\u001b[0m\n\u001b[0;32m----> 1\u001b[0;31m \u001b[0mfruit_colors\u001b[0m\u001b[0;34m[\u001b[0m\u001b[0;34m'bannana'\u001b[0m\u001b[0;34m]\u001b[0m\u001b[0;34m\u001b[0m\u001b[0m\n\u001b[0m",
      "\u001b[0;31mKeyError\u001b[0m: 'bannana'"
     ]
    }
   ],
   "source": [
    "fruit_colors['bannana']"
   ]
  },
  {
   "cell_type": "markdown",
   "metadata": {},
   "source": [
    "This error message is commonly referred to as a \"traceback\",\n",
    "since you can use it to *trace back* what has gone awry.\n",
    "The message pinpoints what line in the code cell resulted in an error,\n",
    "by pointing at it with an arrow (`---->`).\n",
    "This is helpful in figuring out what went wrong,\n",
    "especially when many lines of code are executed simultaneously.\n",
    "\n",
    "> ## Challenge - Can you do reassignment in a dictionary?\n",
    ">\n",
    "> 1. In the `fruit_colors` dictionary, change the color of `apple` to `'red'`.\n",
    "> 2. Loop through the `fruit_colors` dictionary and print the key only **if** the value of that key points to in the dictionary is `'red'`."
   ]
  },
  {
   "cell_type": "markdown",
   "metadata": {},
   "source": [
    "## Writing functions\n",
    "\n",
    "We have already seen how to use preexisting functions, \n",
    "now let's see how we can create our own.\n",
    "Defining a section of code as a function in Python is done using the `def` keyword.\n",
    "For example,\n",
    "a function that takes two arguments and returns their sum can be defined as follows:"
   ]
  },
  {
   "cell_type": "code",
   "execution_count": 52,
   "metadata": {},
   "outputs": [],
   "source": [
    "def subtract_function(a, b):\n",
    "    result = a - b\n",
    "    return result"
   ]
  },
  {
   "cell_type": "markdown",
   "metadata": {},
   "source": [
    "There is not output until we call the function."
   ]
  },
  {
   "cell_type": "code",
   "execution_count": 53,
   "metadata": {},
   "outputs": [
    {
     "data": {
      "text/plain": [
       "3"
      ]
     },
     "execution_count": 53,
     "metadata": {},
     "output_type": "execute_result"
    }
   ],
   "source": [
    "subtract_function(a=8, b=5)"
   ]
  },
  {
   "cell_type": "markdown",
   "metadata": {},
   "source": [
    "`a` and `b` are called `parameters` and the values passed to them are `arguments`.\n",
    "If the name of the parameters are not specified in the function call,\n",
    "the arguments are assigned in the same order\n",
    "as the parameters are listed in the function definition."
   ]
  },
  {
   "cell_type": "code",
   "execution_count": 54,
   "metadata": {},
   "outputs": [
    {
     "data": {
      "text/plain": [
       "3"
      ]
     },
     "execution_count": 54,
     "metadata": {},
     "output_type": "execute_result"
    }
   ],
   "source": [
    "subtract_function(8, 5)"
   ]
  },
  {
   "cell_type": "markdown",
   "metadata": {},
   "source": [
    "If the parameter names are specified,\n",
    "they can be in any order."
   ]
  },
  {
   "cell_type": "code",
   "execution_count": 55,
   "metadata": {},
   "outputs": [
    {
     "data": {
      "text/plain": [
       "-3"
      ]
     },
     "execution_count": 55,
     "metadata": {},
     "output_type": "execute_result"
    }
   ],
   "source": [
    "subtract_function(b=8, a=5)"
   ]
  },
  {
   "cell_type": "markdown",
   "metadata": {},
   "source": [
    "The result from a function can be assigned to a variable"
   ]
  },
  {
   "cell_type": "code",
   "execution_count": 56,
   "metadata": {},
   "outputs": [
    {
     "data": {
      "text/plain": [
       "3"
      ]
     },
     "execution_count": 56,
     "metadata": {},
     "output_type": "execute_result"
    }
   ],
   "source": [
    "z = subtract_function(8, 5)\n",
    "z"
   ]
  },
  {
   "cell_type": "markdown",
   "metadata": {},
   "source": [
    "A function can return more than one value."
   ]
  },
  {
   "cell_type": "code",
   "execution_count": 57,
   "metadata": {},
   "outputs": [
    {
     "data": {
      "text/plain": [
       "(3, 6)"
      ]
     },
     "execution_count": 57,
     "metadata": {},
     "output_type": "execute_result"
    }
   ],
   "source": [
    "def subtract_function_2(a, b):\n",
    "    result = a - b\n",
    "    return result, 2 * result\n",
    "\n",
    "subtract_function_2(4, 1)"
   ]
  },
  {
   "cell_type": "markdown",
   "metadata": {},
   "source": [
    "Which can be assigned to a single value as a tuple."
   ]
  },
  {
   "cell_type": "code",
   "execution_count": null,
   "metadata": {},
   "outputs": [],
   "source": [
    "z = subtract_function_2(4, 1)\n",
    "z"
   ]
  },
  {
   "cell_type": "markdown",
   "metadata": {},
   "source": [
    "Or to two variables."
   ]
  },
  {
   "cell_type": "code",
   "execution_count": null,
   "metadata": {},
   "outputs": [],
   "source": [
    "z, x = subtract_function_2(4, 1)\n",
    "z"
   ]
  },
  {
   "cell_type": "code",
   "execution_count": 60,
   "metadata": {},
   "outputs": [
    {
     "data": {
      "text/plain": [
       "6"
      ]
     },
     "execution_count": 60,
     "metadata": {},
     "output_type": "execute_result"
    }
   ],
   "source": [
    "x"
   ]
  },
  {
   "cell_type": "markdown",
   "metadata": {},
   "source": [
    "It is helpful to include a description of the function,\n",
    "which in Python is referred to as a \"docstring\".\n",
    "There is a special syntax for this in Python,\n",
    "which ensures that the message shows up in the help messages we used previously."
   ]
  },
  {
   "cell_type": "code",
   "execution_count": 61,
   "metadata": {},
   "outputs": [],
   "source": [
    "def subtract_function(a, b):\n",
    "    \"\"\"This subtracts b from a\"\"\"\n",
    "    result = a - b\n",
    "    return result"
   ]
  },
  {
   "cell_type": "markdown",
   "metadata": {},
   "source": [
    "Just as before, the `?` can be used to get help for the function."
   ]
  },
  {
   "cell_type": "code",
   "execution_count": 62,
   "metadata": {},
   "outputs": [
    {
     "data": {
      "text/plain": [
       "\u001b[0;31mSignature:\u001b[0m \u001b[0msubtract_function\u001b[0m\u001b[0;34m(\u001b[0m\u001b[0ma\u001b[0m\u001b[0;34m,\u001b[0m \u001b[0mb\u001b[0m\u001b[0;34m)\u001b[0m\u001b[0;34m\u001b[0m\u001b[0m\n",
       "\u001b[0;31mDocstring:\u001b[0m This subtracts b from a\n",
       "\u001b[0;31mFile:\u001b[0m      ~/proj/uoftcoders/workshops/2018-09-10-utoronto/code/<ipython-input-61-48e2ec4422d0>\n",
       "\u001b[0;31mType:\u001b[0m      function\n"
      ]
     },
     "metadata": {},
     "output_type": "display_data"
    }
   ],
   "source": [
    "?subtract_function"
   ]
  },
  {
   "cell_type": "markdown",
   "metadata": {},
   "source": [
    "It is important to write a clear description of the function,\n",
    "but extensive docstring coverage is outside the scope of this material.\n",
    "Packages often have their own guidelines of how to write docstrings,\n",
    "the [pandas docstring guide] describes a good set of conventions to follow.\n",
    "\n",
    "[pandas docstring guide]: https://pandas.pydata.org/pandas-docs/stable/development/contributing_docstring.html#docstring\n",
    "\n",
    "It is possible to inspect the source code of a function by using double `?`\n",
    "(this can be quite complex for complicated functions)."
   ]
  },
  {
   "cell_type": "code",
   "execution_count": 63,
   "metadata": {},
   "outputs": [
    {
     "data": {
      "text/plain": [
       "\u001b[0;31mSignature:\u001b[0m \u001b[0msubtract_function\u001b[0m\u001b[0;34m(\u001b[0m\u001b[0ma\u001b[0m\u001b[0;34m,\u001b[0m \u001b[0mb\u001b[0m\u001b[0;34m)\u001b[0m\u001b[0;34m\u001b[0m\u001b[0m\n",
       "\u001b[0;31mSource:\u001b[0m   \n",
       "\u001b[0;32mdef\u001b[0m \u001b[0msubtract_function\u001b[0m\u001b[0;34m(\u001b[0m\u001b[0ma\u001b[0m\u001b[0;34m,\u001b[0m \u001b[0mb\u001b[0m\u001b[0;34m)\u001b[0m\u001b[0;34m:\u001b[0m\u001b[0;34m\u001b[0m\n",
       "\u001b[0;34m\u001b[0m    \u001b[0;34m\"\"\"This subtracts b from a\"\"\"\u001b[0m\u001b[0;34m\u001b[0m\n",
       "\u001b[0;34m\u001b[0m    \u001b[0mresult\u001b[0m \u001b[0;34m=\u001b[0m \u001b[0ma\u001b[0m \u001b[0;34m-\u001b[0m \u001b[0mb\u001b[0m\u001b[0;34m\u001b[0m\n",
       "\u001b[0;34m\u001b[0m    \u001b[0;32mreturn\u001b[0m \u001b[0mresult\u001b[0m\u001b[0;34m\u001b[0m\u001b[0m\n",
       "\u001b[0;31mFile:\u001b[0m      ~/proj/uoftcoders/workshops/2018-09-10-utoronto/code/<ipython-input-61-48e2ec4422d0>\n",
       "\u001b[0;31mType:\u001b[0m      function\n"
      ]
     },
     "metadata": {},
     "output_type": "display_data"
    }
   ],
   "source": [
    "??subtract_function"
   ]
  },
  {
   "cell_type": "markdown",
   "metadata": {},
   "source": [
    "Much of the power from languages such as Python comes from community contributed functions and packages\n",
    "written by talented people and shared openly,\n",
    "so that anyone can use them instead of reinventing the wheel.\n",
    "\n"
   ]
  }
 ],
 "metadata": {
  "jupytext": {
   "formats": "ipynb,rmd//Rmd"
  },
  "kernelspec": {
   "display_name": "Python 3",
   "language": "python",
   "name": "python3"
  },
  "language_info": {
   "codemirror_mode": {
    "name": "ipython",
    "version": 3
   },
   "file_extension": ".py",
   "mimetype": "text/x-python",
   "name": "python",
   "nbconvert_exporter": "python",
   "pygments_lexer": "ipython3",
   "version": "3.7.3"
  },
  "toc": {
   "number_sections": false,
   "sideBar": true
  }
 },
 "nbformat": 4,
 "nbformat_minor": 4
}
